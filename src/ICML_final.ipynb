{
 "cells": [
  {
   "cell_type": "code",
   "execution_count": 1,
   "id": "0cf38120",
   "metadata": {
    "ExecuteTime": {
     "end_time": "2021-06-10T04:40:24.874487Z",
     "start_time": "2021-06-10T04:40:24.850722Z"
    }
   },
   "outputs": [],
   "source": [
    "%load_ext autoreload\n",
    "%autoreload 2"
   ]
  },
  {
   "cell_type": "code",
   "execution_count": 2,
   "id": "b6ca23d8",
   "metadata": {
    "ExecuteTime": {
     "end_time": "2021-06-10T04:40:26.260924Z",
     "start_time": "2021-06-10T04:40:25.876893Z"
    }
   },
   "outputs": [],
   "source": [
    "import sys\n",
    "import numpy as np\n",
    "import pandas as pd\n",
    "import scipy\n",
    "import scipy.io\n",
    "import os\n",
    "import math\n",
    "import pdb"
   ]
  },
  {
   "cell_type": "code",
   "execution_count": 5,
   "id": "12b682e7",
   "metadata": {
    "ExecuteTime": {
     "end_time": "2021-06-10T04:40:28.096287Z",
     "start_time": "2021-06-10T04:40:27.110183Z"
    }
   },
   "outputs": [],
   "source": [
    "from sklearn.pipeline import Pipeline\n",
    "from sklearn.preprocessing import StandardScaler\n",
    "from sklearn.model_selection import train_test_split, cross_val_score, ShuffleSplit, KFold, GridSearchCV\n",
    "from sklearn.metrics import accuracy_score\n",
    "from sklearn.ensemble import RandomForestClassifier\n",
    "from sklearn.svm import SVC, LinearSVC\n",
    "from sklearn.feature_selection import RFE, SelectKBest, f_classif, mutual_info_classif\n",
    "from skfeature.function.sparse_learning_based import RFS\n",
    "\n",
    "import matplotlib.pyplot as plt\n",
    "import matplotlib\n",
    "import subprocess\n",
    "from multiprocessing import Pool\n",
    "\n",
    "import fourier_learning\n",
    "import time\n",
    "from datetime import datetime\n",
    "import pickle\n",
    "from skopt import BayesSearchCV\n",
    "from skopt.space import Real, Categorical, Integer\n",
    "\n",
    "from collections import defaultdict"
   ]
  },
  {
   "cell_type": "code",
   "execution_count": 6,
   "id": "d3887ed1",
   "metadata": {
    "ExecuteTime": {
     "end_time": "2021-06-10T04:40:29.462655Z",
     "start_time": "2021-06-10T04:40:29.386427Z"
    }
   },
   "outputs": [],
   "source": [
    "from skfeature.function.similarity_based import reliefF\n",
    "from skfeature.function.sparse_learning_based import MCFS\n",
    "from skfeature.utility import construct_W\n",
    "# from skfeature.utility.sparse_learning import feature_ranking\n",
    "from skfeature.utility.sparse_learning import construct_label_matrix, feature_ranking\n",
    "from skfeature.function.similarity_based import lap_score\n",
    "from skfeature.function.sparse_learning_based import UDFS\n",
    "from skfeature.function.sparse_learning_based import NDFS\n",
    "\n",
    "from tqdm import tqdm"
   ]
  },
  {
   "cell_type": "markdown",
   "id": "2bebe1b3",
   "metadata": {},
   "source": [
    "# Constants"
   ]
  },
  {
   "cell_type": "code",
   "execution_count": 7,
   "id": "dd82c170",
   "metadata": {
    "ExecuteTime": {
     "end_time": "2021-06-10T04:40:34.908178Z",
     "start_time": "2021-06-10T04:40:31.208395Z"
    }
   },
   "outputs": [
    {
     "name": "stdout",
     "output_type": "stream",
     "text": [
      "WARNING:tensorflow:From /home/jithin/anaconda3/envs/fs/lib/python3.8/site-packages/tensorflow/python/compat/v2_compat.py:96: disable_resource_variables (from tensorflow.python.ops.variable_scope) is deprecated and will be removed in a future version.\n",
      "Instructions for updating:\n",
      "non-resource variables are not supported in the long term\n"
     ]
    }
   ],
   "source": [
    "NO_RUNS = 5\n",
    "CLF_NAME = \"kernel SVM with RBF\"  # {\"kernel SVM with RBF\", \"random forest\"}\n",
    "\n",
    "UNSUPERVISED_FEAT_SEL = False\n",
    "SUPERVISED_FEAT_SEL = True\n",
    "\n",
    "# Existing supervised algorithms\n",
    "FEAT_SEL_ALGS_SUPERVISED = {\n",
    "    'FL-Depth-2': False,\n",
    "    'FL-Depth-1': False,\n",
    "    'FL': False,  # Fourier Learning exhaustive search\n",
    "    'SFFS': False,\n",
    "    'SFFS (exhaustive)': False,  # Fourier Learning exhaustive search\n",
    "    'UFFS + SFFS (t=3)': True,\n",
    "    'UFFS + SFFS (t=2)': True,\n",
    "    'UFFS + SFFS (t=1)': True,\n",
    "    'UFFS + SFFS (exhaustive)': False,  # Fourier Learning exhaustive search\n",
    "    'CCM': True,\n",
    "    'ReliefF': True,\n",
    "    'mRMR': True,\n",
    "    'MI': True,\n",
    "    'RFE': False,\n",
    "    'RFS': True,\n",
    "    'F-Value': False\n",
    "}\n",
    "\n",
    "# Existing unsupervised algorithms\n",
    "FEAT_SEL_ALGS_UNSUPERVISED = {\n",
    "    'UFFS': False,\n",
    "    'NO_FS': False,\n",
    "    'NDFS': False,\n",
    "    'UDFS': False,\n",
    "    'MCFS': False,\n",
    "    'LS': False\n",
    "}\n",
    "\n",
    "UFFS_CALCN_CV = True\n",
    "PARALLELIZE_CV = True\n",
    "UFFS_K = 200\n",
    "UFFS_FOLDS = True\n",
    "UFFS_SINGLE = False\n",
    "\n",
    "FIGSIZE_SCALE_REQD = 0.5\n",
    "\n",
    "# =============================================================================\n",
    "if FEAT_SEL_ALGS_SUPERVISED['CCM']:\n",
    "    sys.path.append('../lib/CCM/core')\n",
    "    import ccm_v1 as ccm\n",
    "\n",
    "# DON'T CHANGE IT\n",
    "ORTHOGONALIZE = False\n",
    "N_UNIQUE_CLASSES_Y = 20\n",
    "\n",
    "FEAT_SEL_ALGS_FN_LABEL = {\n",
    "    \"FL\": \"fourier-learning\",\n",
    "    \"FL-Depth-2\": \"fourier-learning_depth_2\",\n",
    "    \"FL-Depth-1\": \"fourier-learning_depth_1\",\n",
    "    \"UFFS + SFFS (t=3)\": \"UFFS + SFFS (t=3)\",\n",
    "    \"UFFS + SFFS (t=2)\": \"UFFS + SFFS (t=2)\",\n",
    "    \"UFFS + SFFS (t=1)\": \"UFFS + SFFS (t=1)\",\n",
    "    # Existing supervised algorithms\n",
    "    \"CCM\": \"ccm\",\n",
    "    \"ReliefF\": \"relieff\",\n",
    "    \"mRMR\": \"mrmr\",\n",
    "    \"RFE\": \"rfe\",\n",
    "    \"RFS\": \"rfs\",\n",
    "    \"MI\": \"mi\",\n",
    "    \"F-Value\": \"fval\",\n",
    "    # Existing unsupervised algorithms\n",
    "    \"NDFS\": True,\n",
    "    \"UDFS\": True,\n",
    "    \"MCFS\": True,\n",
    "    \"LS\": True\n",
    "}\n",
    "\n",
    "UNSUPERVISED_FEAT_SEL_ALGS_FN_LABEL = {\n",
    "    'NDFS': True,\n",
    "    'UDFS': True,\n",
    "    'MCFS': True,\n",
    "    \"LAP_SCORE\": \"lap_score\"\n",
    "}"
   ]
  },
  {
   "cell_type": "markdown",
   "id": "a5e6674b",
   "metadata": {},
   "source": [
    "# Figure settings"
   ]
  },
  {
   "cell_type": "code",
   "execution_count": 8,
   "id": "1e0d3dce",
   "metadata": {
    "ExecuteTime": {
     "end_time": "2021-06-10T04:40:37.312420Z",
     "start_time": "2021-06-10T04:40:37.241278Z"
    }
   },
   "outputs": [],
   "source": [
    "# Figure settings =============================================================\n",
    "\n",
    "def figsize(scale):\n",
    "    fig_width_pt = 503.295     # Get this from LaTeX using \\the\\textwidth\n",
    "    inches_per_pt = 1.0/72.27   # Convert pt to inch\n",
    "    # Aesthetic ratio (you could change this)\n",
    "    golden_mean = (np.sqrt(5.0)-1.0)/2.0\n",
    "    fig_width = fig_width_pt*inches_per_pt*scale  # width in inches\n",
    "    fig_height = fig_width*golden_mean  # height in inches\n",
    "    fig_size = [fig_width, fig_height]\n",
    "    return fig_size\n",
    "\n",
    "\n",
    "pgf_with_latex = {                      # setup matplotlib to use latex for output\n",
    "    \"pgf.texsystem\": \"pdflatex\",        # change this if using xetex or lautex\n",
    "    \"text.usetex\": True,                # use LaTeX to write all text\n",
    "    \"font.family\": \"serif\",\n",
    "    # blank entries should cause plots to inherit fonts from the document\n",
    "    \"font.serif\": [],\n",
    "    \"font.sans-serif\": [],\n",
    "    \"font.monospace\": [],\n",
    "    \"axes.labelsize\": 10,               # LaTeX default is 10pt font.\n",
    "    \"font.size\": 8,\n",
    "    \"legend.fontsize\": 8,               # Make the legend/label fonts a little smaller\n",
    "    \"xtick.labelsize\": 8,\n",
    "    \"ytick.labelsize\": 8,\n",
    "    \"figure.figsize\": figsize(0.9),     # default fig size of 0.9 textwidth\n",
    "}\n",
    "matplotlib.rcParams.update(pgf_with_latex)\n",
    "\n",
    "cust_color = [\"#e41a1c\", \"#377eb8\", \"#4daf4a\", \"#984ea3\",\n",
    "              \"#ff7f00\", \"#ffff33\", \"#a65628\", \"#f781bf\"]\n",
    "matplotlib.rcParams['savefig.dpi'] = 125\n",
    "matplotlib.rcParams['text.latex.preamble'] = r\"\\usepackage{amsmath,amssymb,amsfonts}\"\n",
    "# ============================================================================="
   ]
  },
  {
   "cell_type": "markdown",
   "id": "0305a346",
   "metadata": {},
   "source": [
    "# Load data"
   ]
  },
  {
   "cell_type": "code",
   "execution_count": 9,
   "id": "f6773eb4",
   "metadata": {
    "ExecuteTime": {
     "end_time": "2021-06-10T04:40:39.585433Z",
     "start_time": "2021-06-10T04:40:39.519644Z"
    }
   },
   "outputs": [],
   "source": [
    "def load_data(data_name):\n",
    "    try:\n",
    "        file = \"../data/icml_paper/{0}.mat\".format(data_name)\n",
    "        temp_data = scipy.io.loadmat(file)\n",
    "        X, y = temp_data['X'], temp_data['Y'].squeeze()\n",
    "        if len(np.unique(y)) > 2:\n",
    "            type_y = 'categorical'\n",
    "        else:\n",
    "            type_y = 'binary'\n",
    "    except:\n",
    "        print(\"No valid data_name entered\")\n",
    "        sys.exit(2)\n",
    "        \n",
    "    if type_y == 'binary' or type_y == 'categorical':\n",
    "        if y.dtype != np.int:\n",
    "            y = y.astype(np.int, copy=False)\n",
    "\n",
    "    return X, y, type_y"
   ]
  },
  {
   "cell_type": "markdown",
   "id": "d5202f9a",
   "metadata": {},
   "source": [
    "# Utilities"
   ]
  },
  {
   "cell_type": "code",
   "execution_count": 8,
   "id": "f01f7ce6",
   "metadata": {
    "ExecuteTime": {
     "end_time": "2021-06-10T04:40:41.878361Z",
     "start_time": "2021-06-10T04:40:41.813519Z"
    }
   },
   "outputs": [],
   "source": [
    "# Helper function to call supervised fourier selection\n",
    "def fourier_feature_selection(X, y, k, approx=\"depth_based\", depth=2):\n",
    "    mean_emp = np.mean(X, axis=0)\n",
    "    std_emp = np.std(X, ddof=1, axis=0)\n",
    "    fourier_featsel = fourier_learning.SupervisedFourierFS(\n",
    "        k, mean_emp, std_emp, approx, depth)\n",
    "    feats_selected = fourier_featsel.fit(X, y)\n",
    "    return feats_selected\n",
    "\n",
    "\n",
    "# Helper function to call the classifier using only the selected features\n",
    "def clf_score_with_feature_selection(X_train, y_train, X_test, y_test, clf, feats_selected):\n",
    "    X_sel_train = X_train[:, feats_selected]\n",
    "    X_sel_test = X_test[:, feats_selected]\n",
    "\n",
    "    clf.fit(X_sel_train, y_train)\n",
    "    y_sel_pred = clf.predict(X_sel_test)\n",
    "    return accuracy_score(y_test, y_sel_pred)\n",
    "\n",
    "\n",
    "# Condiational co-variance feature selection\n",
    "def ccm_feature_selection(X, y, type_y):\n",
    "    epsilon = 0.001\n",
    "    _, d = X.shape\n",
    "    if d <= 100:\n",
    "        num_features = math.ceil(d / 5)\n",
    "    else:\n",
    "        num_features = 100\n",
    "    rank_ccm = ccm.ccm(X, y, num_features, type_y, epsilon,\n",
    "                       iterations=100, verbose=False)\n",
    "    all_feats_selected = np.argsort(rank_ccm)\n",
    "    return all_feats_selected"
   ]
  },
  {
   "cell_type": "code",
   "execution_count": 9,
   "id": "9524c53e",
   "metadata": {
    "ExecuteTime": {
     "end_time": "2021-06-10T04:40:44.810178Z",
     "start_time": "2021-06-10T04:40:44.723420Z"
    }
   },
   "outputs": [],
   "source": [
    "# def supervised_fs(X_train, y_train, type_y, feat_selection, sel_features_UFFS_X=[]):\n",
    "def supervised_fs(X_train, y_train, type_y, feat_selection):\n",
    "    '''\n",
    "    Feature selection with single fold of cross validation: \n",
    "    for parallel implementation of cross validation\n",
    "\n",
    "    Arguments:\n",
    "        X: input data of one fold with columns as features and rows as samples\n",
    "        y: output lables of one fold\n",
    "        type_y: type of y - binary, categorical or real, for CCM feature selection\n",
    "        feat_selection: feature selection algorithm name\n",
    "        clf: classifier function\n",
    "        partitions: the set of all cross-validation partitions\n",
    "        k: partition index\n",
    "        sel_features_UFFS_X: set of all features selected by unsupervised Fourier feature selection \n",
    "                             if we use UFFS_SINGLE = True \n",
    "    '''\n",
    "\n",
    "    # Variance threshold --------------------------------------------------\n",
    "#     _, d = X_train.shape\n",
    "#     mask = (np.std(X_train, ddof=1, axis=0) > 1e-5)\n",
    "#     valid_features = np.arange(d)\n",
    "#     valid_features = valid_features[mask]\n",
    "\n",
    "#     if feat_selection in [\"fourier-learning_depth_1\", \"fourier-learning_depth_2\",\"UFFS + SFFS (t=2)\", \"UFFS + SFFS (t=1)\"]:\n",
    "#         X_train = X_train[:, sel_features_UFFS_X]\n",
    "    # ---------------------------------------------------------------------\n",
    "    _, d = X_train.shape\n",
    "\n",
    "    if feat_selection == \"ccm\":\n",
    "        all_feats_selected = ccm_feature_selection(X_train, y_train, type_y)\n",
    "    elif feat_selection == \"relieff\":\n",
    "        score_reliefF_temp = reliefF.reliefF(X_train, y_train)\n",
    "        # rank features in descending order according to score\n",
    "        all_feats_selected = reliefF.feature_ranking(score_reliefF_temp)[:d]\n",
    "    elif feat_selection == \"mrmr\":\n",
    "        # Prepare data\n",
    "        y_train = y_train.reshape(-1, 1)\n",
    "        a = [\"class\"] + [str(i) for i in range(0, d)]\n",
    "        df_mRMR = pd.DataFrame(data=np.concatenate(\n",
    "            (y_train, X_train), axis=1), columns=a)\n",
    "        df_mRMR.to_csv('../data/temp_mRMR_data.csv', index=False)\n",
    "        y_train = y_train.ravel()\n",
    "\n",
    "        # Call the C++ executable\n",
    "        command_mRMR = '../lib/mrmr_c_Peng/./mrmr -i ../data/temp_mRMR_data.csv -n {0}'.format(\n",
    "            d)\n",
    "        out_code = subprocess.call([command_mRMR], shell=True)\n",
    "        if out_code != 0:\n",
    "            print(\"something wrong\")\n",
    "            sys.exit(2)\n",
    "        all_feats_selected = np.loadtxt('out_temp.txt', dtype=np.int)\n",
    "        # ==================================================================\n",
    "    elif feat_selection == \"mi\":\n",
    "        feat_sel_alg = SelectKBest(score_func=mutual_info_classif, k=d)\n",
    "        feat_sel_alg.fit(X_train, y_train)\n",
    "        feat_sel_alg.scores_\n",
    "#         all_feats_selected = feat_sel_alg.get_support(indices=True)\n",
    "        all_feats_selected = np.argsort(-feat_sel_alg.scores_)\n",
    "    elif feat_selection == \"fval\":\n",
    "        feat_sel_alg = SelectKBest(score_func=f_classif, k=d)\n",
    "        feat_sel_alg.fit(X_train, y_train)\n",
    "        all_feats_selected = np.argsort(-feat_sel_alg.scores_)\n",
    "#         all_feats_selected = feat_sel_alg.get_support(indices=True)\n",
    "    elif feat_selection == \"UFFS + SFFS (t=3)\":\n",
    "        all_feats_selected = fourier_feature_selection(X_train, y_train, d,\n",
    "                                                       approx=\"depth_based\", depth=3)\n",
    "    elif feat_selection == \"UFFS + SFFS (t=2)\":\n",
    "        all_feats_selected = fourier_feature_selection(X_train, y_train, d,\n",
    "                                                       approx=\"depth_based\", depth=2)\n",
    "    elif feat_selection == \"UFFS + SFFS (t=1)\":\n",
    "        all_feats_selected = fourier_feature_selection(X_train, y_train, d,\n",
    "                                                       approx=\"depth_based\", depth=1)\n",
    "    elif feat_selection == \"fourier-learning\":\n",
    "        all_feats_selected = fourier_feature_selection(\n",
    "            X_train, y_train, d, approx=\"none\")\n",
    "    elif feat_selection == \"rfe\":\n",
    "        clf_rfe = LinearSVC(loss=\"squared_hinge\",\n",
    "                            penalty=\"l1\", dual=False, max_iter=2000)\n",
    "        feat_sel_alg = RFE(clf_rfe, n_features_to_select=d, step=1)\n",
    "        X_train_1 = StandardScaler().fit_transform(X_train)\n",
    "        feat_sel_alg.fit(X_train_1, y_train)\n",
    "        all_feats_selected = feat_sel_alg.get_support(indices=True)\n",
    "    elif feat_selection == \"rfs\":\n",
    "        Y_train = construct_label_matrix(y_train)\n",
    "        Weight = RFS.rfs(X_train, Y_train, gamma=0.1)\n",
    "        # sort the feature scores in an ascending order according to the feature scores\n",
    "        all_feats_selected = feature_ranking(Weight)[:d]\n",
    "        # obtain the dataset on the selected features\n",
    "    else:\n",
    "        print(\"none selected\")\n",
    "    return all_feats_selected"
   ]
  },
  {
   "cell_type": "code",
   "execution_count": 10,
   "id": "df4e0302",
   "metadata": {
    "ExecuteTime": {
     "end_time": "2021-06-10T04:40:54.231521Z",
     "start_time": "2021-06-10T04:40:54.156217Z"
    }
   },
   "outputs": [],
   "source": [
    "# from sklearn.datasets import load_digits\n",
    "# from sklearn.feature_selection import SelectKBest, chi2\n",
    "# X, y = load_digits(return_X_y=True)\n",
    "# X.shape"
   ]
  },
  {
   "cell_type": "code",
   "execution_count": 11,
   "id": "a18fe4ba",
   "metadata": {
    "ExecuteTime": {
     "end_time": "2021-06-10T04:40:56.533375Z",
     "start_time": "2021-06-10T04:40:56.474351Z"
    }
   },
   "outputs": [],
   "source": [
    "# mm = SelectKBest(chi2, k=20).fit(X, y)"
   ]
  },
  {
   "cell_type": "code",
   "execution_count": 12,
   "id": "f3c6ce22",
   "metadata": {
    "ExecuteTime": {
     "end_time": "2021-06-10T04:40:58.736863Z",
     "start_time": "2021-06-10T04:40:58.670257Z"
    }
   },
   "outputs": [],
   "source": [
    "# mm.scores_"
   ]
  },
  {
   "cell_type": "code",
   "execution_count": 13,
   "id": "766365a5",
   "metadata": {
    "ExecuteTime": {
     "end_time": "2021-06-10T04:41:00.986821Z",
     "start_time": "2021-06-10T04:41:00.916655Z"
    }
   },
   "outputs": [],
   "source": [
    "# aaa = np.argsort(-mm.scores_)"
   ]
  },
  {
   "cell_type": "code",
   "execution_count": 14,
   "id": "8a138ef2",
   "metadata": {
    "ExecuteTime": {
     "end_time": "2021-06-10T04:41:03.989939Z",
     "start_time": "2021-06-10T04:41:03.924425Z"
    }
   },
   "outputs": [],
   "source": [
    "# len(mm.scores_[aaa])"
   ]
  },
  {
   "cell_type": "code",
   "execution_count": 15,
   "id": "47061bdb",
   "metadata": {
    "ExecuteTime": {
     "end_time": "2021-06-10T04:41:06.330415Z",
     "start_time": "2021-06-10T04:41:06.252620Z"
    }
   },
   "outputs": [],
   "source": [
    "def plot_ccm_comparison(xaxis, data_name, scores, file_name=None):\n",
    "    '''\n",
    "    Plot the results\n",
    "    arguments:\n",
    "        xaxis: xaxis vector\n",
    "        data_name: name of the dataset\n",
    "        scores: dictionary with key as the feature selection algorithm name and value as the vector \n",
    "                of cross-validation scores for different k's\n",
    "        file_nmae: save to a specific file, otherwise create a time-stamped file\n",
    "    '''\n",
    "\n",
    "    fig, ax = plt.subplots(figsize=figsize(FIGSIZE_SCALE_REQD))\n",
    "    # ax = plt.axes(frameon=1)\n",
    "    ax.spines[\"top\"].set_visible(False)\n",
    "    ax.spines[\"right\"].set_visible(False)\n",
    "    plt.grid(alpha=1, linestyle='dotted')\n",
    "    ax.minorticks_on()\n",
    "    ax.tick_params(axis='x', which='minor', bottom=True)\n",
    "    ax.tick_params(axis='y', which='minor', left=False)\n",
    "\n",
    "    Fourier_FS_length = min(len(scores[\"UFFS + SFFS (t=2)\"]), len(scores[\"UFFS + SFFS (t=1)\"]))\n",
    "    # Fourier_FS_length = len(scores[\"UFFS + SFFS (t=2)\"])\n",
    "    for k, v in scores.items():\n",
    "        plt.plot(xaxis[:Fourier_FS_length],np.array(v[:Fourier_FS_length])*100, label=k, alpha=0.7)\n",
    "        # plt.legend(loc='best')\n",
    "        plt.xlabel(r\"$k$\")\n",
    "        plt.ylabel(\"Mean accuracy\")\n",
    "    title_str = r\"Dataset: {0}\".format(data_name)\n",
    "    title_str = title_str.replace('_', '\\_')\n",
    "    plt.title(title_str)\n",
    "\n",
    "    handles, labels = ax.get_legend_handles_labels()\n",
    "    lgd = ax.legend(handles, labels, loc='upper center',\n",
    "                    bbox_to_anchor=(0.45, -0.2), ncol=3)\n",
    "    \n",
    "    plt.ylim(25,100)\n",
    "    if file_name == None:\n",
    "        timestr = time.strftime(\"%Y%m%d_%H%M%S\")\n",
    "        file_name = \"comparison_feat_sel_{0}\".format(timestr)\n",
    "    plt.savefig('../results/{0}.pdf'.format(file_name),\n",
    "                bbox_extra_artists=(lgd,), bbox_inches='tight', pad_inches=0.02)\n",
    "    return file_name"
   ]
  },
  {
   "cell_type": "code",
   "execution_count": 25,
   "id": "0174d239",
   "metadata": {
    "ExecuteTime": {
     "end_time": "2021-06-10T04:41:08.533623Z",
     "start_time": "2021-06-10T04:41:08.469027Z"
    }
   },
   "outputs": [],
   "source": [
    "def xaxis_fn(d):\n",
    "    if d <= 50:\n",
    "        xaxis = list(range(1, min(20, d)+1))\n",
    "    elif 50 < d <= 100:\n",
    "        xaxis = list(range(5, 51, 5))\n",
    "    elif d > 100:\n",
    "        xaxis = list(range(10, 101, 10))\n",
    "    return xaxis"
   ]
  },
  {
   "cell_type": "markdown",
   "id": "93ab7aab",
   "metadata": {},
   "source": [
    "# Main"
   ]
  },
  {
   "cell_type": "code",
   "execution_count": 20,
   "id": "5d22ad56",
   "metadata": {
    "ExecuteTime": {
     "end_time": "2021-06-10T04:41:55.025676Z",
     "start_time": "2021-06-10T04:41:54.956476Z"
    }
   },
   "outputs": [],
   "source": [
    "DATA_NAME = \"Musk\"\n",
    "# -1 is a proxy for \"d\" in cluster_sizes\n",
    "# UFFS_SETTINGS = {\n",
    "#     \"max_depth\": 3,\n",
    "#     \"cluster_sizes\": [-1, 50, 25],\n",
    "#     \"selection_thresholds\":[0.95,0.95,0.95],\n",
    "#     \"norm_epsilon\":[0.001, 0.001, 0.001],\n",
    "#     \"shuffle\": False,\n",
    "#     \"preranking\": \"non\"\n",
    "# }\n",
    "\n",
    "UFFS_SETTINGS = {\n",
    "    \"max_depth\": 3,\n",
    "    \"cluster_sizes\": [-1, 51, 31],\n",
    "    \"selection_thresholds\":[0.95,0.95,0.95],\n",
    "    \"norm_epsilon\":[0.001, 0.001, 0.001],\n",
    "    \"shuffle\": False,\n",
    "    \"preranking\": \"non\"\n",
    "}"
   ]
  },
  {
   "cell_type": "code",
   "execution_count": 18,
   "id": "16650c8a",
   "metadata": {
    "ExecuteTime": {
     "end_time": "2021-06-10T04:36:46.747633Z",
     "start_time": "2021-06-10T04:36:46.689375Z"
    }
   },
   "outputs": [],
   "source": [
    "DATA_NAME = \"data1\"\n",
    "# -1 is a proxy for \"d\" in cluster_sizes\n",
    "\n",
    "UFFS_SETTINGS = {\n",
    "    \"max_depth\": 3,\n",
    "    \"cluster_sizes\": [-1, 50, 31],\n",
    "    \"selection_thresholds\":[0.95,0.95,0.95],\n",
    "    \"norm_epsilon\":[0.001, 0.001, 0.001],\n",
    "    \"shuffle\": False,\n",
    "    \"preranking\": \"non\"\n",
    "}"
   ]
  },
  {
   "cell_type": "code",
   "execution_count": 19,
   "id": "89c03d75",
   "metadata": {
    "ExecuteTime": {
     "end_time": "2021-06-10T04:36:48.768126Z",
     "start_time": "2021-06-10T04:36:48.709719Z"
    }
   },
   "outputs": [],
   "source": [
    "DATA_NAME = \"E1\"\n",
    "# -1 is a proxy for \"d\" in cluster_sizes\n",
    "\n",
    "UFFS_SETTINGS = {\n",
    "    \"max_depth\": 3,\n",
    "    \"cluster_sizes\": [-1, 40, 20],\n",
    "    \"selection_thresholds\":[0.98,0.98,0.98],\n",
    "    \"norm_epsilon\":[0.001, 0.001, 0.001],\n",
    "    \"shuffle\": False,\n",
    "    \"preranking\": \"non\"\n",
    "}"
   ]
  },
  {
   "cell_type": "code",
   "execution_count": 20,
   "id": "173e498b",
   "metadata": {
    "ExecuteTime": {
     "end_time": "2021-06-10T04:36:50.800382Z",
     "start_time": "2021-06-10T04:36:50.740529Z"
    }
   },
   "outputs": [],
   "source": [
    "DATA_NAME = \"E2\"\n",
    "# -1 is a proxy for \"d\" in cluster_sizes\n",
    "\n",
    "UFFS_SETTINGS = {\n",
    "    \"max_depth\": 3,\n",
    "    \"cluster_sizes\": [-1, 40, 20],\n",
    "    \"selection_thresholds\":[0.999,0.9995,0.99],\n",
    "    \"norm_epsilon\":[0.001, 0.001, 0.001],\n",
    "    \"shuffle\": False,\n",
    "    \"preranking\": \"non\"\n",
    "}"
   ]
  },
  {
   "cell_type": "code",
   "execution_count": 21,
   "id": "2aecf4c4",
   "metadata": {
    "ExecuteTime": {
     "end_time": "2021-06-10T04:42:01.664497Z",
     "start_time": "2021-06-10T04:42:01.575358Z"
    }
   },
   "outputs": [
    {
     "name": "stderr",
     "output_type": "stream",
     "text": [
      "<ipython-input-7-d8b26a17c42c>:15: DeprecationWarning: `np.int` is a deprecated alias for the builtin `int`. To silence this warning, use `int` by itself. Doing this will not modify any behavior and is safe. When replacing `np.int`, you may wish to use e.g. `np.int64` or `np.int32` to specify the precision. If you wish to review your current use, check the release note link for additional information.\n",
      "Deprecated in NumPy 1.20; for more details and guidance: https://numpy.org/devdocs/release/1.20.0-notes.html#deprecations\n",
      "  if y.dtype != np.int:\n",
      "<ipython-input-7-d8b26a17c42c>:16: DeprecationWarning: `np.int` is a deprecated alias for the builtin `int`. To silence this warning, use `int` by itself. Doing this will not modify any behavior and is safe. When replacing `np.int`, you may wish to use e.g. `np.int64` or `np.int32` to specify the precision. If you wish to review your current use, check the release note link for additional information.\n",
      "Deprecated in NumPy 1.20; for more details and guidance: https://numpy.org/devdocs/release/1.20.0-notes.html#deprecations\n",
      "  y = y.astype(np.int, copy=False)\n"
     ]
    }
   ],
   "source": [
    "X, y, type_y = load_data(DATA_NAME)\n",
    "no_samples, d = X.shape\n",
    "random_state = [42, 100, 0, 25, 80]\n",
    "X_train, X_test, y_train, y_test = [], [], [], []\n",
    "for state in random_state:\n",
    "    t = train_test_split(X, y, test_size=0.2, random_state=state, stratify=y, shuffle=True)\n",
    "    for i, j in zip((X_train,X_test,y_train, y_test),t):\n",
    "        i.append(j)"
   ]
  },
  {
   "cell_type": "markdown",
   "id": "6044c299",
   "metadata": {},
   "source": [
    "## Orthogonalize"
   ]
  },
  {
   "cell_type": "code",
   "execution_count": 22,
   "id": "0bcd1394",
   "metadata": {
    "ExecuteTime": {
     "end_time": "2021-06-10T04:30:39.254315Z",
     "start_time": "2021-06-10T04:30:38.673703Z"
    }
   },
   "outputs": [
    {
     "ename": "AttributeError",
     "evalue": "'list' object has no attribute 'shape'",
     "output_type": "error",
     "traceback": [
      "\u001b[0;31m---------------------------------------------------------------------------\u001b[0m",
      "\u001b[0;31mAttributeError\u001b[0m                            Traceback (most recent call last)",
      "\u001b[0;32m<ipython-input-22-d2ba684acd0f>\u001b[0m in \u001b[0;36m<module>\u001b[0;34m\u001b[0m\n\u001b[0;32m----> 1\u001b[0;31m \u001b[0mX_train\u001b[0m\u001b[0;34m.\u001b[0m\u001b[0mshape\u001b[0m\u001b[0;34m\u001b[0m\u001b[0;34m\u001b[0m\u001b[0m\n\u001b[0m",
      "\u001b[0;31mAttributeError\u001b[0m: 'list' object has no attribute 'shape'"
     ]
    }
   ],
   "source": [
    "X_train.shape"
   ]
  },
  {
   "cell_type": "code",
   "execution_count": 22,
   "id": "4ea6b8a0",
   "metadata": {
    "ExecuteTime": {
     "end_time": "2021-06-10T04:42:08.447596Z",
     "start_time": "2021-06-10T04:42:08.377623Z"
    }
   },
   "outputs": [],
   "source": [
    "X_train = X_train[0].copy()\n",
    "X_test = X_test[0].copy()\n",
    "y_train = y_train[0].copy()\n",
    "y_test = y_test[0].copy()"
   ]
  },
  {
   "cell_type": "code",
   "execution_count": 23,
   "id": "0c18ef28",
   "metadata": {
    "ExecuteTime": {
     "end_time": "2021-06-10T04:53:34.312585Z",
     "start_time": "2021-06-10T04:42:11.964069Z"
    }
   },
   "outputs": [
    {
     "name": "stdout",
     "output_type": "stream",
     "text": [
      "depth:  0\n",
      "[0.99868334 0.9710501  0.64421057 0.89672784 0.99000723 0.97482371\n",
      " 0.70423542 0.95386502 0.48423835 0.79241115 0.67746419 0.70574558\n",
      " 0.44544536 0.44594552 0.38030003 0.84996018 0.36059562 0.58869414\n",
      " 0.36594369 0.59152161 0.46081196 0.17797768 0.31417809 0.50133138\n",
      " 0.394726   0.30968279 0.50796447 0.74744512 0.50929486 0.27753776\n",
      " 0.85931071 0.78904285 0.53825143 0.29975257 0.49428611 0.81361097\n",
      " 0.60308818 0.41282839 0.42539331 0.26077712 0.18058911 0.47661637\n",
      " 0.12365986 0.14129585 0.16418419 0.20679685 0.57266691 0.24433804\n",
      " 0.18988494 0.18903479 0.13127156 0.06073971 0.1186435  0.54240867\n",
      " 0.41176349 0.35419974 0.09325358 0.34721867 0.18789464 0.14407153\n",
      " 0.40785392 0.26914886 0.34098081 0.14617715 0.23854168 0.38189255\n",
      " 0.87839818 0.2531599  0.28823995 0.13383104 0.0417486  0.19225816\n",
      " 0.10854906 0.08102534 0.19865666 0.56580855 0.09581191 0.15397509\n",
      " 0.0410147  0.23492078 0.10661343 0.02692175 0.13174079 0.28535862\n",
      " 0.11625185 0.03989501 0.16753968 0.39521145 0.15742361 0.12956831\n",
      " 0.30858497 0.25853214 0.10369438 0.24732046 0.29402902 0.18860751\n",
      " 0.2400726  0.10776047 0.08406208 0.04007323 0.04459767 0.18675399\n",
      " 0.0917943  0.05460414 0.05000209 0.22118137 0.36464469 0.1704964\n",
      " 0.11073046 0.07629881 0.10321403 0.04146089 0.06463394 0.03218189\n",
      " 0.10886564 0.30817967 0.11636693 0.10157112 0.03999956 0.09125951\n",
      " 0.05347073 0.14712069 0.07850501 0.27189442 0.13319688 0.19693608\n",
      " 0.09465954 0.03986647 0.07831951 0.08940327 0.22874411 0.26119245\n",
      " 0.09563491 0.06868584 0.0668569  0.15580037 0.09888067 0.17198137\n",
      " 0.05211972 0.1521601  0.05270256 0.03906741 0.03131286 0.02850344\n",
      " 0.46852271 0.47463435 0.48761963 0.06038516 0.04258947 0.02186663\n",
      " 0.09507062 0.0836422  0.0609527  0.0848028  0.08298149 0.05697684\n",
      " 0.46390787 0.20265082 0.12184779 0.11752754 0.15272051 0.08747116\n",
      " 0.20904822 0.2941939  0.09843159 0.09965639]\n",
      "[0.99868334 0.99000723 0.97482371 0.9710501  0.95386502 0.89672784\n",
      " 0.87839818 0.85931071 0.84996018 0.81361097 0.79241115 0.78904285\n",
      " 0.74744512 0.70574558 0.70423542 0.67746419 0.64421057 0.60308818\n",
      " 0.59152161 0.58869414 0.57266691 0.56580855 0.54240867 0.53825143\n",
      " 0.50929486 0.50796447 0.50133138 0.49428611 0.48761963 0.48423835\n",
      " 0.47661637 0.47463435 0.46852271 0.46390787 0.46081196 0.44594552\n",
      " 0.44544536 0.42539331 0.41282839 0.41176349 0.40785392 0.39521145\n",
      " 0.394726   0.38189255 0.38030003 0.36594369 0.36464469 0.36059562\n",
      " 0.35419974 0.34721867 0.34098081 0.31417809 0.30968279 0.30858497\n",
      " 0.30817967 0.29975257 0.2941939  0.29402902 0.28823995 0.28535862\n",
      " 0.27753776 0.27189442 0.26914886 0.26119245 0.26077712 0.25853214\n",
      " 0.2531599  0.24732046 0.24433804 0.2400726  0.23854168 0.23492078\n",
      " 0.22874411 0.22118137 0.20904822 0.20679685 0.20265082 0.19865666\n",
      " 0.19693608 0.19225816 0.18988494 0.18903479 0.18860751 0.18789464\n",
      " 0.18675399 0.18058911 0.17797768 0.17198137 0.1704964  0.16753968\n",
      " 0.16418419 0.15742361 0.15580037 0.15397509 0.15272051 0.1521601\n",
      " 0.14712069 0.14617715 0.14407153 0.14129585 0.13383104 0.13319688\n",
      " 0.13174079 0.13127156 0.12956831 0.12365986 0.12184779 0.1186435\n",
      " 0.11752754 0.11636693 0.11625185 0.11073046 0.10886564 0.10854906\n",
      " 0.10776047 0.10661343 0.10369438 0.10321403 0.10157112 0.09965639\n",
      " 0.09888067 0.09843159 0.09581191 0.09563491 0.09507062 0.09465954\n",
      " 0.09325358 0.0917943  0.09125951 0.08940327 0.08747116 0.0848028\n",
      " 0.08406208 0.0836422  0.08298149 0.08102534 0.07850501 0.07831951\n",
      " 0.07629881 0.06868584 0.0668569  0.06463394 0.0609527  0.06073971\n",
      " 0.06038516 0.05697684 0.05460414 0.05347073 0.05270256 0.05211972\n",
      " 0.05000209 0.04459767 0.04258947 0.0417486  0.04146089 0.0410147\n",
      " 0.04007323 0.03999956 0.03989501 0.03986647 0.03906741 0.03218189\n",
      " 0.03131286 0.02850344 0.02692175 0.02186663]\n",
      "[0.02179851 0.04340764 0.06468536 0.08588071 0.10670095 0.12627405\n",
      " 0.14544707 0.16420345 0.18275574 0.20051463 0.21781078 0.23503342\n",
      " 0.25134808 0.26675257 0.28212409 0.29691126 0.31097261 0.32413636\n",
      " 0.33704765 0.34989722 0.36239696 0.37474701 0.38658629 0.39833484\n",
      " 0.40945134 0.42053881 0.43148149 0.4422704  0.45291379 0.46348338\n",
      " 0.4738866  0.48424657 0.49447313 0.50459896 0.51465721 0.52439098\n",
      " 0.53411382 0.54339899 0.55240989 0.56139756 0.57029988 0.57892626\n",
      " 0.58754204 0.59587771 0.60417861 0.61216615 0.62012534 0.62799615\n",
      " 0.63572736 0.64330618 0.65074886 0.6576065  0.66436602 0.67110158\n",
      " 0.67782829 0.68437107 0.69079251 0.69721035 0.70350184 0.70973043\n",
      " 0.71578832 0.72172302 0.7275978  0.73329891 0.73899096 0.744634\n",
      " 0.75015979 0.75555811 0.76089134 0.76613146 0.77133817 0.77646585\n",
      " 0.7814587  0.78628648 0.79084943 0.79536323 0.79978654 0.80412267\n",
      " 0.80842124 0.81261771 0.81676237 0.82088848 0.82500526 0.82910649\n",
      " 0.83318281 0.83712458 0.84100934 0.84476322 0.84848469 0.85214162\n",
      " 0.8557253  0.85916143 0.86256212 0.86592297 0.86925644 0.87257768\n",
      " 0.87578892 0.87897956 0.88212425 0.88520835 0.88812951 0.89103683\n",
      " 0.89391237 0.89677766 0.89960578 0.90230494 0.90496454 0.9075542\n",
      " 0.9101195  0.91265947 0.91519693 0.91761387 0.91999011 0.92235944\n",
      " 0.92471155 0.92703863 0.92930199 0.93155487 0.93377189 0.93594711\n",
      " 0.9381054  0.94025389 0.94234521 0.94443265 0.94650778 0.94857394\n",
      " 0.95060941 0.95261302 0.95460497 0.9565564  0.95846565 0.96031666\n",
      " 0.96215151 0.96397718 0.96578844 0.967557   0.96927055 0.97098005\n",
      " 0.97264544 0.97414466 0.97560397 0.97701475 0.97834518 0.97967096\n",
      " 0.980989   0.98223265 0.98342451 0.98459162 0.98574198 0.98687961\n",
      " 0.98797101 0.98894446 0.98987407 0.99078533 0.9916903  0.99258554\n",
      " 0.99346023 0.99433331 0.99520411 0.99607428 0.99692702 0.99762946\n",
      " 0.99831293 0.99893508 0.99952271 1.        ]\n",
      "[0, 4, 5, 1, 7, 3, 66, 30, 15, 35, 9, 31, 27, 11, 6, 10, 2, 36, 19, 17, 46, 75, 53, 32, 28, 26, 23, 34, 146, 8, 41, 145, 144, 156, 20, 13, 12, 38, 37, 54, 60, 87, 24, 65, 14, 18, 106, 16, 55, 57, 62, 22, 25, 90, 115, 33, 163, 94, 68, 83, 29, 123, 61, 131, 39, 91, 67, 93, 47, 96, 64, 79, 130, 105, 162, 45, 157, 74, 125, 71, 48, 49, 95, 58, 101, 40, 21, 137, 107, 86, 44, 88, 135, 77, 160, 139, 121, 63, 59, 43, 69, 124, 82, 50, 89, 42, 158, 52, 159, 116, 84, 108, 114, 72, 97, 80, 92, 110, 117, 165, 136, 164, 76, 132, 150, 126]\n",
      "126\n",
      "depth:  1\n",
      "[9.98683344e-01 9.92658257e-01 9.92709804e-01 9.57837118e-01\n",
      " 9.63869340e-01 9.15707752e-01 9.71726266e-01 7.95146554e-01\n",
      " 7.64900801e-01 7.72052357e-01 6.94473793e-01 7.04188538e-01\n",
      " 7.63802747e-01 6.41244059e-01 4.41834965e-01 3.66604404e-01\n",
      " 3.91428270e-01 4.12645330e-01 4.10090376e-01 3.47379772e-01\n",
      " 3.48725710e-01 1.26882899e-01 2.92425002e-01 2.27348588e-01\n",
      " 2.13210670e-01 6.55310868e-02 8.82030797e-02 4.39186859e-04\n",
      " 1.10434596e-06 0.00000000e+00 0.00000000e+00 5.41283527e-07\n",
      " 4.25270891e-07 3.89715935e-07 0.00000000e+00 0.00000000e+00\n",
      " 0.00000000e+00 0.00000000e+00 0.00000000e+00 0.00000000e+00\n",
      " 0.00000000e+00 0.00000000e+00]\n",
      "[9.98683344e-01 9.92709804e-01 9.92658257e-01 9.71726266e-01\n",
      " 9.63869340e-01 9.57837118e-01 9.15707752e-01 7.95146554e-01\n",
      " 7.72052357e-01 7.64900801e-01 7.63802747e-01 7.04188538e-01\n",
      " 6.94473793e-01 6.41244059e-01 4.41834965e-01 4.12645330e-01\n",
      " 4.10090376e-01 3.91428270e-01 3.66604404e-01 3.48725710e-01\n",
      " 3.47379772e-01 2.92425002e-01 2.27348588e-01 2.13210670e-01\n",
      " 1.26882899e-01 8.82030797e-02 6.55310868e-02 4.39186859e-04\n",
      " 1.10434596e-06 5.41283527e-07 4.25270891e-07 3.89715935e-07\n",
      " 0.00000000e+00 0.00000000e+00 0.00000000e+00 0.00000000e+00\n",
      " 0.00000000e+00 0.00000000e+00 0.00000000e+00 0.00000000e+00\n",
      " 0.00000000e+00 0.00000000e+00]\n",
      "[0.06376575 0.12715008 0.19053113 0.25257567 0.31411855 0.37527627\n",
      " 0.43374404 0.484514   0.5338094  0.58264818 0.63141684 0.67637915\n",
      " 0.72072117 0.76166449 0.78987557 0.8162229  0.84240709 0.86739971\n",
      " 0.89080734 0.91307341 0.93525354 0.95392483 0.96844099 0.98205445\n",
      " 0.9901559  0.99578765 0.9999718  0.99999984 0.99999991 0.99999995\n",
      " 0.99999998 1.         1.         1.         1.         1.\n",
      " 1.         1.         1.         1.         1.         1.        ]\n",
      "[0, 2, 1, 6, 4, 3, 5, 7, 9, 8, 12, 11, 10, 13, 14, 17, 18, 16, 15, 20, 19]\n",
      "[9.98683344e-01 9.60240159e-01 9.74652894e-01 7.45578402e-01\n",
      " 9.27697172e-01 5.67517882e-01 6.73482020e-01 9.17850848e-01\n",
      " 9.02365428e-01 4.35478819e-01 3.36083846e-01 5.65248212e-01\n",
      " 6.64938316e-01 3.69314913e-01 4.59712604e-01 4.00836527e-01\n",
      " 3.95011178e-01 6.33510120e-01 1.10114917e-01 3.39958227e-01\n",
      " 1.85996381e-01 2.75909277e-01 2.39708334e-01 4.04821787e-02\n",
      " 1.63925366e-01 1.84184199e-01 1.07154752e-01 3.42438909e-02\n",
      " 0.00000000e+00 0.00000000e+00 0.00000000e+00 0.00000000e+00\n",
      " 0.00000000e+00 0.00000000e+00 0.00000000e+00 7.62438703e-07\n",
      " 0.00000000e+00 0.00000000e+00 0.00000000e+00 0.00000000e+00\n",
      " 0.00000000e+00 2.10997496e-07]\n",
      "[9.98683344e-01 9.74652894e-01 9.60240159e-01 9.27697172e-01\n",
      " 9.17850848e-01 9.02365428e-01 7.45578402e-01 6.73482020e-01\n",
      " 6.64938316e-01 6.33510120e-01 5.67517882e-01 5.65248212e-01\n",
      " 4.59712604e-01 4.35478819e-01 4.00836527e-01 3.95011178e-01\n",
      " 3.69314913e-01 3.39958227e-01 3.36083846e-01 2.75909277e-01\n",
      " 2.39708334e-01 1.85996381e-01 1.84184199e-01 1.63925366e-01\n",
      " 1.10114917e-01 1.07154752e-01 4.04821787e-02 3.42438909e-02\n",
      " 7.62438703e-07 2.10997496e-07 0.00000000e+00 0.00000000e+00\n",
      " 0.00000000e+00 0.00000000e+00 0.00000000e+00 0.00000000e+00\n",
      " 0.00000000e+00 0.00000000e+00 0.00000000e+00 0.00000000e+00\n",
      " 0.00000000e+00 0.00000000e+00]\n",
      "[0.07337928 0.14499291 0.21554754 0.28371104 0.35115108 0.4174533\n",
      " 0.47223544 0.52172022 0.57057725 0.61712506 0.65882402 0.70035621\n",
      " 0.73413407 0.76613132 0.79558319 0.82460705 0.85174284 0.87672162\n",
      " 0.90141572 0.92168844 0.93930126 0.95296753 0.96650066 0.97854524\n",
      " 0.98663605 0.99450935 0.99748382 0.99999993 0.99999998 1.\n",
      " 1.         1.         1.         1.         1.         1.\n",
      " 1.         1.         1.         1.         1.         1.        ]\n",
      "[0, 2, 1, 6, 4, 3, 5, 7, 9, 8, 12, 11, 10, 13, 14, 17, 18, 16, 15, 20, 19, 42, 44, 43, 46, 49, 50, 45, 48, 54, 59, 47, 53, 56, 51, 57, 58, 55, 61, 52, 63, 64]\n",
      "[9.98683344e-01 9.97838594e-01 8.34358673e-01 8.12168532e-01\n",
      " 6.42866303e-01 5.11503581e-01 8.81480816e-01 7.62868279e-01\n",
      " 4.59164441e-01 4.89435401e-01 7.78696064e-01 6.23401675e-01\n",
      " 5.46732973e-01 2.68395984e-01 3.36225493e-01 1.88081341e-01\n",
      " 3.43005119e-01 4.12935335e-01 2.71541196e-01 1.30877585e-01\n",
      " 8.51523736e-02 2.29246163e-01 1.00469921e-01 7.62352751e-02\n",
      " 6.52141536e-02 5.02860296e-02 3.00932623e-02 7.80319734e-03\n",
      " 1.50509105e-06 1.32456991e-06 1.39944039e-06 0.00000000e+00\n",
      " 0.00000000e+00 0.00000000e+00 0.00000000e+00 0.00000000e+00\n",
      " 7.48699943e-07 0.00000000e+00 9.71494001e-07 0.00000000e+00\n",
      " 0.00000000e+00 0.00000000e+00]\n",
      "[9.98683344e-01 9.97838594e-01 8.81480816e-01 8.34358673e-01\n",
      " 8.12168532e-01 7.78696064e-01 7.62868279e-01 6.42866303e-01\n",
      " 6.23401675e-01 5.46732973e-01 5.11503581e-01 4.89435401e-01\n",
      " 4.59164441e-01 4.12935335e-01 3.43005119e-01 3.36225493e-01\n",
      " 2.71541196e-01 2.68395984e-01 2.29246163e-01 1.88081341e-01\n",
      " 1.30877585e-01 1.00469921e-01 8.51523736e-02 7.62352751e-02\n",
      " 6.52141536e-02 5.02860296e-02 3.00932623e-02 7.80319734e-03\n",
      " 1.50509105e-06 1.39944039e-06 1.32456991e-06 9.71494001e-07\n",
      " 7.48699943e-07 0.00000000e+00 0.00000000e+00 0.00000000e+00\n",
      " 0.00000000e+00 0.00000000e+00 0.00000000e+00 0.00000000e+00\n",
      " 0.00000000e+00 0.00000000e+00]\n",
      "[0.08367849 0.16728621 0.24114444 0.31105437 0.37910501 0.44435103\n",
      " 0.50827086 0.56213587 0.61436995 0.66018006 0.70303834 0.74404755\n",
      " 0.7825204  0.81711976 0.84585975 0.87403169 0.89678381 0.91927239\n",
      " 0.93848065 0.95423976 0.96520584 0.9736241  0.98075892 0.98714658\n",
      " 0.9926108  0.9968242  0.99934568 0.9999995  0.99999963 0.99999974\n",
      " 0.99999986 0.99999994 1.         1.         1.         1.\n",
      " 1.         1.         1.         1.         1.         1.        ]\n",
      "[0, 2, 1, 6, 4, 3, 5, 7, 9, 8, 12, 11, 10, 13, 14, 17, 18, 16, 15, 20, 19, 42, 44, 43, 46, 49, 50, 45, 48, 54, 59, 47, 53, 56, 51, 57, 58, 55, 61, 52, 63, 64, 84, 85, 90, 86, 87, 94, 91, 88, 95, 96, 89, 93, 92, 101, 100, 98, 102, 97, 105]\n",
      "61\n",
      "depth:  2\n",
      "[9.98683344e-01 9.95005062e-01 9.92109857e-01 9.88525074e-01\n",
      " 9.67943470e-01 8.91114464e-01 8.68173636e-01 6.50851731e-01\n",
      " 7.30235061e-01 4.90753621e-01 6.11605327e-01 3.75428924e-01\n",
      " 3.32859705e-01 1.73335799e-01 0.00000000e+00 1.88213767e-04\n",
      " 6.82253562e-04 0.00000000e+00 0.00000000e+00 2.99671410e-05\n",
      " 0.00000000e+00 0.00000000e+00 0.00000000e+00 0.00000000e+00\n",
      " 0.00000000e+00 0.00000000e+00 1.48362070e-05 0.00000000e+00\n",
      " 0.00000000e+00 0.00000000e+00]\n",
      "[9.98683344e-01 9.95005062e-01 9.92109857e-01 9.88525074e-01\n",
      " 9.67943470e-01 8.91114464e-01 8.68173636e-01 7.30235061e-01\n",
      " 6.50851731e-01 6.11605327e-01 4.90753621e-01 3.75428924e-01\n",
      " 3.32859705e-01 1.73335799e-01 6.82253562e-04 1.88213767e-04\n",
      " 2.99671410e-05 1.48362070e-05 0.00000000e+00 0.00000000e+00\n",
      " 0.00000000e+00 0.00000000e+00 0.00000000e+00 0.00000000e+00\n",
      " 0.00000000e+00 0.00000000e+00 0.00000000e+00 0.00000000e+00\n",
      " 0.00000000e+00 0.00000000e+00]\n",
      "[0.09919835 0.19803133 0.29657674 0.39476607 0.49091105 0.57942467\n",
      " 0.6656596  0.73819321 0.80284175 0.86359197 0.9123381  0.94962913\n",
      " 0.98269179 0.99990909 0.99997685 0.99999555 0.99999853 1.\n",
      " 1.         1.         1.         1.         1.         1.\n",
      " 1.         1.         1.         1.         1.         1.        ]\n",
      "[0, 1, 2, 3, 4, 5, 6, 8, 7, 10, 9, 11]\n",
      "[9.98683344e-01 9.49425759e-01 9.67894083e-01 8.59046072e-01\n",
      " 6.35779743e-01 8.55275224e-01 5.81086116e-01 5.52633866e-01\n",
      " 5.96887837e-01 3.07238163e-01 4.42680211e-01 2.85430933e-01\n",
      " 8.29735730e-02 4.94812203e-03 0.00000000e+00 0.00000000e+00\n",
      " 0.00000000e+00 0.00000000e+00 0.00000000e+00 0.00000000e+00\n",
      " 0.00000000e+00 0.00000000e+00 6.70966047e-07 0.00000000e+00\n",
      " 0.00000000e+00 0.00000000e+00 0.00000000e+00 0.00000000e+00\n",
      " 0.00000000e+00 0.00000000e+00 0.00000000e+00]\n",
      "[9.98683344e-01 9.67894083e-01 9.49425759e-01 8.59046072e-01\n",
      " 8.55275224e-01 6.35779743e-01 5.96887837e-01 5.81086116e-01\n",
      " 5.52633866e-01 4.42680211e-01 3.07238163e-01 2.85430933e-01\n",
      " 8.29735730e-02 4.94812203e-03 6.70966047e-07 0.00000000e+00\n",
      " 0.00000000e+00 0.00000000e+00 0.00000000e+00 0.00000000e+00\n",
      " 0.00000000e+00 0.00000000e+00 0.00000000e+00 0.00000000e+00\n",
      " 0.00000000e+00 0.00000000e+00 0.00000000e+00 0.00000000e+00\n",
      " 0.00000000e+00 0.00000000e+00 0.00000000e+00]\n",
      "[0.12299081 0.24218982 0.35911441 0.46490848 0.57023815 0.6485363\n",
      " 0.72204481 0.79360728 0.86166577 0.91618315 0.95402044 0.9891721\n",
      " 0.99939054 0.99999992 1.         1.         1.         1.\n",
      " 1.         1.         1.         1.         1.         1.\n",
      " 1.         1.         1.         1.         1.         1.\n",
      " 1.        ]\n",
      "[0, 1, 2, 3, 4, 5, 6, 8, 7, 10, 9, 11, 30, 32, 31, 33, 35, 34, 38, 36, 37, 40]\n",
      "22\n"
     ]
    }
   ],
   "source": [
    "orig_features = np.arange(X_train.shape[1])\n",
    "mask = (np.std(X_train, ddof=1, axis=0) > 1e-5)\n",
    "valid_features = orig_features[mask]\n",
    "\n",
    "valid_features = valid_features[mask]\n",
    "X_train_orig = X_train.copy()\n",
    "X_train = X_train[:, valid_features]\n",
    "\n",
    "mean_emp_X = np.mean(X_train, axis=0)\n",
    "std_emp_X = np.std(X_train, ddof=1, axis=0)\n",
    "\n",
    "if UFFS_SETTINGS[\"cluster_sizes\"][0] == -1:\n",
    "    UFFS_SETTINGS[\"cluster_sizes\"][0] = d\n",
    "UFFS_options = fourier_learning.OptionsUnsupervisedFourierFS(**UFFS_SETTINGS)\n",
    "sel_features_UFFS_X_train = fourier_learning.UnsupervisedFourierFS(X_train,UFFS_options)"
   ]
  },
  {
   "cell_type": "code",
   "execution_count": null,
   "id": "671162eb",
   "metadata": {
    "ExecuteTime": {
     "end_time": "2021-06-10T02:07:39.913745Z",
     "start_time": "2021-06-10T02:07:39.843618Z"
    }
   },
   "outputs": [],
   "source": [
    "len(sel_features_UFFS_X_train)"
   ]
  },
  {
   "cell_type": "code",
   "execution_count": null,
   "id": "ac870827",
   "metadata": {
    "ExecuteTime": {
     "end_time": "2021-06-09T22:34:23.656419Z",
     "start_time": "2021-06-09T22:34:23.591180Z"
    }
   },
   "outputs": [],
   "source": [
    "sel_features_UFFS_X_train"
   ]
  },
  {
   "cell_type": "code",
   "execution_count": null,
   "id": "55ea4cdc",
   "metadata": {
    "ExecuteTime": {
     "end_time": "2021-06-09T18:37:59.147757Z",
     "start_time": "2021-06-09T18:37:59.083982Z"
    }
   },
   "outputs": [],
   "source": [
    "feat_sel_algs_chosen = [k for k, v in FEAT_SEL_ALGS_SUPERVISED.items() if v == True]"
   ]
  },
  {
   "cell_type": "code",
   "execution_count": null,
   "id": "ad47cd6a",
   "metadata": {
    "ExecuteTime": {
     "end_time": "2021-06-09T18:38:44.926524Z",
     "start_time": "2021-06-09T18:37:59.379871Z"
    }
   },
   "outputs": [],
   "source": [
    "seltd_features = {}\n",
    "time_taken_algs = {}\n",
    "for alg in feat_sel_algs_chosen:\n",
    "    print(alg)\n",
    "    start_time = datetime.now()\n",
    "    if alg in [\"fourier-learning_depth_1\", \"fourier-learning_depth_2\",\"UFFS + SFFS (t=2)\",\"UFFS + SFFS (t=1)\"]:\n",
    "        relevant_features = supervised_fs(X_train[:, sel_features_UFFS_X_train], y_train, type_y, FEAT_SEL_ALGS_FN_LABEL[alg])\n",
    "        seltd_features[alg] = orig_features[mask][sel_features_UFFS_X_train][relevant_features]\n",
    "    else:\n",
    "        relevant_features = supervised_fs(X_train, y_train, type_y, FEAT_SEL_ALGS_FN_LABEL[alg])\n",
    "        seltd_features[alg] = orig_features[mask][relevant_features]\n",
    "    end_time = datetime.now()\n",
    "    time_taken_algs[alg] = end_time - start_time"
   ]
  },
  {
   "cell_type": "code",
   "execution_count": null,
   "id": "b836720d",
   "metadata": {
    "ExecuteTime": {
     "end_time": "2021-06-09T18:38:45.191866Z",
     "start_time": "2021-06-09T18:38:45.123165Z"
    }
   },
   "outputs": [],
   "source": [
    "seltd_features"
   ]
  },
  {
   "cell_type": "code",
   "execution_count": null,
   "id": "73b2f54f",
   "metadata": {
    "ExecuteTime": {
     "end_time": "2021-06-09T16:39:00.634010Z",
     "start_time": "2021-06-09T16:38:25.571564Z"
    }
   },
   "outputs": [],
   "source": [
    "# log-uniform: understand as search over p = exp(x) by varying x\n",
    "opt = BayesSearchCV(\n",
    "    SVC(),\n",
    "    {\n",
    "        'C': Real(1e-6, 1e+6, prior='log-uniform'),\n",
    "        'gamma': Real(1e-6, 1e+1, prior='log-uniform'),\n",
    "        'degree': Integer(1,8),\n",
    "        'kernel': Categorical(['linear', 'poly', 'rbf']),\n",
    "    },\n",
    "    n_iter=32,\n",
    "    random_state=0,\n",
    "    n_jobs = 5\n",
    ")\n",
    "\n",
    "# executes bayesian optimization\n",
    "_ = opt.fit(X_train, y_train)\n",
    "\n",
    "print(\"Score on test set without feature selection:\",opt.score(X_test, y_test))"
   ]
  },
  {
   "cell_type": "code",
   "execution_count": null,
   "id": "ce43bd22",
   "metadata": {
    "ExecuteTime": {
     "end_time": "2021-06-09T16:39:00.948117Z",
     "start_time": "2021-06-09T16:39:00.875530Z"
    }
   },
   "outputs": [],
   "source": [
    "xaxis = xaxis_fn(len(sel_features_UFFS_X_train))\n",
    "print(xaxis)"
   ]
  },
  {
   "cell_type": "code",
   "execution_count": null,
   "id": "e9887808",
   "metadata": {
    "ExecuteTime": {
     "end_time": "2021-06-09T18:48:07.174903Z",
     "start_time": "2021-06-09T18:46:49.044897Z"
    }
   },
   "outputs": [],
   "source": [
    "scores = defaultdict(list)\n",
    "params = {\n",
    "    'C': Real(1e-6, 100, prior='log-uniform'),\n",
    "    'gamma': Real(1e-6, 100, prior='log-uniform'),\n",
    "    'degree': Integer(1,5),\n",
    "    'kernel': Categorical(['linear', 'poly', 'rbf', 'sigmoid'])\n",
    "}\n",
    "\n",
    "params_grid_search = { \n",
    "    'C':[0.1,1,100,1000],\n",
    "    'kernel':['rbf'],\n",
    "#     'kernel':['rbf','poly','sigmoid','linear'],\n",
    "    'degree':[1,2,3,4,5,6],\n",
    "    'gamma': [1, 0.1, 0.01, 0.001, 0.0001]\n",
    "}\n",
    "\n",
    "params_grid_search_1 = { \n",
    "    'svm_clf__C':[0.1,1,100,1000],\n",
    "    'svm_clf__kernel':['rbf'],\n",
    "#     'kernel':['rbf','poly','sigmoid','linear'],\n",
    "    'svm_clf__degree':[1,2,3,4,5,6],\n",
    "    'svm_clf__gamma': [1, 0.1, 0.01, 0.001, 0.0001]\n",
    "}\n",
    "\n",
    "clf = Pipeline([\n",
    "    (\"scaler\", StandardScaler()),\n",
    "    (\"svm_clf\", SVC(kernel=\"rbf\", C=1, gamma='auto'))\n",
    "])\n",
    "\n",
    "for alg, features in seltd_features.items():\n",
    "    print(alg)\n",
    "    score_temp = np.zeros(len(xaxis))\n",
    "    for i, k in enumerate(xaxis):\n",
    "        if k > d:\n",
    "            break\n",
    "        feats_selected = features[:k]\n",
    "        X_train_orig_sel = X_train_orig[:, feats_selected]\n",
    "        X_test_sel = X_test[:, feats_selected]\n",
    "        # executes bayesian optimization\n",
    "#         opt = BayesSearchCV(estimator = SVC(), search_spaces=params, n_jobs=-1, random_state=20)\n",
    "#         opt = GridSearchCV(SVC(),params_grid_search, n_jobs = 6)\n",
    "        opt = GridSearchCV(clf,params_grid_search_1, n_jobs = 6)\n",
    "        opt.fit(X_train_orig_sel, y_train)\n",
    "        \n",
    "        print(opt.score(X_test_sel, y_test))\n",
    "        print(opt.best_params_)\n",
    "        scores[alg].append(opt.score(X_test_sel, y_test))"
   ]
  },
  {
   "cell_type": "code",
   "execution_count": null,
   "id": "4b43d1c5",
   "metadata": {
    "ExecuteTime": {
     "end_time": "2021-06-09T19:06:32.084336Z",
     "start_time": "2021-06-09T19:06:31.932215Z"
    }
   },
   "outputs": [],
   "source": [
    "scores_no_opt = defaultdict(list)\n",
    "for alg, features in seltd_features.items():\n",
    "    print(alg)\n",
    "    score_temp = np.zeros(len(xaxis))\n",
    "    for i, k in enumerate(xaxis):\n",
    "        if k > d:\n",
    "            break\n",
    "        feats_selected = features[:k]\n",
    "        X_train_orig_sel = X_train_orig[:, feats_selected]\n",
    "        X_test_sel = X_test[:, feats_selected]\n",
    "        \n",
    "        clf = Pipeline([\n",
    "            (\"scaler\", StandardScaler()),\n",
    "            (\"svm_clf\", SVC(kernel=\"rbf\", C=1, gamma='auto'))\n",
    "        ])\n",
    "        clf.fit(X_train_orig_sel, y_train)\n",
    "        \n",
    "        print(clf.score(X_test_sel, y_test))\n",
    "        scores_no_opt[alg].append(clf.score(X_test_sel, y_test))"
   ]
  },
  {
   "cell_type": "code",
   "execution_count": null,
   "id": "99383e5d",
   "metadata": {
    "ExecuteTime": {
     "end_time": "2021-06-09T18:48:07.981799Z",
     "start_time": "2021-06-09T18:48:07.421260Z"
    }
   },
   "outputs": [],
   "source": [
    "plot_ccm_comparison(xaxis, DATA_NAME, scores, file_name=None)"
   ]
  },
  {
   "cell_type": "code",
   "execution_count": null,
   "id": "7d01e6f8",
   "metadata": {
    "ExecuteTime": {
     "end_time": "2021-06-09T17:24:53.286324Z",
     "start_time": "2021-06-09T17:24:53.222243Z"
    }
   },
   "outputs": [],
   "source": [
    "# On the entire dataset\n",
    "params_grid_search = { \n",
    "    'C':[0.1,1,100,1000],\n",
    "    'kernel':['rbf','poly','sigmoid','linear'],\n",
    "    'degree':[1,2,3,4,5,6],\n",
    "    'gamma': [1, 0.1, 0.01, 0.001, 0.0001]\n",
    "}\n",
    "\n",
    "opt = GridSearchCV(SVC(),params_grid_search, n_jobs = 6)\n",
    "\n",
    "# executes bayesian optimization\n",
    "_ = opt.fit(X_train, y_train)\n",
    "\n",
    "print(\"Score on test set without feature selection:\",opt.score(X_test, y_test))"
   ]
  },
  {
   "cell_type": "markdown",
   "id": "c6c36abb",
   "metadata": {},
   "source": [
    "# Saving the results as Pickle files"
   ]
  },
  {
   "cell_type": "code",
   "execution_count": null,
   "id": "103af04e",
   "metadata": {},
   "outputs": [],
   "source": [
    "fpath = os.path.join(\"runs_ICML\",\"{0}_seltd_features_train_seed-{1}.pickle\".format(DATA_NAME, random_state))\n",
    "with open(fpath, 'wb') as handle:\n",
    "    pickle.dump(seltd_features, handle, protocol=pickle.HIGHEST_PROTOCOL)"
   ]
  },
  {
   "cell_type": "code",
   "execution_count": null,
   "id": "1bdf21f5",
   "metadata": {},
   "outputs": [],
   "source": [
    "scores[\"xaxis\"] = xaxis\n",
    "fpath = os.path.join(\"runs_ICML\",\"{0}_scores_test_seed-{1}.pickle\".format(DATA_NAME, random_state))\n",
    "with open(fpath, 'wb') as handle:\n",
    "    pickle.dump(scores, handle, protocol=pickle.HIGHEST_PROTOCOL)"
   ]
  },
  {
   "cell_type": "markdown",
   "id": "dce2b1ba",
   "metadata": {},
   "source": [
    "# Running on multiple seeds"
   ]
  },
  {
   "cell_type": "code",
   "execution_count": null,
   "id": "e6dc0f10",
   "metadata": {
    "ExecuteTime": {
     "end_time": "2021-06-10T02:41:13.849954Z",
     "start_time": "2021-06-10T02:41:13.778940Z"
    }
   },
   "outputs": [],
   "source": [
    "def run_supervised_algs(X_train, X_test, y_train, y_test):\n",
    "    orig_features = np.arange(X_train.shape[1])\n",
    "    mask = (np.std(X_train, ddof=1, axis=0) > 1e-5)\n",
    "    valid_features = orig_features[mask]\n",
    "\n",
    "    valid_features = valid_features[mask]\n",
    "    X_train_orig = X_train.copy()\n",
    "    X_train = X_train[:, valid_features]\n",
    "\n",
    "    mean_emp_X = np.mean(X_train, axis=0)\n",
    "    std_emp_X = np.std(X_train, ddof=1, axis=0)\n",
    "\n",
    "    if UFFS_SETTINGS[\"cluster_sizes\"][0] == -1:\n",
    "        UFFS_SETTINGS[\"cluster_sizes\"][0] = d\n",
    "    UFFS_options = fourier_learning.OptionsUnsupervisedFourierFS(**UFFS_SETTINGS)\n",
    "    sel_features_UFFS_X_train = fourier_learning.UnsupervisedFourierFS(X_train,UFFS_options)\n",
    "    \n",
    "    feat_sel_algs_chosen = [k for k, v in FEAT_SEL_ALGS_SUPERVISED.items() if v == True]\n",
    "    \n",
    "    seltd_features = {}\n",
    "    time_taken_algs = {}\n",
    "    for alg in feat_sel_algs_chosen:\n",
    "        print(alg)\n",
    "        start_time = datetime.now()\n",
    "        if alg in [\"fourier-learning_depth_1\", \"fourier-learning_depth_2\",\"UFFS + SFFS (t=2)\",\"UFFS + SFFS (t=1)\"]:\n",
    "            relevant_features = supervised_fs(X_train[:, sel_features_UFFS_X_train], y_train, type_y, FEAT_SEL_ALGS_FN_LABEL[alg])\n",
    "            seltd_features[alg] = orig_features[mask][sel_features_UFFS_X_train][relevant_features]\n",
    "        else:\n",
    "            relevant_features = supervised_fs(X_train, y_train, type_y, FEAT_SEL_ALGS_FN_LABEL[alg])\n",
    "            seltd_features[alg] = orig_features[mask][relevant_features]\n",
    "        end_time = datetime.now()\n",
    "        time_taken_algs[alg] = end_time - start_time\n",
    "\n",
    "    xaxis = xaxis_fn(len(sel_features_UFFS_X_train))\n",
    "\n",
    "    scores = defaultdict(list)\n",
    "    params_grid_search_1 = { \n",
    "        'svm_clf__C':[0.1,1,100,1000],\n",
    "        'svm_clf__kernel':['rbf'],\n",
    "        'svm_clf__degree':[1,2,3,4,5,6],\n",
    "        'svm_clf__gamma': [1, 0.1, 0.01, 0.001, 0.0001]\n",
    "    }\n",
    "\n",
    "    clf = Pipeline([\n",
    "        (\"scaler\", StandardScaler()),\n",
    "        (\"svm_clf\", SVC(kernel=\"rbf\", C=1, gamma='auto'))\n",
    "    ])\n",
    "\n",
    "    for alg, features in seltd_features.items():\n",
    "        print(alg)\n",
    "        for i, k in enumerate(xaxis):\n",
    "            if k > d:\n",
    "                break\n",
    "            feats_selected = features[:k]\n",
    "            X_train_orig_sel = X_train_orig[:, feats_selected]\n",
    "            X_test_sel = X_test[:, feats_selected]\n",
    "#             opt = GridSearchCV(clf,params_grid_search_1, n_jobs = 6)\n",
    "#             opt.fit(X_train_orig_sel, y_train)\n",
    "#             print(opt.score(X_test_sel, y_test))\n",
    "#             print(opt.best_params_)\n",
    "#             scores[alg].append(opt.score(X_test_sel, y_test))\n",
    "\n",
    "            clf = Pipeline([\n",
    "                (\"scaler\", StandardScaler()),\n",
    "                (\"svm_clf\", SVC(kernel=\"rbf\", C=1, gamma='auto'))\n",
    "            ])\n",
    "            clf.fit(X_train_orig_sel, y_train)\n",
    "            scores[alg].append(clf.score(X_test_sel, y_test))\n",
    "    return scores"
   ]
  },
  {
   "cell_type": "code",
   "execution_count": null,
   "id": "ee44e47c",
   "metadata": {
    "ExecuteTime": {
     "end_time": "2021-06-10T02:35:11.086418Z",
     "start_time": "2021-06-10T02:35:03.187831Z"
    }
   },
   "outputs": [],
   "source": [
    "scores_collection = defaultdict(list)\n",
    "for i, (X_train_i, X_test_i, y_train_i, y_test_i) in enumerate(zip(X_train,X_test,y_train, y_test)):\n",
    "    scores_temp =  run_supervised_algs(X_train_i, X_test_i, y_train_i, y_test_i)\n",
    "    for k, v in scores_temp.items():\n",
    "        scores_collection[k].append(v)"
   ]
  },
  {
   "cell_type": "code",
   "execution_count": null,
   "id": "639550b4",
   "metadata": {
    "ExecuteTime": {
     "end_time": "2021-06-09T22:15:13.310240Z",
     "start_time": "2021-06-09T22:15:13.246769Z"
    }
   },
   "outputs": [],
   "source": [
    "scores_ensemble = {}\n",
    "for alg_i, scores_i in scores_collection.items():\n",
    "    scores_i = np.array(scores_i)\n",
    "#     if alg_i in ['UFFS + SFFS (t=2)', 'UFFS + SFFS (t=1)']:\n",
    "    min_len = min([len(score_ii) for score_ii in scores_i])\n",
    "#     else:\n",
    "#         min_len = None\n",
    "    avg = np.array([0]*min_len, dtype=np.float64)\n",
    "    for score_ii in scores_i:\n",
    "        avg += np.array(score_ii[:min_len])\n",
    "    avg /= len(scores_i)\n",
    "    scores_ensemble[alg_i] = avg"
   ]
  },
  {
   "cell_type": "code",
   "execution_count": null,
   "id": "00cd7fca",
   "metadata": {
    "ExecuteTime": {
     "end_time": "2021-06-09T22:15:14.407000Z",
     "start_time": "2021-06-09T22:15:14.336754Z"
    }
   },
   "outputs": [],
   "source": [
    "scores_ensemble"
   ]
  },
  {
   "cell_type": "code",
   "execution_count": null,
   "id": "0b4953b6",
   "metadata": {
    "ExecuteTime": {
     "end_time": "2021-06-09T22:16:02.747129Z",
     "start_time": "2021-06-09T22:16:02.355385Z"
    }
   },
   "outputs": [],
   "source": [
    "xaxis = xaxis_fn(len(scores_ensemble[\"UFFS + SFFS (t=3)\"]))\n",
    "plot_ccm_comparison(xaxis, DATA_NAME, scores_ensemble, file_name=None)"
   ]
  },
  {
   "cell_type": "code",
   "execution_count": null,
   "id": "b56c5c41",
   "metadata": {
    "ExecuteTime": {
     "end_time": "2021-06-09T22:23:59.848120Z",
     "start_time": "2021-06-09T22:23:59.704249Z"
    }
   },
   "outputs": [],
   "source": [
    "xaxis"
   ]
  },
  {
   "cell_type": "code",
   "execution_count": null,
   "id": "d45f627e",
   "metadata": {},
   "outputs": [],
   "source": [
    "fpath = os.path.join(\"runs_ICML\",\"{0}_seltd_features_train_seed-{1}.pickle\".format(DATA_NAME, random_state))\n",
    "with open(fpath, 'wb') as handle:\n",
    "    pickle.dump(seltd_features, handle, protocol=pickle.HIGHEST_PROTOCOL)"
   ]
  },
  {
   "cell_type": "code",
   "execution_count": null,
   "id": "7998042e",
   "metadata": {},
   "outputs": [],
   "source": [
    "scores[\"xaxis\"] = xaxis\n",
    "fpath = os.path.join(\"runs_ICML\",\"{0}_scores_test_seed-{1}.pickle\".format(DATA_NAME, random_state))\n",
    "with open(fpath, 'wb') as handle:\n",
    "    pickle.dump(scores, handle, protocol=pickle.HIGHEST_PROTOCOL)"
   ]
  },
  {
   "cell_type": "markdown",
   "id": "f6da3549-c262-4737-b6fb-65a8a3bdb13c",
   "metadata": {},
   "source": [
    "# Checking Fourier-Orth"
   ]
  },
  {
   "cell_type": "code",
   "execution_count": 10,
   "id": "577d1f41-c7ad-4934-ba0c-9c3a18cbf306",
   "metadata": {},
   "outputs": [],
   "source": [
    "import ICML_final"
   ]
  },
  {
   "cell_type": "code",
   "execution_count": 11,
   "id": "e4bf8316-c139-4b4f-b5d1-5107c6e344c7",
   "metadata": {},
   "outputs": [],
   "source": [
    "config = {\n",
    "    \"data_name\": \"Musk\",\n",
    "    \"random_states\": [42],\n",
    "    \"fourier_orth_settings\": {\n",
    "        \"max_depth\": 3,\n",
    "        \"cluster_sizes\": [166, 50, 31],\n",
    "        \"selection_thresholds\": [0.999,0.9995,0.999],\n",
    "        \"norm_epsilon\": [0.001, 0.001, 0.001],\n",
    "        \"shuffle\": False,\n",
    "        \"preranking\": \"non\"\n",
    "    }\n",
    "}"
   ]
  },
  {
   "cell_type": "code",
   "execution_count": 30,
   "id": "df235a5e-53cd-461f-80a9-ece69edee212",
   "metadata": {},
   "outputs": [
    {
     "name": "stderr",
     "output_type": "stream",
     "text": [
      "<ipython-input-9-d8b26a17c42c>:15: DeprecationWarning: `np.int` is a deprecated alias for the builtin `int`. To silence this warning, use `int` by itself. Doing this will not modify any behavior and is safe. When replacing `np.int`, you may wish to use e.g. `np.int64` or `np.int32` to specify the precision. If you wish to review your current use, check the release note link for additional information.\n",
      "Deprecated in NumPy 1.20; for more details and guidance: https://numpy.org/devdocs/release/1.20.0-notes.html#deprecations\n",
      "  if y.dtype != np.int:\n",
      "<ipython-input-9-d8b26a17c42c>:16: DeprecationWarning: `np.int` is a deprecated alias for the builtin `int`. To silence this warning, use `int` by itself. Doing this will not modify any behavior and is safe. When replacing `np.int`, you may wish to use e.g. `np.int64` or `np.int32` to specify the precision. If you wish to review your current use, check the release note link for additional information.\n",
      "Deprecated in NumPy 1.20; for more details and guidance: https://numpy.org/devdocs/release/1.20.0-notes.html#deprecations\n",
      "  y = y.astype(np.int, copy=False)\n"
     ]
    }
   ],
   "source": [
    "X, y, type_y = load_data(config[\"data_name\"])\n",
    "no_samples, d = X.shape\n",
    "random_state = config[\"random_states\"]\n",
    "X_train, X_test, y_train, y_test = [], [], [], []\n",
    "for state in random_state:\n",
    "    t = train_test_split(X, y, test_size=0.2, random_state=state, stratify=y, shuffle=True)\n",
    "    for i, j in zip((X_train,X_test,y_train, y_test),t):\n",
    "        i.append(j)"
   ]
  },
  {
   "cell_type": "code",
   "execution_count": 31,
   "id": "3c50009b-427e-4852-ba88-bfed17f3c729",
   "metadata": {},
   "outputs": [
    {
     "data": {
      "text/plain": [
       "array([ 1,  1,  1,  1,  1,  1,  1,  1,  1,  1,  1,  1,  1,  1,  1,  1,  1,\n",
       "        1,  1,  1,  1,  1,  1,  1,  1,  1,  1,  1,  1,  1,  1,  1,  1,  1,\n",
       "        1,  1,  1,  1,  1,  1,  1,  1,  1,  1,  1,  1,  1,  1,  1,  1,  1,\n",
       "        1,  1,  1,  1,  1,  1,  1,  1,  1,  1,  1,  1,  1,  1,  1,  1,  1,\n",
       "        1,  1,  1,  1,  1,  1,  1,  1,  1,  1,  1,  1,  1,  1,  1,  1,  1,\n",
       "        1,  1,  1,  1,  1,  1,  1,  1,  1,  1,  1,  1,  1,  1,  1,  1,  1,\n",
       "        1,  1,  1,  1,  1,  1,  1,  1,  1,  1,  1,  1,  1,  1,  1,  1,  1,\n",
       "        1,  1,  1,  1,  1,  1,  1,  1,  1,  1,  1,  1,  1,  1,  1,  1,  1,\n",
       "        1,  1,  1,  1,  1,  1,  1,  1,  1,  1,  1,  1,  1,  1,  1,  1,  1,\n",
       "        1,  1,  1,  1,  1,  1,  1,  1,  1,  1,  1,  1,  1,  1,  1,  1,  1,\n",
       "        1,  1,  1,  1,  1,  1,  1,  1,  1,  1,  1,  1,  1,  1,  1,  1,  1,\n",
       "        1,  1,  1,  1,  1,  1,  1,  1,  1,  1,  1,  1,  1,  1,  1,  1,  1,\n",
       "        1,  1,  1, -1, -1, -1, -1, -1, -1, -1, -1, -1, -1, -1, -1, -1, -1,\n",
       "       -1, -1, -1, -1, -1, -1, -1, -1, -1, -1, -1, -1, -1, -1, -1, -1, -1,\n",
       "       -1, -1, -1, -1, -1, -1, -1, -1, -1, -1, -1, -1, -1, -1, -1, -1, -1,\n",
       "       -1, -1, -1, -1, -1, -1, -1, -1, -1, -1, -1, -1, -1, -1, -1, -1, -1,\n",
       "       -1, -1, -1, -1, -1, -1, -1, -1, -1, -1, -1, -1, -1, -1, -1, -1, -1,\n",
       "       -1, -1, -1, -1, -1, -1, -1, -1, -1, -1, -1, -1, -1, -1, -1, -1, -1,\n",
       "       -1, -1, -1, -1, -1, -1, -1, -1, -1, -1, -1, -1, -1, -1, -1, -1, -1,\n",
       "       -1, -1, -1, -1, -1, -1, -1, -1, -1, -1, -1, -1, -1, -1, -1, -1, -1,\n",
       "       -1, -1, -1, -1, -1, -1, -1, -1, -1, -1, -1, -1, -1, -1, -1, -1, -1,\n",
       "       -1, -1, -1, -1, -1, -1, -1, -1, -1, -1, -1, -1, -1, -1, -1, -1, -1,\n",
       "       -1, -1, -1, -1, -1, -1, -1, -1, -1, -1, -1, -1, -1, -1, -1, -1, -1,\n",
       "       -1, -1, -1, -1, -1, -1, -1, -1, -1, -1, -1, -1, -1, -1, -1, -1, -1,\n",
       "       -1, -1, -1, -1, -1, -1, -1, -1, -1, -1, -1, -1, -1, -1, -1, -1, -1,\n",
       "       -1, -1, -1, -1, -1, -1, -1, -1, -1, -1, -1, -1, -1, -1, -1, -1, -1,\n",
       "       -1, -1, -1, -1, -1, -1, -1, -1, -1, -1, -1, -1, -1, -1, -1, -1, -1,\n",
       "       -1, -1, -1, -1, -1, -1, -1, -1, -1, -1, -1, -1, -1, -1, -1, -1, -1])"
      ]
     },
     "execution_count": 31,
     "metadata": {},
     "output_type": "execute_result"
    }
   ],
   "source": [
    "y"
   ]
  },
  {
   "cell_type": "code",
   "execution_count": 13,
   "id": "5d067e60-64a8-4c58-88c4-5f9eeb6ba1ef",
   "metadata": {},
   "outputs": [
    {
     "name": "stdout",
     "output_type": "stream",
     "text": [
      "depth:  0\n",
      "No. of selected features in UnsupervisedFourierFS, depth 0: 150\n",
      "depth:  1\n",
      "No. of selected features in UnsupervisedFourierFS, depth 1: 74\n",
      "depth:  2\n",
      "No. of selected features in UnsupervisedFourierFS, depth 2: 37\n",
      "len(sel_features_UFFS_X_train): 37\n"
     ]
    }
   ],
   "source": [
    "for i, (X_train_i, X_test_i, y_train_i, y_test_i) in enumerate(zip(X_train,X_test,y_train, y_test)):\n",
    "    sel_features_UFFS_X_train = ICML_final.fourier_orth(X_train_i, config)\n",
    "    print(\"len(sel_features_UFFS_X_train):\", len(sel_features_UFFS_X_train))"
   ]
  },
  {
   "cell_type": "code",
   "execution_count": 26,
   "id": "31130867-ec9b-4c3e-bafe-c6d66378817c",
   "metadata": {},
   "outputs": [
    {
     "name": "stdout",
     "output_type": "stream",
     "text": [
      "depth:  0\n",
      "No. of selected features in UnsupervisedFourierFS, depth 0: 164\n",
      "depth:  1\n",
      "No. of selected features in UnsupervisedFourierFS, depth 1: 120\n",
      "depth:  2\n",
      "No. of selected features in UnsupervisedFourierFS, depth 2: 55\n",
      "len(sel_features_UFFS_X_train): 55\n"
     ]
    }
   ],
   "source": [
    "sel_features_UFFS_X_train = ICML_final.fourier_orth(X, config)\n",
    "print(\"len(sel_features_UFFS_X_train):\", len(sel_features_UFFS_X_train))"
   ]
  },
  {
   "cell_type": "code",
   "execution_count": 25,
   "id": "6c6ffdae-ad2b-4efd-9d54-8ea9179a0936",
   "metadata": {},
   "outputs": [],
   "source": [
    "sel_features_UFFS_X_train"
   ]
  },
  {
   "cell_type": "markdown",
   "id": "48c73caf-d4f1-40b9-9300-ccd979d3f666",
   "metadata": {},
   "source": [
    "# Temp"
   ]
  },
  {
   "cell_type": "code",
   "execution_count": 1,
   "id": "f526f3d4-0baf-406d-8437-3ed0d9e7f851",
   "metadata": {},
   "outputs": [],
   "source": [
    "import pickle"
   ]
  },
  {
   "cell_type": "code",
   "execution_count": 33,
   "id": "387058d4-6fa7-4476-9fe2-065da0da8b99",
   "metadata": {},
   "outputs": [],
   "source": [
    "scores_ensemble =  pickle.load(open(\"/home/jithin/fourier_learning/results/Musk/sel_features_train.pickle\", \"rb\"))"
   ]
  },
  {
   "cell_type": "code",
   "execution_count": 34,
   "id": "c696341f-bbdf-4dbd-9eb4-0f5cb425a59f",
   "metadata": {},
   "outputs": [],
   "source": [
    "aaa =  pickle.load(open(\"/home/jithin/fourier_learning/results/Musk/sel_features_train.pickle\", \"rb\"))"
   ]
  },
  {
   "cell_type": "code",
   "execution_count": 36,
   "id": "8ba08960-f8b7-4f48-9297-1f4feb79af0f",
   "metadata": {},
   "outputs": [
    {
     "data": {
      "text/plain": [
       "[array([  9, 115,  42, 108,   7,  22,  82,  50,  30,  90, 124,  31, 165,\n",
       "         25,  52,  62, 163,  33,  94,   1,  69,  35, 158,  15,  75,  89,\n",
       "         39,   5,  68,   0, 159,   3,  92,  66,  27,   4,  83]),\n",
       " array([  9, 115,  42, 108, 110,   7,  30,  90, 124,  47,  50, 114,  31,\n",
       "         80,  22, 165,  33,   0,   4,  35,  94,  15,  75, 158,  62,   1,\n",
       "         25,  39,  69,  66,  68,   3,  89,   5,  83, 159,  27]),\n",
       " array([115, 108, 110,   9,   7,  30,  90, 124,  31,  50, 165,  22,  62,\n",
       "         52,  25, 123,   5,   1,  33,  35,  63, 158,  94, 131,   3,  92,\n",
       "         28,  83,  68,  69,  84,  15,   0, 159,  27,  66,   4]),\n",
       " array([  9, 115,  42, 110,   7,  30,  90, 124,  47,  50, 163, 164,  22,\n",
       "         31, 165,  61,   0,   4,  35,  33, 159,  25,  84,  52,  94, 158,\n",
       "         89,   1,  57,  69,  34,   5,  83,   3,  15,  66,  27]),\n",
       " array([ 18,  48, 132,   7,   9,  74,  72,  30,  31,  90, 108,  43,  45,\n",
       "         14, 165, 125, 154, 101, 110, 157,   1,  40, 137,  57,  35,  98,\n",
       "          3,  60,  92,   0, 161,   5,  87,  95,  96,  54,  21,  89,  27,\n",
       "        146,  28,  97,  65,  15, 106,  39,  66,  37,   4])]"
      ]
     },
     "execution_count": 36,
     "metadata": {},
     "output_type": "execute_result"
    }
   ],
   "source": [
    "aaa[\"UFFS + SFFS (t=3)\"]"
   ]
  },
  {
   "cell_type": "code",
   "execution_count": 27,
   "id": "709e4421-34ff-4c36-8682-64ce640df68c",
   "metadata": {},
   "outputs": [],
   "source": [
    "scores_collection =  pickle.load(open(\"/home/jithin/fourier_learning/results/Musk/scores_collection_train.pickle\", \"rb\"))"
   ]
  },
  {
   "cell_type": "code",
   "execution_count": 19,
   "id": "0f9f91bd-7bd4-4e25-866d-41a8bd921449",
   "metadata": {},
   "outputs": [
    {
     "data": {
      "text/plain": [
       "[37, 37, 37, 37, 49]"
      ]
     },
     "execution_count": 19,
     "metadata": {},
     "output_type": "execute_result"
    }
   ],
   "source": [
    "[len(i) for i in aa[\"UFFS + SFFS (t=1)\"]]"
   ]
  },
  {
   "cell_type": "code",
   "execution_count": 21,
   "id": "05b85ab3-2284-4956-9692-e268e86f7137",
   "metadata": {
    "collapsed": true,
    "jupyter": {
     "outputs_hidden": true
    },
    "tags": []
   },
   "outputs": [
    {
     "data": {
      "text/plain": [
       "defaultdict(list,\n",
       "            {'UFFS + SFFS (t=3)': [array([ 12,  42, 128, 115,  93,  49,  17,  55, 132, 139,  72,   9,  19,\n",
       "                      74, 133,  50, 140,  82, 102,  47,  10,  20,  11, 134,  48,  78,\n",
       "                      45, 107, 103,   7,  43,  18, 108,  77,  73,  14, 126, 104, 162,\n",
       "                     163, 164,  79,  13, 110, 105, 111,  53,  44, 109,  67,  69, 147,\n",
       "                      80, 138, 157,  22, 156, 158,  25, 135, 148,  36,  64,  96, 129,\n",
       "                      30,  90, 124,   2,  86, 131, 117,  91, 130,  52, 112,   8,  87,\n",
       "                     114,  57,  85,  33, 123, 113,  51,  76,  59,  15,  75,  31,  21,\n",
       "                      39,  70,  35, 151, 149,  16, 141,  58, 118, 137,  81,   6,  94,\n",
       "                      66,  62, 165,  26,  40,  61,  63,  98, 101, 154,   1,  95,  34,\n",
       "                      97,   5, 100,  37,  71,  84, 143, 119,  23,  28, 120,  29,   3,\n",
       "                     125,  32, 159, 142, 136,  56, 161,  99,  38,  41, 127,  89, 153,\n",
       "                     152, 150, 155,  46,  92,  88, 160, 144,  68,  60,  27, 116, 146,\n",
       "                     122, 106,  83,  24,  65,   0, 145,  54,   4, 121]),\n",
       "              array([ 12,  42, 128,  93, 115,  49, 162, 163, 164,  72,  17, 132, 139,\n",
       "                      74,  19,  55,   9, 133,  50,  82, 140, 102,  10,  11,  20, 103,\n",
       "                      66, 156, 157,  43,   7,  77,  78, 134,  48,  45,  18,  14, 104,\n",
       "                     108,  13,  73,  79,  47, 126, 110, 105,  44, 107, 109, 111,  53,\n",
       "                     158,  67,  69, 147,  71,  22,  80, 138, 135, 148,   0,   4,  65,\n",
       "                      25,  15, 161,  86,  35,  33, 114,   2, 101,  59, 117,  87, 123,\n",
       "                     112,  75,  30,  90, 124, 149, 159, 137,  39,  36,  64, 129,  52,\n",
       "                      38,  96,  57, 131,  26, 113,  63,  85,  91,   8,  94, 141,  51,\n",
       "                      32, 153,  70,  76,  21, 118, 119, 130, 165,  23,  81,  89,   6,\n",
       "                      31,  16, 151,  29,  84,   3, 120,  40,  37, 125,  97,  98,  95,\n",
       "                     136, 122,   5,   1, 127, 142,  61,  56,  99,  60, 100, 143,  58,\n",
       "                     154,  28, 152,  34, 150,  46,  41,  68,  92, 160,  62, 155,  27,\n",
       "                      88, 106,  83,  24, 116, 146, 144, 121,  54, 145]),\n",
       "              array([ 12,  42, 128, 162, 163, 164, 115,  93,  17,  55, 132,  49, 133,\n",
       "                      72, 139,  74,  50,  82, 140,  19,   9,  11,  20,   7, 102, 134,\n",
       "                      10,  78,  47,  48,  18, 103,  45,  73,  43, 108,  14,  77, 107,\n",
       "                     104,  79,  13, 105,  15,  75, 156, 126, 111, 110,  67,  69, 147,\n",
       "                      44,  71, 109, 135,  53, 106,  80, 138,  22,  36,  64, 129, 148,\n",
       "                     157,  96,  25,  38,   2, 131, 159, 158,  39,  86, 149, 141, 165,\n",
       "                     151,  66, 117, 137,  26,  52, 112,  33, 153, 123, 113,  85,  58,\n",
       "                       8,  76,  57, 119,  70,  34,  37,   0, 114,  94,  16,  51, 130,\n",
       "                      87,  98, 161,  21,  91, 118,  35,   3,  59,  81,   6,   5,  30,\n",
       "                      90, 124,  28, 136,  40,   1, 101,  56,  97,  99, 100, 160,  65,\n",
       "                      63,  62, 143,  60, 145, 142,  41, 150,  31,  88,  23,  68,  92,\n",
       "                     125, 144, 146,  95,  46,  27,  61,  32, 155,  84, 154,  29, 152,\n",
       "                       4,  83,  89, 120, 122, 127, 121,  54,  24, 116]),\n",
       "              array([ 12,  42, 128,  93,  72, 115,  49,  74,  19,   9, 102,  17,  55,\n",
       "                     132,  10, 139,  50,  82, 162, 163, 164, 133, 140,  20, 103,  11,\n",
       "                      43,   7,  45,  78,  14,  77, 104,  48, 108,  66, 156, 157,  18,\n",
       "                     134,  13,  47,  73,  79, 126, 110, 107, 111,  44,  53, 109, 105,\n",
       "                     158,  67,  69, 147, 138, 135,  22,   0,   4,  65, 161,  80,  25,\n",
       "                     101, 148,  35,   2,  33, 117, 112, 123,  86,  52,  30,  90, 124,\n",
       "                      15,  75,  87,   8, 113,  71,  85,  76, 118,  39,  16, 130,  59,\n",
       "                      51, 141, 114,  63,  91, 131, 149, 137,  21,   6,  81, 125,  38,\n",
       "                      36,  64,  96,  70, 129,  26,  57,  29, 120,  94,  98,  31,  84,\n",
       "                      37, 143, 127,  97, 119, 142, 165,  89,  56, 159,  99,  61,  23,\n",
       "                      95,  40, 100,  32, 152,   3, 136, 150, 151,   1, 160,  41, 154,\n",
       "                      58,  34,  62,  92,   5, 116,  46,  68,  28, 153, 122,  24,  88,\n",
       "                     155,  27, 144,  54, 146,  83,  60, 106, 145, 121]),\n",
       "              array([ 12,  42, 128,  93, 115,  72, 162, 163, 164,  49,  74, 102,  10,\n",
       "                      19,   9,  17,  55, 132, 133, 139,  45, 103,  43,  50,  77, 108,\n",
       "                      14,  11,  82, 104,  13,  79, 140,  47,  20, 134,  78, 110, 126,\n",
       "                      18,  73,  44,   7, 107, 109,  53,  48, 105,  30,  90,  91,  67,\n",
       "                      69, 147, 124, 135, 156, 157, 158,  71, 111,  15,  75,  38,  80,\n",
       "                     148,   2,  31,  22, 138,  66,  61,  25, 159,  33, 165, 125,  86,\n",
       "                      39, 154, 101, 141, 149, 114,  36,  64, 129, 161,  70,  63, 117,\n",
       "                     153,  62, 144, 137,  59,  57,  96,  26, 123,  98, 112,  35,  52,\n",
       "                      85,   8, 113,   1, 119, 118,  56,  37, 131,  29, 155,  76,  51,\n",
       "                     120,  99,  89,  60, 145, 142, 143,  40,  97,  21,   5,  32,  84,\n",
       "                       6, 151,  94,  16,  81, 127,   0,  65, 106,  23,  88, 130,  28,\n",
       "                     100, 136,  95,  87,  41,   3,  68, 152, 160, 122, 150,  34,  46,\n",
       "                      83,  58,  92, 146,   4,  27,  24, 116,  54, 121])],\n",
       "             'UFFS + SFFS (t=2)': [array([ 30,  90,  15,  75, 124,  39,  69, 115,  42,  31, 108, 165,  35,\n",
       "                       9,  94,  82,   7,  50, 158,   1, 163,  25,   5,  33,  52,  22,\n",
       "                      89,  62,   0,  92,   3,  83, 159,  66,  68,   4,  27]),\n",
       "              array([ 30,  90,  39,  69,  15,  75, 115,  42,  35, 165, 124, 110,  50,\n",
       "                      94,   7,   5,   0,  31,  83,  66,   9,   3,  33, 108, 158,   4,\n",
       "                      25,   1,  62,  47,  22,  89,  68,  80, 159, 114,  27]),\n",
       "              array([115, 110, 123, 124,  30,  90,  35, 131,  62,  31, 108, 165,  50,\n",
       "                       5,  28,   7,   3,  94,  22,  25,  15,  66,  52, 158,   0,  69,\n",
       "                      83,  63,   9, 159,   1,  33,  68,  92,   4,  84,  27]),\n",
       "              array([ 30,  90, 115,  42,  35, 165,  94,  50, 124, 164, 110,  25, 158,\n",
       "                      22,  52,   9,   5, 163,  57,  69,   4,  83,  31,  47,  89,  33,\n",
       "                      66,  61,  34,   1,  15,   7, 159,   0,   3,  84,  27]),\n",
       "              array([ 30,  90,  35, 101, 125,  31, 161,   5,  96, 165,  28,  95, 146,\n",
       "                      87, 154,   0, 137,   3,  60,  92, 132,   7,  48,  54,  89,  21,\n",
       "                       9,  43,  97,   1,  65,  40,  15,  57,  72, 157,  66, 108,  98,\n",
       "                      18,   4, 106,  14,  45,  37, 110,  39,  27,  74])],\n",
       "             'UFFS + SFFS (t=1)': [array([ 35,  82,  30,  90,  50,  42,  75, 124,  69, 115,   1,   9,  25,\n",
       "                      15,  22,   5,  31,  52, 159,  66,  83,  62,   3,   4,  94,  68,\n",
       "                      33,  92, 165, 163,  39, 108,  27,   0, 158,   7,  89]),\n",
       "              array([ 35,  50,  30,  42, 115,  90,  75,  83, 124,   9,   5,  47,   1,\n",
       "                      22,   3,  69,  15,  62,  80,  66,  25, 159,  31,  94,  68, 165,\n",
       "                      33, 114,  27, 108,  39, 158,  89,   4,   0, 110,   7]),\n",
       "              array([ 35, 131, 123,  50, 115,   5,  30,  90,  22, 124,  28,  15,  25,\n",
       "                      52,  62,  83,  69,   9,   1,   3,  66,  31, 159,   0,  94, 165,\n",
       "                      68,  92,  33, 108,  63,   7, 158,  84,  27, 110,   4]),\n",
       "              array([ 35,  50, 164,  30,  22,  90,  42, 115,  25,  83,  47, 124,  52,\n",
       "                      69,  15,  57,  94, 159,   5,   1,  61,   9,  66,  31,   3, 158,\n",
       "                      89,   4,  33, 165, 163,  27,  34, 110,   7,   0,  84]),\n",
       "              array([ 35, 125, 101, 161,  30,  96,  90, 146, 132,   5,  95, 137,  21,\n",
       "                     154,  97,  60,   1,  31,  15,  57,  66,   9,  18, 108, 165,   3,\n",
       "                      28,  40,  72,  98,  87,  54,  65,   7,  14, 106,  89,   0,  45,\n",
       "                      43,  37, 157, 110,  48,  92,   4,  39,  74,  27])],\n",
       "             'CCM': [array([161, 162, 140,  67,  69,  49, 164, 135, 160, 146,  36, 156, 163,\n",
       "                      55,  93,  30,  35,  82,  91, 139, 101, 147,  75, 106,  87,  50,\n",
       "                     131, 125, 128, 137,  42,  96,  46,   0,  83, 115,  12,  43, 107,\n",
       "                     148,  60,  58,  94,  86,  15,  68, 149,  13, 123, 132,  38,   9,\n",
       "                      54,  98, 145, 130, 117,  17, 104,  47,  20,  28,  45, 133,  79,\n",
       "                      76,   3,  21,  39,  51,  37,  81,  26, 153, 150,   5,  71, 143,\n",
       "                      57, 103,  88, 141, 120, 110,  16,  19, 142,   8,  32,  66,  84,\n",
       "                     119,  53, 121,  34,   2,   7, 108, 159,  95,   6,  70,  33,  85,\n",
       "                     105,  40, 118, 114,   1, 134,  97, 157, 136, 126,  72,  29, 152,\n",
       "                      27,  25,  41, 116, 158,  73,  24,  11,  92, 111,  48,  77,  56,\n",
       "                     151,  64, 165,  99, 122, 127, 154, 100,   4, 129,  52, 155,  89,\n",
       "                      78,  18,  14,  10,  63,  23,  61,  59,  62,  22,  74,  80, 102,\n",
       "                      44, 138, 112, 113,  65,  31, 109, 124,  90, 144]),\n",
       "              array([135, 161,  69,  67,  49,  36, 156, 162,  35, 146,  30,  82, 164,\n",
       "                     101, 140,  75,  93,  83, 115, 147,  46,  50,  55, 160,  91,  96,\n",
       "                      60,   0, 163,  42, 125, 107,  43,  53, 128, 137,  87, 104,   9,\n",
       "                     148,  13,  58, 131, 132,  17,  86, 106, 149,  12,  28,  38,  98,\n",
       "                     133, 139, 108, 114,  84,  20,  47, 123,   3, 119,  26,  54, 110,\n",
       "                      19,  39, 103,   5,  79,  68,  88, 141, 157,  18,  76,  94,  37,\n",
       "                      21,  51,  81, 142, 143,  14,  45, 130, 116,   7, 159,  57, 121,\n",
       "                       2,  66,   6, 117,  24, 120,  33, 153,  15,  48,  41,  40, 118,\n",
       "                      85,  11,  16,  78,  70,  97,  72,   8,  99,  27, 134,  71, 136,\n",
       "                     145,  56, 126,  62, 152, 154,  73, 122,  29, 127,  95,  25,  34,\n",
       "                     111,  64, 150,  52, 151, 129, 100, 102,  59,  10,  61, 105,  74,\n",
       "                      92,  89,  32,  63,  23, 155,  77,  80, 113, 158,   1,  44,  22,\n",
       "                     138, 165,  65, 112, 109,  31, 124,  90,   4, 144]),\n",
       "              array([146, 135, 101, 125, 164,  69,  49, 162,  67, 161, 115,  75,  36,\n",
       "                     156,  50,  82,  93,  55,   0, 147,  35,  87, 140,  96, 137, 104,\n",
       "                      30,  91, 128, 139, 148,  28,  42, 160, 132, 106, 131,  13,  43,\n",
       "                     133, 163,  83,  20,  86, 149,  12, 123,   9,  46,  39,  26,  19,\n",
       "                      58,  54,  88,   7,  17,  94,  66,  60,  45, 141,  98, 110, 119,\n",
       "                     117,  38, 107, 153,   6, 118, 108,  37,  47,  81, 130, 159, 150,\n",
       "                      65,  34, 136, 103,  32,  79, 145, 151, 142,   3,  85,  14,  56,\n",
       "                      16,  71,  41,   2,  99,  76,   5,  53,  95,  11,  84,  21,  40,\n",
       "                      72,  48,  51, 114, 134, 143, 152, 120, 121,  33,  70, 105,  64,\n",
       "                     155, 126,  92,  97,  62,   8, 111, 158,  25,  52,  74, 157,  24,\n",
       "                     100,  18, 116, 154,  73,  23,  57, 129,  78,  29,  10, 127,  68,\n",
       "                     102,  89, 122,  27,  15,  63, 165, 113,  80,  77,  44,  22,  61,\n",
       "                     138,  59, 112,  31,   1, 109, 124,  90,   4, 144]),\n",
       "              array([ 35,  49, 135, 146, 161,  55, 162,  82,  69, 164, 115, 101, 156,\n",
       "                     125,  30,  67, 163,  96,  50, 160,  36,  93, 140,  91,  83, 147,\n",
       "                     128,   0,  42,  46, 123,  75,  58,  43, 104, 108, 110, 139, 137,\n",
       "                      53, 148,  94,  86,  60,  79,  37,  12,  13,   9,  20,  87,  15,\n",
       "                     133,   3,  38,  18,  14,   5, 106, 132,  28,  17,  33,  98,  19,\n",
       "                     103,  95, 149, 117, 143, 131,  68,  78, 141,  11, 153,  54,  76,\n",
       "                     121, 120,  71, 157,  39,   7, 127, 150, 114,  45,  81,  21,  48,\n",
       "                     142, 130,  32,  97,  88,  26, 107,  34,  51, 134,  72,  29,  27,\n",
       "                     118,  66,   6, 119,  85, 152, 111,  41, 158,  24,   4, 159, 136,\n",
       "                     122,  16,   2, 126,  73,  40,  70, 116,  92,  56,  61,  84,  99,\n",
       "                     102,  10, 154,  63,   8, 151,  89,  25,  64, 165,  47,  44,  52,\n",
       "                     100, 129,  77,  74,  23,  57, 105, 155,  62,  22, 113,  59, 109,\n",
       "                      65,   1,  80,  31, 138, 112, 145, 124,  90, 144]),\n",
       "              array([162, 146,  93, 164, 115,  69, 161, 135,  30,  49,  35,  67, 156,\n",
       "                      83, 125,  36,   0, 137, 101,  91, 140, 163,  50,  82,  42, 147,\n",
       "                      75, 108, 160,  87,  96, 132,  60,  12,  43, 131,  79, 128, 133,\n",
       "                      58, 123, 148, 149,  94, 139,  17, 104,  45,  47, 144,  66,  33,\n",
       "                     110,   3, 117,  37,  28,   9,  13,  26,  55,  86, 107,  98, 153,\n",
       "                      20,  39,  46, 119, 141,   7, 103,  19,  76, 105,  15,   5,  16,\n",
       "                      88,  61, 106,  38,  51,  14, 130,  54, 118,  81,  53,  21,  95,\n",
       "                     152,  71,  18, 142, 134,  32,   6, 121, 143,   8,   2,  97,  62,\n",
       "                      72,  56, 136,  48, 150,  74,  40,  34,  85, 155,  68,  92,  70,\n",
       "                      99, 159, 120, 114,  65, 126, 151, 127,   4, 122, 102,  64, 154,\n",
       "                     100,  89,  11,  29,  52, 129, 116,  25,  84,  41, 111,  78,  63,\n",
       "                      73,  24,  77, 145,  27,  80,  23, 157, 138, 158,  10,  22, 165,\n",
       "                      59, 113, 112,  44,  90, 124,   1,  57, 109,  31])],\n",
       "             'ReliefF': [array([161, 128,  82,  42,  93, 115, 101,  35,  50, 140,  49,  78,  12,\n",
       "                     160, 126,   9, 135,  67,  28, 137,  94, 164,  11,  58, 139,  55,\n",
       "                      38, 123, 132,  98,  95,   5,  33, 162,  91,  96,   2,  88,  18,\n",
       "                      69,  20,  68,  64,  87,  23,   3, 111, 125,  54,  30, 130, 133,\n",
       "                     147, 150,  90, 107, 121,  59, 159,  36,  70,   1, 109,  47,  45,\n",
       "                     151,  40, 127, 100,  84, 114,  71, 157,  41, 158, 148,  89, 129,\n",
       "                     122,  65,  73,  63,  57,  44,  31,  22,  29,  72,  83,  86,  34,\n",
       "                     152,  25, 165,  10, 131, 154,  53,  92,   0, 153,  60, 116,  74,\n",
       "                     113, 120, 102, 108,  48, 112,  17, 149,  32,   7,  79, 146,  26,\n",
       "                     119,  19, 163,  24,  43, 124,  21, 106, 138,  39,  75,  13,  61,\n",
       "                     105, 104,  85,  16,  62, 155, 134,  77,  80, 110,  52,  51, 103,\n",
       "                       8,  14,   6, 117,  81, 141,  76, 118,  46,  56,  37, 145, 156,\n",
       "                      99, 136, 143,  27,  97, 142,  15, 144,   4,  66]),\n",
       "              array([161, 128,  42,  93,  49, 164,  67, 115,  28,  58,  78, 101,  55,\n",
       "                       3, 135,  12, 162,  88,  54,  82,  94, 160,  96,  35,  11, 133,\n",
       "                     140,  83,  50,   5, 123,  53,  69,   9, 137, 147, 139, 132, 121,\n",
       "                      87,   2, 126,  64,  98,  33,  73,  90,  18,  95, 150, 148, 109,\n",
       "                     151,  45,   1,  38,  57, 130, 100,  79,  70,  40,  44,  36,  60,\n",
       "                      86,  47,  20,  68, 122, 107,   7,  10,  30,  59,  91, 111, 108,\n",
       "                     129,  65,  72,  84, 157,  74, 102, 159, 110,  23,  71, 114, 127,\n",
       "                     152,  89,  17,  77, 125,  22,  34,  43, 163,  92,  19,  31,  39,\n",
       "                     149,  29,  63,  48, 158,  13, 134, 141, 156,   0,  26,  41, 165,\n",
       "                      75,  25, 119, 153, 145, 105, 116, 113, 103, 112,  14, 131, 104,\n",
       "                     154,  62,  21,  80, 138,  37,  24,  32, 120, 124,  16,   8,  61,\n",
       "                      51, 117, 155, 106,  85,  52,  56, 146,  81,   6, 118, 136,  76,\n",
       "                     143,  46,  99,  27, 142,  97,  15, 144,  66,   4]),\n",
       "              array([161, 115,  49, 128, 162, 164,  42, 101, 160,  67, 135,  93,   9,\n",
       "                      96,  35,  78,  87,  94,  82, 137,  64,   5, 123, 140,  12, 151,\n",
       "                      50,  36,  28,  58,  69,   3,  11,  95,  55, 126,  98, 129,  88,\n",
       "                      91,  38, 150, 133,  18,  53,   2, 163, 130, 139,  33, 132, 109,\n",
       "                      34,  54,  90, 147, 159, 125, 107,  68, 152, 131,  47,   1,  23,\n",
       "                      60, 114,  74, 121,  92,   0,  45,  73,  70,  59,  31,  84,  19,\n",
       "                     148,   7, 165,  62, 100,  44, 157,  83,  65, 111, 124,  40,  20,\n",
       "                     108,  89,  57, 122,  32,  79,  10,  48,  17,  41,  71, 158,  86,\n",
       "                      72,  22,  25, 110,  30, 127, 154, 119, 106, 141,  61, 149, 105,\n",
       "                     102,  63,  16,  39,  43,   8,  21,  13, 113,  77,  29,  26, 134,\n",
       "                      76, 145,  51, 116, 112, 104, 138, 153,  24,  37,  46,  14,  75,\n",
       "                     103,  85,  52, 120, 155, 118,   6,  80,  81,  56, 117, 143, 146,\n",
       "                     136,  97,  99, 142,  15, 156,  27, 144,  66,   4]),\n",
       "              array([161, 115, 128,  42,  49, 101, 135, 160,  82,   9,  94,  67,  35,\n",
       "                     137,  78,  93, 164, 140, 126,  50,  95,  12,  87,  96, 123,  58,\n",
       "                      28,   3,   5,  88,  11, 162,  69, 109,  54, 133,  38,  18,  64,\n",
       "                      33, 150, 147,  98, 125,  90,  53, 130,  57,  68,  83,   2, 132,\n",
       "                     121, 151,  84,  91,  55,  59, 139,  86, 159, 148, 114,   1,  30,\n",
       "                     100,  73,  65, 152,  36,  70, 122,  44,  40, 129,  79,  20,  45,\n",
       "                      41, 127,  23,  34, 157,  89,  47,   7, 119,  92, 107, 108, 111,\n",
       "                      74,  63,  71, 165,  26, 110,  72,  60,  29, 149,  48,  31, 154,\n",
       "                     158, 102,  10,  46,  39,  43, 131,   0, 116, 141,  17,  19, 103,\n",
       "                      13,  22,  24,  37, 153,  32, 120, 134, 104,  75, 163,  77, 146,\n",
       "                      14,  21, 113,  16, 155, 117,  61,  25, 106, 105, 112, 124,   6,\n",
       "                      62,  85,  56, 118,  81, 136,  51, 145,  27, 143,  80,   8, 138,\n",
       "                      52,  99, 142,  76,  97, 156, 144,  15,  66,   4]),\n",
       "              array([161, 162, 164, 128,  35, 115,  42,  58,  93,  28, 123,  94, 101,\n",
       "                       3,   5,  49,  54,  96, 126, 121, 160,  88,  82,  33,  83, 135,\n",
       "                      12,   9,  67, 125,  95, 150,  64,  78, 122, 140, 137,  38, 130,\n",
       "                      91, 131,  60, 151,  50,  98,  11,  69,  59,   2,  87,  36,  55,\n",
       "                     163, 109,   0, 139, 152,  89, 129,  65,  84, 159, 114, 147,  34,\n",
       "                       1, 157,  92, 127,  68,  90, 133,  30,  45, 165,  72,  70,  44,\n",
       "                      63,  40,  32, 100,  62,  18, 158,  73,  10, 132,  41,  31, 111,\n",
       "                      23,  29,  20, 148,  71,  24,  53, 116,  57, 120,  79, 154, 107,\n",
       "                     124,  86, 108,  22,  74,  13,  47,  43, 153, 103, 110, 119, 102,\n",
       "                     104,  19, 149,   7,  25,  39,  77, 134, 156,  26,  21, 155, 105,\n",
       "                      48, 138,  61,  16, 113, 112,  14,  75,  85, 141, 117,   6,  81,\n",
       "                      51, 145,  17, 118,  37,   8,  52,  76,  80, 146,  56, 106, 143,\n",
       "                     136, 142,  99,  46,  97,  27,  15, 144,  66,   4])],\n",
       "             'mRMR': [array([ 69,  96,  35, 128,  75, 146,  82, 135,  30,   4, 156, 161,  49,\n",
       "                      36,  66,  57,  91,  27, 106,  83,  55, 162,  46,  15,  28,  12,\n",
       "                     144, 145, 147,  18,  95,  60,  71,  16,  87,  62,  43, 101, 115,\n",
       "                      58,   1,  50, 131, 149,  23,  38,   5, 124,  42,  67,  80,  90,\n",
       "                      93, 129,  17, 126, 130, 140,   2, 121,  65,   3,  26, 137, 163,\n",
       "                       9, 123,   7, 165,  54,  86,  98,  20,  77, 160,  31, 125,  64,\n",
       "                     157, 164,  47,  39, 133, 154,  19,  88, 139, 136,  72, 114, 148,\n",
       "                     110, 119, 107, 158, 132, 100, 122,  79, 112,  32,  33,  70,  11,\n",
       "                      53, 159, 103,  24,  59,  78,  61,  40,  25,   0,  13,  34,  84,\n",
       "                     111,  68,  74, 141, 105,  94, 151,  41, 138, 104,  63,  48,  56,\n",
       "                     127,  45, 153,  37, 109, 120, 150, 117, 134,  10, 113, 155, 108,\n",
       "                      29,  76,  73,  99, 102, 116,  22,  44,  89, 118,  14,  92, 142,\n",
       "                     143,  97,  81,   8, 152,  85,   6,  51,  52,  21]),\n",
       "              array([ 69, 156,  28, 101, 128,  82,  46, 146,  75,  60,  35, 135,  36,\n",
       "                      49, 144,   4,  66,  57,  30,  83,  27,  18, 161,  15, 162, 115,\n",
       "                     106,  87, 165, 145, 147,  96,  71, 140,  91,  16,  58,  43,  95,\n",
       "                      55,  38,   3,  12,  67, 125,   1,  26, 124,  17, 123,  93, 121,\n",
       "                      23,   5, 137,  50,  42, 164,  88,  62, 126, 149,  90,  20,   2,\n",
       "                     129, 109,  54, 157,  98, 133, 160, 112,  86, 131,   9,  31, 139,\n",
       "                     130,  47, 163,  77, 119,  65,  33, 154,  11,  39,  19,  80,  64,\n",
       "                     103, 114, 132, 136,   7,  70,  32,  53,  24, 122, 138,  78, 159,\n",
       "                     110, 148, 158, 107,  59,  13,  61, 111,  72,  84, 100,   0, 117,\n",
       "                     105,  68,  94, 141, 113,  44,  41, 127,  74, 153,  34, 134,  40,\n",
       "                      56,  79, 120, 104,  25,  37, 150,  10, 151,  48,  63,  45, 155,\n",
       "                     118,  73,  76,  92,  14,  22,  99, 108, 116, 102,  29,  97,  89,\n",
       "                     142, 143,  85, 152,  51,   6,   8,  52,  81,  21]),\n",
       "              array([ 69,  36,  75, 128,  35, 146,  82, 162,   4, 156, 135,  30,  28,\n",
       "                      49,  66, 161,  46,  18, 144,  96,  26, 106,   1,  91,  27, 115,\n",
       "                      15,  60,  87,  62,  17,  83, 147,  95, 145,  71,  50,  12,   5,\n",
       "                     129,  38, 121, 101,  16,  57,  67,  55, 131, 163,  78, 124,  58,\n",
       "                      42, 149, 123,  19,  23, 140, 130, 125,  93, 164,  80, 137,  90,\n",
       "                       3,   2,  43, 165, 126,  54,  98,   7, 119, 133,  88,   9,  31,\n",
       "                     105,  64,  86, 139,  33,  65, 103, 160,  20,  39, 154, 132, 114,\n",
       "                      53,  32,  11, 136, 148,  24,  72,   0, 113, 107, 157, 122,  48,\n",
       "                      70, 104, 158,  61, 138,  47,  77,  59, 159,  40, 150, 109,  56,\n",
       "                      74,  84,  13, 100, 141,  34, 111, 110, 127,  94,  68,  45, 112,\n",
       "                      79, 153, 117, 134, 151,  41,  10, 118, 120,  44,  37,  76, 102,\n",
       "                      73,  63,  25, 155, 108,  99, 116,  14,  22,  89,  97,  29,  92,\n",
       "                     142,  85, 143,   8,   6, 152,  52,  81,  51,  21]),\n",
       "              array([135, 146,  91,  82,  75, 128,  36,  69,  95, 156,   4, 161,  49,\n",
       "                     144,  60,  66,  57,  28,  46,  18,  27,  30,  35,  15, 162,  26,\n",
       "                     115,  55,  83, 106, 145, 140, 101, 147,   5,  12, 125,  87,  71,\n",
       "                      96, 113, 124, 137,  42,   3,  50,  62, 121,   1,  43,  16, 130,\n",
       "                      93,  67, 165,  38,  58,  20, 164, 126,  90,   2, 123, 119,  17,\n",
       "                     129,  13,   9, 163, 160,  78,  88, 157,  98,  31,  54, 139, 149,\n",
       "                     131,  65,  23, 110,  86,  25,  11,  33, 154,  53, 114,  80, 133,\n",
       "                     159, 136,   7,  64, 100,  72,  32,  39, 105,  19, 112, 148, 122,\n",
       "                     103, 107, 132,  56,  84,  77,  94,  61,  70, 111, 127,   0, 109,\n",
       "                     158, 138,  79,  68,  47,  24, 104,  59,  41, 118,  10,  40,  34,\n",
       "                     141,  74,  48,  99,  45, 153, 117, 151,  44, 120, 150,  37,  14,\n",
       "                      76, 134,  63,  73,  92,  22, 102,   6, 116, 108, 142, 155,  29,\n",
       "                      97,  89,  85, 143,   8, 152,  81,  51,  21,  52]),\n",
       "              array([ 69, 101, 128, 156,  28, 146,  82,  75, 135,  35,   4,  30,  83,\n",
       "                       1,  49,  27,  36,  66,  62, 161,  60,  15,  18, 144,  46,  67,\n",
       "                     106,  87, 162,  26,   5,  57,   3,  95, 115,  91, 145,  12,  96,\n",
       "                     140,  38, 147, 126,  71, 124, 110, 125,  58,  16,  17, 165, 149,\n",
       "                      11,  23, 123, 121,  42, 137,  98,  55,  43,  90, 131,  50,   2,\n",
       "                      93,  88, 160, 113, 164,  33, 133,  86, 163,   7, 154,  80,  54,\n",
       "                     129, 119,  13, 130, 114,  65,  20,  31,  79,  39,   9, 107,  53,\n",
       "                      32,  78, 100, 136, 157,  24,  19, 139,  64,  77, 122, 141, 103,\n",
       "                     112, 148, 132,  84, 159,  72, 118, 109,  70,  61, 127, 105,  47,\n",
       "                      94,  48, 150, 138, 104,  34,  56,   0,  74,  59,  40, 158,  44,\n",
       "                      41,  37, 111, 153, 134,  68, 117,  10,  73,  63,  76,  45,  99,\n",
       "                      92, 108,  25, 120, 102, 151,  14, 155, 142,  89,  22, 116,   6,\n",
       "                      29,  85, 143,  81,  97,  52, 152,   8,  51,  21])],\n",
       "             'MI': [array([  2,  70,  69,  67, 112,  97, 161,  91, 110,  22,  98,  41,  96,\n",
       "                     135,  19,  54, 147, 164, 113,   9,  37,  31,  21, 165, 129, 159,\n",
       "                      24, 143, 114, 111,  61,  28,  82,  11, 127, 109,  79, 160, 151,\n",
       "                      49, 150,  93,  13,  42,  35, 126,   6, 130, 102,  46, 137,  86,\n",
       "                     141,  50, 107, 133,  72,   5,  16,  59, 117,  84,  25, 120,  58,\n",
       "                     121,  39, 100,   3,  64,  34, 122,  78,  83, 136,  88,   8,  63,\n",
       "                      80,  36,  33,  43,  87,  40,  57,  18,  26, 139, 154,  62, 157,\n",
       "                     124,  20, 103,   7,  47, 123,  81, 152, 131,  55,  68,   1, 153,\n",
       "                     132,  76, 128,  66,  32,  51, 115, 155,  38,  92, 148,  12,  94,\n",
       "                     116,  89, 149, 162, 125, 163,  85,  71,  99,  44, 140,  90,  65,\n",
       "                      95, 101,  48,  23, 138,  52, 106, 104,  45,  74,  77, 108,  27,\n",
       "                      56,  29, 118, 142,  60,  30, 156, 158,  10, 144,  53, 119, 134,\n",
       "                     105,  14,  17, 146,  75,   4,   0, 145,  73,  15]),\n",
       "              array([113,   3,   2,  70,  88,  41,  82, 152,  67,  21,  65, 129,  58,\n",
       "                      32,  54,  35,  61,  22,  98,  97,  11, 150,  69, 112, 122,  84,\n",
       "                     111, 107,  28, 121,  18, 161,   8, 110, 143, 165,  91, 120,  66,\n",
       "                     140, 126, 159,  78,  16,  80,   9,  83, 130,  85, 147,  93, 153,\n",
       "                     135,  51, 154,  64, 133,  86, 160,  40,  31,   6,  68, 128,  25,\n",
       "                      96,  19,  50,  79,  57,  59,  34, 164, 118, 141, 139,   7,  24,\n",
       "                      81, 123, 137, 103,   5,  62,  87,  37,   1,  49, 100, 157, 149,\n",
       "                      47, 109, 119, 101, 117,  39,  26, 124, 114,  13,  20,  94, 151,\n",
       "                      27, 131,  23,  33, 136,  38,  55,  72, 138,  63, 148, 163,  36,\n",
       "                      46,  29,  76, 102, 155,  44, 162,   0, 132,  45,  43,  95,  73,\n",
       "                     134, 127,  48,  90,  52, 142,  12, 146,  99,  60,  92,  71,  14,\n",
       "                      42,  53, 104, 125, 156,   4,  56, 115,  10,  74, 158,  89, 116,\n",
       "                     108, 105,  30, 145,  77,  15, 144,  75, 106,  17]),\n",
       "              array([  2,  67, 113,  64, 111,  35, 129,  69, 154, 120,  26,  41, 130,\n",
       "                     164,  88,  97,   9,  16, 139, 141,  20, 147,  37,  22,  58, 107,\n",
       "                     150, 133,  82, 135,  61,  62,  21,   5,  70, 109,  19,  25, 112,\n",
       "                      54,  38,  87, 128, 137, 161,  11,  86,  98, 110,  68,  63,  96,\n",
       "                     165, 160,  91, 102, 121,   3, 143, 114,  28,  57, 151,  31, 159,\n",
       "                     126,  76,  78, 127,  32,  12, 123, 117, 136, 140,  40,  49,   6,\n",
       "                     162, 125,  18,   8, 142,  84, 131, 132, 157,  83, 118,  33, 103,\n",
       "                      81,  36,  42, 149, 138,  94,  75,  80,  34,  85,  51,  13,  48,\n",
       "                     115, 119,  50,  24,  89,  79, 158, 105,  95,  72, 116, 145, 100,\n",
       "                     122,  93, 152, 153,  44,  65,  55,  39,  29,  59,  99, 101,  52,\n",
       "                     134, 148, 156,  74,   1, 155,   7,  66,  47,  43,  27,  60,   4,\n",
       "                     163,  10,  46, 124, 106,   0, 146,  14,  92,  73,  90,  17, 104,\n",
       "                      23,  71, 108,  45,  15, 144,  30,  56,  77,  53]),\n",
       "              array([113,  69,   2,  84,  67,  41,  97,  28, 129,  57, 143,  79, 110,\n",
       "                     137,  37,  91,  35, 157, 161, 112,  82,  49,  70,  88, 126, 159,\n",
       "                     154, 152,  31, 101,  24, 139,   9, 160,  64, 111, 114,  54, 120,\n",
       "                      86,  96,  83, 164,  58, 135,  76,   6,  50, 130, 124,  22, 123,\n",
       "                     102,  19,   5, 107,  21,  94,  16, 147, 122, 140, 117,   3, 165,\n",
       "                      72,  42,  78,  25,  34,  68, 109, 100,  98,  18,  36, 121, 128,\n",
       "                      26,  93,  10,   8,  89, 127, 141,  95,  92, 133, 158, 142,  80,\n",
       "                      39, 150, 151,  40, 103,  74,  65,  32,  61,  11,  29,  62, 148,\n",
       "                     106,  33,  43, 149,  20,  71,  81, 138,  85, 131, 118,  46, 125,\n",
       "                      27,  55,  38, 115,  44, 136, 116, 145, 155,  63,  90,  51, 108,\n",
       "                     132,  75,  47,   7,   4, 153,  99,  87,   1,  56, 146,  23,  59,\n",
       "                      12, 162,  13,  52,   0, 119,  60, 163,  48, 104,  45, 105, 156,\n",
       "                      30,  66,  73, 144,  17, 134,  15,  14,  77,  53]),\n",
       "              array([ 58,  67,  28,  78,  91,  54,  32,   2, 151, 130,  96,   5, 152,\n",
       "                      64, 110,  21, 117,   3,  82,  35,  41, 143, 122,  84,  31,  19,\n",
       "                     163, 147,  24, 107, 159, 111,  49, 120,  25,  69, 102, 129, 112,\n",
       "                     113, 131,  97, 135,  79,   6,  34,  11, 150, 103,  61,  83,  16,\n",
       "                     161,  72, 165, 157, 137,  38,  37, 128, 136,  63,  62, 154, 133,\n",
       "                      12,  94,  88, 162,  57,   7,  59, 164, 160,  95,  70,  20, 100,\n",
       "                     126,  71,  81, 148, 123,  18, 121,  33,  42, 116,  22, 114, 109,\n",
       "                      50,  98,  99, 145, 101,   1, 124,  68, 141, 153,  30, 125,  39,\n",
       "                      45,  40, 155,  55,  89,  76,  93, 140,  92, 118,   9,  80, 115,\n",
       "                      36,  90,  44,  75,  74,  65,  66,  51,  56,  85, 108, 142, 139,\n",
       "                      86,  26, 127,   4, 156, 146,   8,  46, 158,  13, 149,  77, 138,\n",
       "                      52,  60,  73,  10,  27, 105,  47,  48, 119,  23,  29,  87, 104,\n",
       "                     134,   0,  43,  14,  17,  15, 106, 132,  53, 144])],\n",
       "             'RFS': [array([162,  51,  97,  21, 164,  43,  56, 143,  99, 103,  77, 152,   9,\n",
       "                     102,  50,   8,  42,  12,  69,  20,  49, 142, 163, 154, 151,  29,\n",
       "                     161, 165, 101, 118,  31, 147,  74, 149,  38,  92, 140, 155,  22,\n",
       "                     127,  26,  61, 122,   4,  68, 133,  70, 104,  11,  41, 112,  14,\n",
       "                      16,   2, 138, 120, 130,  44, 134, 111,  33, 100,  34,  25,  28,\n",
       "                      91,  73,  40, 125,  13,  98,  58,   1,  46,  65,  18, 113,  80,\n",
       "                      67, 135,  52,  57, 150, 121, 159, 160,  76,  89,  84, 129, 136,\n",
       "                      39, 105,  24,  47, 158, 131,   6, 114,   0, 119, 123, 117,  36,\n",
       "                     139,  45,  64,  93,  96, 157,  71,  59,  63,  35,  30, 132,  72,\n",
       "                      94, 108, 126,  32,   3,  19,  79,  95,  17,  86, 116, 107,  48,\n",
       "                      82, 106, 137, 153,  85,  53,  88, 109, 128, 141,  83,  37,  75,\n",
       "                      10,  15,  27,  87, 124,  81,  23,  54,   7,   5, 156,  78, 115,\n",
       "                     146, 110,  90,  60, 144,  55, 148,  62, 145,  66]),\n",
       "              array([ 51,  89, 141,  21,  52,  56,   8,  81,  26,  39,  38,  25, 142,\n",
       "                     148,  63,  37,  59, 129,  76,  85,  95, 118, 113, 147,  98,  10,\n",
       "                     119, 151,  28,  99, 149,  35,  97, 154,  66,  68, 143,  19, 136,\n",
       "                      92,  86, 126,  11, 120,  74,  49, 121,  42,   2,  14,  22, 152,\n",
       "                      91,  72, 165,   9,  16, 117, 102,  31, 140,  70,  44, 104, 127,\n",
       "                      80,  73, 135, 157, 137,   6,  96,  55,  20,  60, 101,  88,  83,\n",
       "                      45,  58, 124, 108,  65,  84, 103,   0, 122,  82, 110,  18,   7,\n",
       "                     123,   3, 138,  47,  94, 161, 164, 158,  54,  15,  93,  53, 105,\n",
       "                     133, 131,  41,  50, 153,  12, 159,  32, 130,  75,  27, 114, 146,\n",
       "                     160,  62,  71, 109,   5,   1, 134,  78,  24, 125,  69, 116,  57,\n",
       "                     132,  13,  43,  33, 163,  64,  30,  34, 112, 107,  87,  77,  79,\n",
       "                      23, 111,   4, 162, 155,  46,  67,  48, 115,  36, 139, 144, 145,\n",
       "                      29,  61,  17, 128,  90, 100, 106, 156, 150,  40]),\n",
       "              array([ 81,  21, 153,  99, 155,  51, 149,  41,  11,  39, 102,  25,  74,\n",
       "                      59,  52,   6,  78,  71, 126,  85,  63, 141,  22,   8,  26, 117,\n",
       "                     154, 138, 151,  97,  58,  67, 113, 128, 103,  18, 142, 135,  10,\n",
       "                     159,  56,  89,  31, 148,  84, 118,   5,  69, 104, 127, 143,  94,\n",
       "                      72,  62, 165, 152, 100,  76, 147, 119,  64, 164,  50,  32,  98,\n",
       "                     158,   2,  73,  16, 121,  24, 125,  93,   1,  82, 150,  38,  43,\n",
       "                     130, 116,  35,  42,  44,  60,  33, 110, 140, 122, 112,  48,  34,\n",
       "                       3, 123, 137,  68,  91,  28,  80,  12,   0,  79, 156,  90, 111,\n",
       "                      77,   9, 139, 161, 132, 108,  27,  95,  45,  13, 131, 133,  37,\n",
       "                     129,  88, 160,  92, 105,  83,  14, 101,  19,  65,  49,  96,   7,\n",
       "                     157,  70,  23, 114,  17, 120,  36,  53,  55, 163, 136, 107,  47,\n",
       "                      54,  40,  30,  75, 162, 146, 106,  87,  46, 134, 109,  61,   4,\n",
       "                      15, 145, 124,  86,  29, 115,  66,  20,  57, 144]),\n",
       "              array([  6,  99,  66,  98, 103,  22, 102,  59,  11, 121, 113,  13,  81,\n",
       "                      78,  25,  37, 122,  85,  51,  26,   9,  76,   2,  38, 142,  70,\n",
       "                     111,  74,  42,  12,   8, 118,  84,  97,  16, 141,  73,  43, 148,\n",
       "                     100,  14, 117,  58,  33, 112, 135,  18,  49,  21, 119, 130, 149,\n",
       "                     133,   5,  65, 164,  10,  39,  89,  69,  50,  64, 123,  35,  29,\n",
       "                      28, 104,  82,  92,  41, 126, 138,  68,  31, 114, 159, 163,  34,\n",
       "                     162, 156, 127, 147, 160, 158,   7,  54,  77,  94, 161, 151,  93,\n",
       "                       1, 152, 153, 124, 105,  60,  71,  91,  24,  95, 129,  47,  80,\n",
       "                     157,   0,  52, 116,  20, 110,  40,  87, 136,  79,  44, 150, 128,\n",
       "                     132, 108, 137,  96, 109,  86,   4, 140,  23,  48,  53, 101, 107,\n",
       "                      32,  45,  67,  62, 155,  75,  36, 134, 143, 139, 165,  57, 115,\n",
       "                      61,  55,  88,  30,   3,  83,  63,  90, 146, 144, 106,  27, 131,\n",
       "                     145,  17, 125, 154,  15,  19,  46, 120,  72,  56]),\n",
       "              array([ 29,  70,  11, 122,  40, 100, 112,  52, 142, 127,  98,  80,  51,\n",
       "                     120,  72,  78, 152,  89,  99,  21,  41,  85,  38, 121,  12,   6,\n",
       "                     113, 103, 151, 150,  68,  50,  64,  26, 119,  59,  76, 129,  81,\n",
       "                      74, 155,  82, 143, 135, 126, 138,  47,  91,  33,  14,  25,  37,\n",
       "                      79,  86, 149,  92,  34,  44, 154, 104,  10, 101, 108,   1,  69,\n",
       "                      32,  45,  63,   2, 118, 117,  94, 148, 161,   9, 158,  49,  90,\n",
       "                      97,  93, 124, 147,  20,  56,  42,  19, 141,  35, 134,  48,   0,\n",
       "                      60,  31, 114,  54,  24,  88,   8, 139, 140, 105,  83,  58, 128,\n",
       "                     160,  71, 162,   5, 106, 107,  67,   4, 133,  96,  22,  57, 131,\n",
       "                       7, 163, 136,  36, 165, 123, 146, 164,  28,  17, 130, 109, 110,\n",
       "                     132, 144, 157,  55,  95,  65,  87,  27,  77,   3,  75, 102, 115,\n",
       "                      62,  53, 111, 116,  30,  61,  46,  15, 137,  23,  13,  16, 159,\n",
       "                     145, 153, 156,  66, 125,  18,  73,  39,  84,  43])],\n",
       "             'F-Value': [array([ 35,  36, 131, 162,  91, 101, 161, 125, 123, 164, 140,  96,  82,\n",
       "                      30, 139,  90, 156,  50,  42,  20,  57, 146, 128,  95,  75, 124,\n",
       "                      69, 135, 147,  86,  67, 148, 115,  12, 132,  55,   1, 137,  47,\n",
       "                      49, 111,  41,  93,  61,   9,  25,  46, 154, 160,  15, 138,  21,\n",
       "                      22, 107, 155,   5,  51,  31,  81,  85,  60,  80,  52,  64,   8,\n",
       "                     126, 117,  76, 129, 159,  58, 133,   6, 100, 113,  66, 106,  83,\n",
       "                     118, 112, 143,   2,  11,  62,  78,  18, 153,  97,   3,  40, 142,\n",
       "                      70, 145,  65,  17,  28, 130,  56,   4,  94,  59,  72,  71,  16,\n",
       "                      99, 151,  68,  33,  48,  87,  34,  32,  92, 114, 165,  84, 163,\n",
       "                     149,  98,  38,  19,  39, 108,  27,  45,  88, 127,   0,  26,  73,\n",
       "                     119, 120, 104,  43,  74, 144,  29,  14,  24,  23, 109, 116,  10,\n",
       "                      13,  44, 136,  77,  79,  53, 103, 110, 134, 105, 122,  54, 158,\n",
       "                     121,  37, 141,  63,   7,  89, 102, 152, 157, 150]),\n",
       "              array([ 35, 162, 161,  91, 101,  36, 164, 125, 123,  82, 140,  96, 131,\n",
       "                      50,  30,  20, 156,  42, 115,  90, 128, 146,  75, 132,  49,  46,\n",
       "                      83, 124, 139,  95,  57,  60, 111,  41,  12,  93,   9, 160,  65,\n",
       "                     137,  86,   5,  61,  47,   1, 154, 147, 135,  58,  78, 133, 148,\n",
       "                      11,  18, 155,  22,   3,  69,  15, 126, 138,  62,  80,  64,  21,\n",
       "                      67,  51,  55,  52,  66,  25,  28, 159,  81,   8, 113, 107,  31,\n",
       "                      85, 112, 153,  94,  76, 100,   6, 129, 143, 117,  68,  97,  88,\n",
       "                     106, 118, 145, 142,   2,  17,  40,  48,  71,  70,  72,  59,  19,\n",
       "                     165,  56,  99,  33, 109, 151,  73,  87, 114,  92,  16,  54,  27,\n",
       "                      38,  84,  44, 130, 119,  98,  45,  53, 121, 150, 127,  74, 108,\n",
       "                     149,  24, 144,  10, 122,  26, 120, 134,  23, 116,  39,  14,  32,\n",
       "                      29,  43, 136, 158, 104,  37,  34,  89,  63,   4,  13, 103, 152,\n",
       "                      77, 102, 105,  79, 157, 163,   0, 110, 141,   7]),\n",
       "              array([162,  36,  35, 131, 164,  91, 125, 161,  96, 123, 101,  82, 140,\n",
       "                      75,  50,  20, 139, 146,  58, 111, 115, 156, 132,   5,  30,  90,\n",
       "                     138,  22, 124,  28, 128,  47,  15,  80,  64,  42,  25,  52, 133,\n",
       "                      95,  55,  11,  60, 113,  62,  49,  83,  78, 112,  85,  21, 129,\n",
       "                     135,  81,  12, 117,  93,  61, 147,  69,  51,  18,   8,   6, 137,\n",
       "                     106,  46,   9,  57,  67, 160,   1, 107,  76,   3,  41, 118,  66,\n",
       "                     148,  86, 154, 143,  97, 142,  31, 155, 159,   2, 151, 126,  56,\n",
       "                     130,  88,  16,   0,  99, 153,  48, 100,  17,  94,  70, 145, 165,\n",
       "                      71,  68,  73,  92,  40,  87, 121,  34, 122,  72,  54,  19,  33,\n",
       "                     108,  98,  14, 104,  38,  43, 136, 105, 109,  32,  37,  65,  89,\n",
       "                      59,  44,  77, 103, 114,  63,   7,  74,  13, 158,  84,  45, 127,\n",
       "                     152, 134,  27, 141,  24, 116,  10, 163, 110, 157,  53, 120,  29,\n",
       "                       4,  23,  79,  39, 149,  26, 150, 144, 102, 119]),\n",
       "              array([ 35, 125, 161,  91, 101,  82, 162, 140, 123,  36,  50, 164,  20,\n",
       "                      96, 139,  95, 111, 131,  30, 156, 146,  22, 160,  90, 132,  42,\n",
       "                      55, 138, 115,  80, 135,  75, 128,  25,  83,  46,  47, 137,  51,\n",
       "                     124, 147,  21, 112,  78,  52,  11,  12, 113,  69,  41,   8, 117,\n",
       "                      93,  67, 148,  18,  81,  85,  76,  65,  49,  86,  97, 143, 133,\n",
       "                      15, 118,   6,  57,  94, 107, 159,   5,  68, 155,   1, 154,  61,\n",
       "                     142,   9,  66,   2,  56, 100, 153,  62,  60,  16,  99,  70,  31,\n",
       "                      40,  72, 126,  71,  58,  38,  48,  98,  64,  73, 136,  54,   3,\n",
       "                     106, 108,  17, 109, 150,  37, 158,  44,  19,  63, 129,  53,  45,\n",
       "                      89,  28, 121,  10, 145, 122,  14,   4, 144, 152,  33,  87, 141,\n",
       "                      59, 165,  74, 104,  43, 134, 163,  32,  92,  27, 114,  23,  34,\n",
       "                     151, 157, 110, 105, 116,  77, 130,   7, 149,  13,   0,  39,  88,\n",
       "                      29, 127, 103, 102, 120, 119,  26,  79,  84,  24]),\n",
       "              array([ 35, 162,  91, 125, 101, 161, 131,  36,  30, 123, 164,  82,  96,\n",
       "                     140,  50,  90,  20, 146, 124, 156,  69, 135,  67, 128,  83,  42,\n",
       "                     132,  47,  12, 115, 147, 111,   5,  93,  95, 139,  62,  75, 137,\n",
       "                      51,  21,   8,  80, 138,  76,  22,  52, 107,  58,  81, 148,  25,\n",
       "                      85, 154, 117, 113,  97, 133,  61,  60,   2,   1, 112,  31,   6,\n",
       "                      15, 143,  41, 118,  11,  49,  16,  86,  78,  57, 142, 160, 159,\n",
       "                     126,  66,   9,  18,  94,  56, 155,  46, 108, 165,  70,   3, 100,\n",
       "                      99,  64,  71, 145,  55, 153,  28,  40,  72, 144,  98,  87,  38,\n",
       "                      68,  54, 129, 130, 136, 158, 122,  65,   7, 121,  17,  14, 106,\n",
       "                     105,  33,  63, 150,  89,   0,  77,  45,  43,  37, 157,  73, 104,\n",
       "                      79, 110,  48, 109,  88,  13,  59, 151,  92,  44,  10,   4, 103,\n",
       "                      19, 163, 149,  39, 152,  23,  74, 116, 141,  34, 127, 114, 120,\n",
       "                     134,  24,  29,  27,  26,  53, 119, 102,  32,  84])],\n",
       "             'xaxis': []})"
      ]
     },
     "execution_count": 21,
     "metadata": {},
     "output_type": "execute_result"
    }
   ],
   "source": [
    "aa"
   ]
  },
  {
   "cell_type": "code",
   "execution_count": null,
   "id": "07b7ee87-80ab-42fb-bf58-868c3005e246",
   "metadata": {},
   "outputs": [],
   "source": [
    "plot_ccm_comparison(xaxis, config[\"data_name\"], scores_ensemble, file_name=dir_name+\"/plot_comparison\")"
   ]
  }
 ],
 "metadata": {
  "kernelspec": {
   "display_name": "fs",
   "language": "python",
   "name": "fs"
  },
  "language_info": {
   "codemirror_mode": {
    "name": "ipython",
    "version": 3
   },
   "file_extension": ".py",
   "mimetype": "text/x-python",
   "name": "python",
   "nbconvert_exporter": "python",
   "pygments_lexer": "ipython3",
   "version": "3.8.5"
  },
  "toc": {
   "base_numbering": 1,
   "nav_menu": {},
   "number_sections": true,
   "sideBar": true,
   "skip_h1_title": false,
   "title_cell": "Table of Contents",
   "title_sidebar": "Contents",
   "toc_cell": false,
   "toc_position": {},
   "toc_section_display": true,
   "toc_window_display": false
  },
  "varInspector": {
   "cols": {
    "lenName": 16,
    "lenType": 16,
    "lenVar": 40
   },
   "kernels_config": {
    "python": {
     "delete_cmd_postfix": "",
     "delete_cmd_prefix": "del ",
     "library": "var_list.py",
     "varRefreshCmd": "print(var_dic_list())"
    },
    "r": {
     "delete_cmd_postfix": ") ",
     "delete_cmd_prefix": "rm(",
     "library": "var_list.r",
     "varRefreshCmd": "cat(var_dic_list()) "
    }
   },
   "types_to_exclude": [
    "module",
    "function",
    "builtin_function_or_method",
    "instance",
    "_Feature"
   ],
   "window_display": false
  }
 },
 "nbformat": 4,
 "nbformat_minor": 5
}
