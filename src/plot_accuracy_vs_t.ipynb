{
 "cells": [
  {
   "cell_type": "code",
   "execution_count": 1,
   "metadata": {
    "ExecuteTime": {
     "end_time": "2021-02-05T04:59:05.839506Z",
     "start_time": "2021-02-05T04:59:05.836878Z"
    }
   },
   "outputs": [],
   "source": [
    "%matplotlib inline"
   ]
  },
  {
   "cell_type": "code",
   "execution_count": 1,
   "metadata": {
    "ExecuteTime": {
     "end_time": "2021-02-05T04:59:07.156267Z",
     "start_time": "2021-02-05T04:59:05.843660Z"
    }
   },
   "outputs": [],
   "source": [
    "import fourier_learning\n",
    "\n",
    "from sklearn.model_selection import train_test_split\n",
    "import scipy.io\n",
    "from sklearn.pipeline import Pipeline\n",
    "from sklearn.metrics import accuracy_score\n",
    "from sklearn.preprocessing import StandardScaler\n",
    "from sklearn.svm import SVC\n",
    "import numpy as np\n",
    "import matplotlib.pyplot as plt\n",
    "import matplotlib\n",
    "from multiprocessing import Pool\n",
    "from sklearn import model_selection\n",
    "from sklearn.model_selection import cross_val_score\n",
    "\n",
    "from scipy.io import savemat\n",
    "import os"
   ]
  },
  {
   "cell_type": "code",
   "execution_count": 2,
   "metadata": {
    "ExecuteTime": {
     "end_time": "2021-02-05T04:59:10.216943Z",
     "start_time": "2021-02-05T04:59:10.211885Z"
    }
   },
   "outputs": [
    {
     "name": "stderr",
     "output_type": "stream",
     "text": [
      "<ipython-input-2-db676e3096e5>:28: MatplotlibDeprecationWarning: Support for setting the 'text.latex.preamble' or 'pgf.preamble' rcParam to a list of strings is deprecated since 3.3 and will be removed two minor releases later; set it to a single string instead.\n",
      "  matplotlib.rcParams['text.latex.preamble']=[r\"\\usepackage{amsmath,amssymb,amsfonts}\"]\n"
     ]
    }
   ],
   "source": [
    "def figsize(scale):\n",
    "    fig_width_pt = 487.8225     # Get this from LaTeX using \\the\\textwidth\n",
    "    inches_per_pt = 1.0/72.27   # Convert pt to inch\n",
    "    golden_mean = (np.sqrt(5.0)-1.0)/2.0    # Aesthetic ratio (you could change this)\n",
    "    fig_width = fig_width_pt*inches_per_pt*scale # width in inches\n",
    "    fig_height = fig_width*golden_mean  # height in inches\n",
    "    fig_size = [fig_width,fig_height]\n",
    "    return fig_size\n",
    "\n",
    "pgf_with_latex = {                      # setup matplotlib to use latex for output\n",
    "    \"pgf.texsystem\": \"pdflatex\",        # change this if using xetex or lautex\n",
    "    \"text.usetex\": True,                # use LaTeX to write all text\n",
    "    \"font.family\": \"serif\",\n",
    "    \"font.serif\": [],                   # blank entries should cause plots to inherit fonts from the document\n",
    "    \"font.sans-serif\": [],\n",
    "    \"font.monospace\": [],\n",
    "    \"axes.labelsize\": 10,               # LaTeX default is 10pt font.\n",
    "    \"font.size\": 8,\n",
    "    \"legend.fontsize\": 8,               # Make the legend/label fonts a little smaller\n",
    "    \"xtick.labelsize\": 8,\n",
    "    \"ytick.labelsize\": 8,\n",
    "    \"figure.figsize\": figsize(0.9),     # default fig size of 0.9 textwidth\n",
    "    }\n",
    "matplotlib.rcParams.update(pgf_with_latex)\n",
    "\n",
    "cust_color=[\"#e41a1c\", \"#377eb8\", \"#4daf4a\", \"#984ea3\", \"#ff7f00\", \"#ffff33\", \"#a65628\", \"#f781bf\"]\n",
    "matplotlib.rcParams['savefig.dpi'] = 125\n",
    "matplotlib.rcParams['text.latex.preamble']=[r\"\\usepackage{amsmath,amssymb,amsfonts}\"]"
   ]
  },
  {
   "cell_type": "code",
   "execution_count": 3,
   "metadata": {
    "ExecuteTime": {
     "end_time": "2021-02-05T04:59:13.698695Z",
     "start_time": "2021-02-05T04:59:13.694819Z"
    }
   },
   "outputs": [],
   "source": [
    "def load_data(data_name):\n",
    "    try:\n",
    "        file = \"../data/icml_paper/{0}.mat\".format(data_name)\n",
    "        temp_data = scipy.io.loadmat(file)\n",
    "        X, y = temp_data['X'], temp_data['Y'].squeeze()\n",
    "        if len(np.unique(y)) > 2:\n",
    "            type_y = 'categorical'\n",
    "        else:\n",
    "            type_y = 'binary'\n",
    "    except:\n",
    "        print(\"No valid data_name entered\")\n",
    "        sys.exit(2)\n",
    "        \n",
    "    if type_y == 'binary' or type_y == 'categorical':\n",
    "        if y.dtype != np.int:\n",
    "            y = y.astype(np.int, copy=False)\n",
    "\n",
    "    return X, y, type_y"
   ]
  },
  {
   "cell_type": "code",
   "execution_count": 4,
   "metadata": {
    "ExecuteTime": {
     "end_time": "2021-02-05T04:59:14.557525Z",
     "start_time": "2021-02-05T04:59:14.554753Z"
    }
   },
   "outputs": [],
   "source": [
    "def load_saved_UFFSfeatures_mohsen(data_name):\n",
    "    file = \"../data/icml_paper/selected_features_UFFS_Mohsen/{0}.mat\".format(data_name)\n",
    "    temp_data = scipy.io.loadmat(file)\n",
    "    selected_features = np.array(temp_data[\"SelectedFS\"]).squeeze() - 1\n",
    "    return list(selected_features)"
   ]
  },
  {
   "cell_type": "code",
   "execution_count": 5,
   "metadata": {
    "ExecuteTime": {
     "end_time": "2021-02-05T04:59:15.347522Z",
     "start_time": "2021-02-05T04:59:15.344872Z"
    }
   },
   "outputs": [],
   "source": [
    "def clf_score_with_feature_selection(X_train, y_train, X_test, y_test, clf, feats_selected):\n",
    "    X_sel_train = X_train[:, feats_selected]\n",
    "    X_sel_test = X_test[:, feats_selected]\n",
    "\n",
    "    clf.fit(X_sel_train, y_train)\n",
    "    y_sel_pred = clf.predict(X_sel_test)\n",
    "    return accuracy_score(y_test, y_sel_pred)"
   ]
  },
  {
   "cell_type": "code",
   "execution_count": 6,
   "metadata": {
    "ExecuteTime": {
     "end_time": "2021-02-05T04:59:16.022821Z",
     "start_time": "2021-02-05T04:59:16.019995Z"
    }
   },
   "outputs": [],
   "source": [
    "# Helper function to call supervised fourier selection\n",
    "def fourier_feature_selection(X, y, k, approx= \"depth_based\", depth=2):\n",
    "    mean_emp = np.mean(X, axis=0)\n",
    "    std_emp = np.std(X, ddof=1, axis=0)\n",
    "    fourier_featsel = fourier_learning.SupervisedFourierFS(k, mean_emp, std_emp, approx, depth)\n",
    "    feats_selected = fourier_featsel.fit(X, y)\n",
    "    return feats_selected"
   ]
  },
  {
   "cell_type": "code",
   "execution_count": 7,
   "metadata": {
    "ExecuteTime": {
     "end_time": "2021-02-05T04:59:16.727853Z",
     "start_time": "2021-02-05T04:59:16.724272Z"
    }
   },
   "outputs": [],
   "source": [
    "def remove_zero_variance_fets(X_train, X_test, sel_features_UFFS_X):\n",
    "    _, d = X_train.shape\n",
    "    mask = (np.std(X_train, ddof=1, axis=0) > 1e-5)\n",
    "    valid_features = np.arange(d)\n",
    "    valid_features = valid_features[mask]\n",
    "    valid_features = list(set(valid_features).intersection(sel_features_UFFS_X))\n",
    "    X_train = X_train[:, valid_features]\n",
    "    X_test = X_test[:, valid_features]\n",
    "    return X_train, X_test"
   ]
  },
  {
   "cell_type": "code",
   "execution_count": 62,
   "metadata": {
    "ExecuteTime": {
     "end_time": "2021-02-05T05:59:21.727478Z",
     "start_time": "2021-02-05T05:59:21.719838Z"
    }
   },
   "outputs": [],
   "source": [
    "FIGSIZE_SCALE_REQD = 0.6\n",
    "def plot_score_vs_t(score_dict, score_original, title):\n",
    "    fig, ax = plt.subplots(figsize = figsize(FIGSIZE_SCALE_REQD))\n",
    "    ax = plt.axes(frameon=1)\n",
    "    ax.spines[\"top\"].set_visible(False)\n",
    "    ax.spines[\"right\"].set_visible(False)\n",
    "    plt.grid(alpha=1,linestyle='dotted')\n",
    "    ax.minorticks_on()\n",
    "    ax.tick_params(axis='x', which='minor', bottom=True)\n",
    "    ax.tick_params(axis='y', which='minor', left=False)\n",
    "    for k, scores in score_dict.items():\n",
    "        t_vec = range(1, len(scores[0])+1)\n",
    "        p = plt.plot(t_vec, scores[0], label = \"$k=${0}\".format(k), alpha = 0.7)\n",
    "        print(scores)\n",
    "        lower_limit = scores[0] - 1.96*scores[1]/np.sqrt(5)\n",
    "        upper_limit = scores[0] + 1.96*scores[1]/np.sqrt(5)\n",
    "        plt.fill_between(t_vec, lower_limit, upper_limit, color = p[0].get_color(), alpha = 0.15)\n",
    "    plt.axhline(y = score_original[0]*100, color =\"black\", linestyle =\"--\", alpha=0.7, \n",
    "                label = \"no feature selection\")\n",
    "    lower_limit_orig = score_original[0] - 1.96*score_original[1]/np.sqrt(5)\n",
    "    upper_limit_orig = score_original[0] + 1.96*score_original[1]/np.sqrt(5)\n",
    "    plt.fill_between(t_vec, lower_limit_orig, upper_limit_orig, color = \"black\", alpha = 0.2)\n",
    "    plt.xlabel(r\"$t$\")\n",
    "    plt.ylabel(\"accuracy\")\n",
    "    plt.ylim((50,100))\n",
    "#     plt.legend(loc='best')\n",
    "    plt.legend(loc=(0.52,0.02))\n",
    "    plt.title(title)\n",
    "    plt.savefig(\"temp.pdf\", bbox_inches='tight', pad_inches = 0.02)\n",
    "    plt.show()"
   ]
  },
  {
   "cell_type": "code",
   "execution_count": 9,
   "metadata": {
    "ExecuteTime": {
     "end_time": "2021-02-05T05:53:07.465589Z",
     "start_time": "2021-02-05T05:53:07.461580Z"
    }
   },
   "outputs": [],
   "source": [
    "def original_score_cv(data):\n",
    "    X, y, type_y = load_data(data)\n",
    "    skf = model_selection.StratifiedKFold(n_splits=5)\n",
    "    Accuracies = cross_val_score(clf, X, y, cv=skf)\n",
    "    scores_mean_orig = np.mean(Accuracies, axis=0)\n",
    "    scores_std_orig = np.std(Accuracies, axis=0)\n",
    "    return (scores_mean_orig, scores_std_orig)"
   ]
  },
  {
   "cell_type": "code",
   "execution_count": 10,
   "metadata": {
    "ExecuteTime": {
     "end_time": "2021-02-04T17:17:31.302093Z",
     "start_time": "2021-02-04T17:17:31.297150Z"
    }
   },
   "outputs": [],
   "source": [
    "def cv_sample_single_run(X, y, k, t, clf, partitions, m, sel_features_UFFS_X = []):\n",
    "    train_indices, test_indices = partitions[m]\n",
    "\n",
    "    X_train = X[train_indices]\n",
    "    y_train = y[train_indices]\n",
    "    X_test = X[test_indices]\n",
    "    y_test = y[test_indices]\n",
    "\n",
    "    # Variance threshold --------------------------------------------------\n",
    "    _, d = X_train.shape\n",
    "    mask = (np.std(X_train, ddof=1, axis=0) > 1e-5)\n",
    "    valid_features = np.arange(d)\n",
    "    valid_features = valid_features[mask]\n",
    "\n",
    "    valid_features = list(set(valid_features).intersection(sel_features_UFFS_X))\n",
    "    X_train = X_train[:, valid_features]\n",
    "    X_test = X_test[:, valid_features]\n",
    "    # ---------------------------------------------------------------------\n",
    "#     X_train, X_test = X_train[:,sel_features_UFFS_X], X_test[:,sel_features_UFFS_X]\n",
    "    # ---------------------------------------------------------------------\n",
    "    feats_selected = fourier_feature_selection(X_train, y_train, k,\n",
    "                                                   approx=\"depth_based\", depth=t)\n",
    "    score_temp = clf_score_with_feature_selection(X_train, y_train, X_test, y_test, clf, feats_selected)\n",
    "    \n",
    "    fname = \"k-{0}_t-{1}_data_fold_{2}.mat\".format(k, t, m)\n",
    "    fdir = \"../results/accuracy_vs_t/{0}_1\".format(DATA_NAME)\n",
    "    if not os.path.exists(fdir):\n",
    "        os.makedirs(fdir)\n",
    "    fpath = os.path.join(fdir, fname)\n",
    "    data_dict = {\"X_train\": X_train, \"y_train\": y_train, \"X_test\": X_test, \"y_test\": y_test}\n",
    "    savemat(fpath, data_dict)\n",
    "\n",
    "    fname = \"k-{0}_t-{1}_sel-features_fold_{2}.csv\".format(k, t, m)\n",
    "    fpath = os.path.join(fdir, fname)\n",
    "    np.savetxt(fpath, feats_selected, delimiter=',')\n",
    "\n",
    "    return score_temp    "
   ]
  },
  {
   "cell_type": "code",
   "execution_count": 11,
   "metadata": {
    "ExecuteTime": {
     "end_time": "2021-02-05T05:53:08.702678Z",
     "start_time": "2021-02-05T05:53:08.699877Z"
    }
   },
   "outputs": [],
   "source": [
    "clf = Pipeline([\n",
    "    (\"scaler\", StandardScaler()),\n",
    "    (\"svm_clf\", SVC(kernel=\"rbf\", C=1, gamma = 'auto'))\n",
    "])"
   ]
  },
  {
   "cell_type": "markdown",
   "metadata": {},
   "source": [
    "# Main code"
   ]
  },
  {
   "cell_type": "code",
   "execution_count": 18,
   "metadata": {
    "ExecuteTime": {
     "end_time": "2021-02-04T18:45:41.607713Z",
     "start_time": "2021-02-04T18:45:41.605689Z"
    }
   },
   "outputs": [],
   "source": [
    "DATA_NAME = \"Australian\""
   ]
  },
  {
   "cell_type": "code",
   "execution_count": 19,
   "metadata": {
    "ExecuteTime": {
     "end_time": "2021-02-04T17:17:27.009477Z",
     "start_time": "2021-02-04T17:17:26.992778Z"
    }
   },
   "outputs": [
    {
     "name": "stdout",
     "output_type": "stream",
     "text": [
      "X.shape:  (690, 14)\n",
      "len(sel_features_UFFS_X):  11\n",
      "score_original:  0.8115942028985508\n"
     ]
    },
    {
     "name": "stderr",
     "output_type": "stream",
     "text": [
      "<ipython-input-3-d8b26a17c42c>:15: DeprecationWarning: `np.int` is a deprecated alias for the builtin `int`. To silence this warning, use `int` by itself. Doing this will not modify any behavior and is safe. When replacing `np.int`, you may wish to use e.g. `np.int64` or `np.int32` to specify the precision. If you wish to review your current use, check the release note link for additional information.\n",
      "Deprecated in NumPy 1.20; for more details and guidance: https://numpy.org/devdocs/release/1.20.0-notes.html#deprecations\n",
      "  if y.dtype != np.int:\n",
      "<ipython-input-3-d8b26a17c42c>:16: DeprecationWarning: `np.int` is a deprecated alias for the builtin `int`. To silence this warning, use `int` by itself. Doing this will not modify any behavior and is safe. When replacing `np.int`, you may wish to use e.g. `np.int64` or `np.int32` to specify the precision. If you wish to review your current use, check the release note link for additional information.\n",
      "Deprecated in NumPy 1.20; for more details and guidance: https://numpy.org/devdocs/release/1.20.0-notes.html#deprecations\n",
      "  y = y.astype(np.int, copy=False)\n"
     ]
    }
   ],
   "source": [
    "X, y, type_y = load_data(DATA_NAME)\n",
    "print(\"X.shape: \", X.shape)\n",
    "sel_features_UFFS_X = load_saved_UFFSfeatures_mohsen(DATA_NAME)\n",
    "print(\"len(sel_features_UFFS_X): \",len(sel_features_UFFS_X))\n",
    "\n",
    "X_train, X_test, y_train, y_test = train_test_split(X, y, test_size=0.2, \n",
    "                                                    random_state=42, stratify=y, shuffle=True)\n",
    "score_original = clf_score_with_feature_selection(X_train, y_train, X_test, y_test, clf, np.arange(X.shape[1]))\n",
    "print(\"score_original: \", score_original)\n",
    "\n",
    "# option 1\n",
    "X_train, X_test = X_train[:,sel_features_UFFS_X], X_test[:,sel_features_UFFS_X]\n",
    "#---------\n",
    "# option 2\n",
    "# X_train, X_test = remove_zero_variance_fets(X_train, X_test, sel_features_UFFS_X)\n",
    "# score_original = clf_score_with_feature_selection(X_train, y_train, X_test, y_test, clf, np.arange(X_train.shape[1]))\n",
    "# print(\"score_original: \", score_original)\n",
    "# ---------"
   ]
  },
  {
   "cell_type": "code",
   "execution_count": 20,
   "metadata": {
    "ExecuteTime": {
     "end_time": "2021-02-04T17:17:29.598604Z",
     "start_time": "2021-02-04T17:17:29.596643Z"
    }
   },
   "outputs": [],
   "source": [
    "# out_file = open('./logs.txt', 'a')\n",
    "# score = []\n",
    "# max_t = 7\n",
    "# k = 20\n",
    "# for t in range(1,max_t):\n",
    "#     feats_selected = fourier_feature_selection(X_train, y_train, k, approx=\"depth_based\", depth=t)\n",
    "#     score_temp = clf_score_with_feature_selection \\\n",
    "#             (X_train, y_train, X_test, y_test, clf, feats_selected)\n",
    "#     score.append(score_temp)\n",
    "#     print(t,\"{0:0.3f}\".format(score_temp))\n",
    "\n",
    "# print(\"DATA_NAME: \", DATA_NAME, file=out_file)\n",
    "# print(\"max_t: {0}, k: {1}\".format(max_t, k), file=out_file)\n",
    "# print(\"score_original: {0:3f}\".format(score_original*100), file=out_file)\n",
    "# print(\"score:{0}\\n\\n\".format(np.array(score)*100), sep=\", \", file=out_file)\n",
    "# out_file.close()"
   ]
  },
  {
   "cell_type": "markdown",
   "metadata": {},
   "source": [
    "Covertype result, k = 10, t = 8\n",
    "[0.717948717948718,\n",
    " 0.7521367521367521,\n",
    " 0.7350427350427351,\n",
    " 0.7692307692307693,\n",
    " 0.7350427350427351,\n",
    " 0.7521367521367521,\n",
    " 0.7008547008547008,\n",
    " 0.6324786324786325]"
   ]
  },
  {
   "cell_type": "code",
   "execution_count": 21,
   "metadata": {
    "ExecuteTime": {
     "end_time": "2021-02-04T17:18:18.912405Z",
     "start_time": "2021-02-04T17:18:16.918296Z"
    }
   },
   "outputs": [
    {
     "name": "stdout",
     "output_type": "stream",
     "text": [
      "[0.8492753623188406]\n",
      "[0.8492753623188406, 0.8507246376811594]\n",
      "[0.8492753623188406, 0.8507246376811594, 0.8507246376811594]\n",
      "[0.8492753623188406, 0.8507246376811594, 0.8507246376811594, 0.8507246376811594]\n",
      "[0.8492753623188406, 0.8507246376811594, 0.8507246376811594, 0.8507246376811594, 0.8536231884057971]\n",
      "[0.8492753623188406, 0.8507246376811594, 0.8507246376811594, 0.8507246376811594, 0.8536231884057971, 0.8536231884057971]\n",
      "[0.8492753623188406, 0.8507246376811594, 0.8507246376811594, 0.8507246376811594, 0.8536231884057971, 0.8536231884057971, 0.8608695652173914]\n",
      "[0.8492753623188406, 0.8507246376811594, 0.8507246376811594, 0.8507246376811594, 0.8536231884057971, 0.8536231884057971, 0.8608695652173914, 0.855072463768116]\n"
     ]
    }
   ],
   "source": [
    "np.random.seed(42)\n",
    "out_file = open('./logs.txt', 'a')\n",
    "NO_RUNS = 5\n",
    "k = 10\n",
    "max_t = 9\n",
    "scores_mean = []\n",
    "scores_std = []\n",
    "for t in range(1, max_t):\n",
    "    kf = model_selection.StratifiedKFold(n_splits=NO_RUNS, shuffle=True, random_state=42)\n",
    "    partitions = list(kf.split(X,y))\n",
    "#     pool = Pool()\n",
    "#     args = [(X, y, k, t, clf, partitions, fold_i,\n",
    "#              sel_features_UFFS_X) for fold_i in range(0, NO_RUNS)]\n",
    "#     Accuracies = np.array(pool.starmap(cv_sample_single_run, args))\n",
    "#     pool.close()\n",
    "    Accuracies = []\n",
    "    for fold_i in range(NO_RUNS):\n",
    "        Accuracies.append(cv_sample_single_run(X, y, k, t, clf, partitions, fold_i, sel_features_UFFS_X))\n",
    "        \n",
    "    scores_mean_temp = np.mean(Accuracies, axis=0)\n",
    "    scores_std_temp = np.std(Accuracies, axis=0)\n",
    "    scores_mean.append(scores_mean_temp)\n",
    "    scores_std.append(scores_std_temp)\n",
    "    print(scores_mean)\n",
    "print(\"With cross-validation...\", file=out_file)\n",
    "print(\"DATA_NAME: \", DATA_NAME, file=out_file)\n",
    "print(\"max_t: {0}, k: {1}, NO_RUNS: {2}\".format(max_t, k, NO_RUNS), file=out_file)\n",
    "print(\"score_original: {0:3f}\".format(score_original*100), file=out_file)\n",
    "print(\"score_mean:{0}\".format(np.array(scores_mean)*100), sep=\", \", file=out_file)\n",
    "print(\"score_std:{0}\\n\\n\".format(np.array(scores_std)*100), sep=\", \", file=out_file)\n",
    "out_file.close()"
   ]
  },
  {
   "cell_type": "markdown",
   "metadata": {},
   "source": [
    "# Plotting"
   ]
  },
  {
   "cell_type": "markdown",
   "metadata": {},
   "source": [
    "## Coverttype: data1"
   ]
  },
  {
   "cell_type": "code",
   "execution_count": 76,
   "metadata": {
    "ExecuteTime": {
     "end_time": "2021-02-05T05:53:11.577806Z",
     "start_time": "2021-02-05T05:53:11.573670Z"
    }
   },
   "outputs": [],
   "source": [
    "score_dict = {\n",
    "    5: [\n",
    "        np.array([62.64662541, 71.94665488, 72.80872384, 72.80872384, 72.80872384, 72.97671677]), \n",
    "        np.array([4.98183816, 2.19629331, 1.32840806, 1.32840806, 1.32840806, 1.18628506])\n",
    "    ],\n",
    "    10: [\n",
    "        np.array([69.18508694, 75.72944297, 72.45652815, 70.39345712, 70.3919835,  69.87474212]),\n",
    "        np.array([5.38276961, 1.86479883, 1.51960672, 1.22239956, 1.36700677, 2.7720811])\n",
    "    ],\n",
    "    20: [\n",
    "        np.array([74.69643383, 75.21072797, 75.55408193, 75.55408193, 75.7250221,  75.55113469]),\n",
    "        np.array([1.80483164, 2.18373999, 3.05249155, 3.05249155, 3.70903585, 3.7249758])\n",
    "    ]\n",
    "}"
   ]
  },
  {
   "cell_type": "code",
   "execution_count": 77,
   "metadata": {
    "ExecuteTime": {
     "end_time": "2021-02-05T05:53:12.914705Z",
     "start_time": "2021-02-05T05:53:12.830204Z"
    }
   },
   "outputs": [
    {
     "name": "stderr",
     "output_type": "stream",
     "text": [
      "<ipython-input-3-d8b26a17c42c>:15: DeprecationWarning: `np.int` is a deprecated alias for the builtin `int`. To silence this warning, use `int` by itself. Doing this will not modify any behavior and is safe. When replacing `np.int`, you may wish to use e.g. `np.int64` or `np.int32` to specify the precision. If you wish to review your current use, check the release note link for additional information.\n",
      "Deprecated in NumPy 1.20; for more details and guidance: https://numpy.org/devdocs/release/1.20.0-notes.html#deprecations\n",
      "  if y.dtype != np.int:\n",
      "<ipython-input-3-d8b26a17c42c>:16: DeprecationWarning: `np.int` is a deprecated alias for the builtin `int`. To silence this warning, use `int` by itself. Doing this will not modify any behavior and is safe. When replacing `np.int`, you may wish to use e.g. `np.int64` or `np.int32` to specify the precision. If you wish to review your current use, check the release note link for additional information.\n",
      "Deprecated in NumPy 1.20; for more details and guidance: https://numpy.org/devdocs/release/1.20.0-notes.html#deprecations\n",
      "  y = y.astype(np.int, copy=False)\n"
     ]
    }
   ],
   "source": [
    "# original score\n",
    "score_original = original_score_cv(\"Covertype\")\n",
    "score_original = np.array(score_original)"
   ]
  },
  {
   "cell_type": "code",
   "execution_count": 78,
   "metadata": {
    "ExecuteTime": {
     "end_time": "2021-02-05T05:53:14.088010Z",
     "start_time": "2021-02-05T05:53:14.084899Z"
    }
   },
   "outputs": [
    {
     "data": {
      "text/plain": [
       "array([0.69361922, 0.04181356])"
      ]
     },
     "execution_count": 78,
     "metadata": {},
     "output_type": "execute_result"
    }
   ],
   "source": [
    "score_original"
   ]
  },
  {
   "cell_type": "code",
   "execution_count": 80,
   "metadata": {
    "ExecuteTime": {
     "end_time": "2021-02-05T05:53:15.824700Z",
     "start_time": "2021-02-05T05:53:15.320667Z"
    }
   },
   "outputs": [
    {
     "name": "stdout",
     "output_type": "stream",
     "text": [
      "[array([62.64662541, 71.94665488, 72.80872384, 72.80872384, 72.80872384,\n",
      "       72.97671677]), array([4.98183816, 2.19629331, 1.32840806, 1.32840806, 1.32840806,\n",
      "       1.18628506])]\n",
      "[array([69.18508694, 75.72944297, 72.45652815, 70.39345712, 70.3919835 ,\n",
      "       69.87474212]), array([5.38276961, 1.86479883, 1.51960672, 1.22239956, 1.36700677,\n",
      "       2.7720811 ])]\n",
      "[array([74.69643383, 75.21072797, 75.55408193, 75.55408193, 75.7250221 ,\n",
      "       75.55113469]), array([1.80483164, 2.18373999, 3.05249155, 3.05249155, 3.70903585,\n",
      "       3.7249758 ])]\n"
     ]
    },
    {
     "data": {
      "image/png": "[encoded data removed]",
      "text/plain": [
       "<Figure size 291.6x180.219 with 1 Axes>"
      ]
     },
     "metadata": {
      "needs_background": "light"
     },
     "output_type": "display_data"
    }
   ],
   "source": [
    "t_vec = range(1,7)\n",
    "title = \"Covertype\"\n",
    "plot_score_vs_t(score_dict, score_original, \"Covertype\")"
   ]
  },
  {
   "cell_type": "markdown",
   "metadata": {},
   "source": [
    "## ALL_AML"
   ]
  },
  {
   "cell_type": "code",
   "execution_count": 70,
   "metadata": {
    "ExecuteTime": {
     "end_time": "2021-02-05T05:53:55.800633Z",
     "start_time": "2021-02-05T05:53:55.796847Z"
    }
   },
   "outputs": [],
   "source": [
    "score_dict = {\n",
    "    5: [\n",
    "        np.array([92.95238095, 80.47619048, 87.42857143, 91.52380952, 88.66666667, 91.61904762]), \n",
    "        np.array([6.39160447,  8.43274043,  5.4093226,   5.37399466, 11.64244327,  7.0411811 ])\n",
    "    ],\n",
    "    10: [\n",
    "        np.array([97.22222222, 95.83333333, 94.44444444, 94.44444444, 93.05555556, 94.44444444]),\n",
    "        np.array([4.81125224, 7.73300606, 7.85674201, 7.85674201, 9.5217425,  7.85674201])\n",
    "    ],\n",
    "    20: [\n",
    "        np.array([95.83333333, 97.22222222, 97.22222222, 97.22222222, 97.22222222, 95.83333333]),\n",
    "        np.array([5.37914354, 4.81125224, 4.81125224, 4.81125224, 4.81125224, 5.37914354])\n",
    "    ]\n",
    "}"
   ]
  },
  {
   "cell_type": "code",
   "execution_count": 72,
   "metadata": {
    "ExecuteTime": {
     "end_time": "2021-02-05T05:53:57.279834Z",
     "start_time": "2021-02-05T05:53:57.054990Z"
    }
   },
   "outputs": [
    {
     "name": "stderr",
     "output_type": "stream",
     "text": [
      "<ipython-input-3-d8b26a17c42c>:15: DeprecationWarning: `np.int` is a deprecated alias for the builtin `int`. To silence this warning, use `int` by itself. Doing this will not modify any behavior and is safe. When replacing `np.int`, you may wish to use e.g. `np.int64` or `np.int32` to specify the precision. If you wish to review your current use, check the release note link for additional information.\n",
      "Deprecated in NumPy 1.20; for more details and guidance: https://numpy.org/devdocs/release/1.20.0-notes.html#deprecations\n",
      "  if y.dtype != np.int:\n",
      "<ipython-input-3-d8b26a17c42c>:16: DeprecationWarning: `np.int` is a deprecated alias for the builtin `int`. To silence this warning, use `int` by itself. Doing this will not modify any behavior and is safe. When replacing `np.int`, you may wish to use e.g. `np.int64` or `np.int32` to specify the precision. If you wish to review your current use, check the release note link for additional information.\n",
      "Deprecated in NumPy 1.20; for more details and guidance: https://numpy.org/devdocs/release/1.20.0-notes.html#deprecations\n",
      "  y = y.astype(np.int, copy=False)\n"
     ]
    }
   ],
   "source": [
    "# original score\n",
    "score_original = original_score_cv(\"ALL AML\")\n",
    "score_original = np.array(score_original)"
   ]
  },
  {
   "cell_type": "code",
   "execution_count": 73,
   "metadata": {
    "ExecuteTime": {
     "end_time": "2021-02-05T05:53:58.478264Z",
     "start_time": "2021-02-05T05:53:58.475624Z"
    }
   },
   "outputs": [
    {
     "data": {
      "text/plain": [
       "array([0.86190476, 0.08523677])"
      ]
     },
     "execution_count": 73,
     "metadata": {},
     "output_type": "execute_result"
    }
   ],
   "source": [
    "score_original"
   ]
  },
  {
   "cell_type": "code",
   "execution_count": 75,
   "metadata": {
    "ExecuteTime": {
     "end_time": "2021-02-05T05:54:00.272292Z",
     "start_time": "2021-02-05T05:53:59.802278Z"
    }
   },
   "outputs": [
    {
     "name": "stdout",
     "output_type": "stream",
     "text": [
      "[array([92.95238095, 80.47619048, 87.42857143, 91.52380952, 88.66666667,\n",
      "       91.61904762]), array([ 6.39160447,  8.43274043,  5.4093226 ,  5.37399466, 11.64244327,\n",
      "        7.0411811 ])]\n",
      "[array([97.22222222, 95.83333333, 94.44444444, 94.44444444, 93.05555556,\n",
      "       94.44444444]), array([4.81125224, 7.73300606, 7.85674201, 7.85674201, 9.5217425 ,\n",
      "       7.85674201])]\n",
      "[array([95.83333333, 97.22222222, 97.22222222, 97.22222222, 97.22222222,\n",
      "       95.83333333]), array([5.37914354, 4.81125224, 4.81125224, 4.81125224, 4.81125224,\n",
      "       5.37914354])]\n"
     ]
    },
    {
     "data": {
      "image/png": "[encoded data removed]",
      "text/plain": [
       "<Figure size 291.6x180.219 with 1 Axes>"
      ]
     },
     "metadata": {
      "needs_background": "light"
     },
     "output_type": "display_data"
    }
   ],
   "source": [
    "t_vec = range(1,7)\n",
    "title = \"ALL AML\"\n",
    "plot_score_vs_t(score_dict, score_original, title)"
   ]
  },
  {
   "cell_type": "markdown",
   "metadata": {},
   "source": [
    "## Musk data 13"
   ]
  },
  {
   "cell_type": "code",
   "execution_count": 64,
   "metadata": {
    "ExecuteTime": {
     "end_time": "2021-02-05T05:59:27.713362Z",
     "start_time": "2021-02-05T05:59:27.709403Z"
    }
   },
   "outputs": [],
   "source": [
    "score_dict = {\n",
    "    5: [\n",
    "        np.array([71.21468927, 68.67231638, 68.29096045, 72.70127119, 72.70127119, 68.89830508]), \n",
    "        np.array([4.51058388, 5.16638402, 6.40877282 ,3.82199677, 3.82199677, 4.54773747])\n",
    "    ],\n",
    "    10: [\n",
    "        np.array([74.37146893, 72.48587571, 77.95550847, 75.63559322, 74.15960452, 73.95127119]),\n",
    "        np.array([1.98308052, 3.29071797, 3.60036359, 2.61154334, 2.91425462, 3.02340522])\n",
    "    ],\n",
    "    20: [\n",
    "        np.array([76.26765537, 77.52824859, 83.20268362, 84.45621469, 78.36511299, 76.69491525]),\n",
    "        np.array([3.77455566, 3.40855235, 1.9842465,  3.60915783, 3.27608838, 4.65281336])\n",
    "    ]\n",
    "}"
   ]
  },
  {
   "cell_type": "code",
   "execution_count": 66,
   "metadata": {
    "ExecuteTime": {
     "end_time": "2021-02-05T05:59:29.167676Z",
     "start_time": "2021-02-05T05:59:28.997394Z"
    }
   },
   "outputs": [
    {
     "name": "stderr",
     "output_type": "stream",
     "text": [
      "<ipython-input-3-d8b26a17c42c>:15: DeprecationWarning: `np.int` is a deprecated alias for the builtin `int`. To silence this warning, use `int` by itself. Doing this will not modify any behavior and is safe. When replacing `np.int`, you may wish to use e.g. `np.int64` or `np.int32` to specify the precision. If you wish to review your current use, check the release note link for additional information.\n",
      "Deprecated in NumPy 1.20; for more details and guidance: https://numpy.org/devdocs/release/1.20.0-notes.html#deprecations\n",
      "  if y.dtype != np.int:\n",
      "<ipython-input-3-d8b26a17c42c>:16: DeprecationWarning: `np.int` is a deprecated alias for the builtin `int`. To silence this warning, use `int` by itself. Doing this will not modify any behavior and is safe. When replacing `np.int`, you may wish to use e.g. `np.int64` or `np.int32` to specify the precision. If you wish to review your current use, check the release note link for additional information.\n",
      "Deprecated in NumPy 1.20; for more details and guidance: https://numpy.org/devdocs/release/1.20.0-notes.html#deprecations\n",
      "  y = y.astype(np.int, copy=False)\n"
     ]
    }
   ],
   "source": [
    "# original score\n",
    "score_original = original_score_cv(\"Musk\")\n",
    "score_original = np.array(score_original)"
   ]
  },
  {
   "cell_type": "code",
   "execution_count": 67,
   "metadata": {
    "ExecuteTime": {
     "end_time": "2021-02-05T05:59:30.403897Z",
     "start_time": "2021-02-05T05:59:30.401139Z"
    }
   },
   "outputs": [
    {
     "data": {
      "text/plain": [
       "array([0.80256579, 0.06655359])"
      ]
     },
     "execution_count": 67,
     "metadata": {},
     "output_type": "execute_result"
    }
   ],
   "source": [
    "score_original"
   ]
  },
  {
   "cell_type": "code",
   "execution_count": 69,
   "metadata": {
    "ExecuteTime": {
     "end_time": "2021-02-05T05:59:32.015728Z",
     "start_time": "2021-02-05T05:59:31.534386Z"
    }
   },
   "outputs": [
    {
     "name": "stdout",
     "output_type": "stream",
     "text": [
      "[array([71.21468927, 68.67231638, 68.29096045, 72.70127119, 72.70127119,\n",
      "       68.89830508]), array([4.51058388, 5.16638402, 6.40877282, 3.82199677, 3.82199677,\n",
      "       4.54773747])]\n",
      "[array([74.37146893, 72.48587571, 77.95550847, 75.63559322, 74.15960452,\n",
      "       73.95127119]), array([1.98308052, 3.29071797, 3.60036359, 2.61154334, 2.91425462,\n",
      "       3.02340522])]\n",
      "[array([76.26765537, 77.52824859, 83.20268362, 84.45621469, 78.36511299,\n",
      "       76.69491525]), array([3.77455566, 3.40855235, 1.9842465 , 3.60915783, 3.27608838,\n",
      "       4.65281336])]\n"
     ]
    },
    {
     "data": {
      "image/png": "[encoded data removed]",
      "text/plain": [
       "<Figure size 291.6x180.219 with 1 Axes>"
      ]
     },
     "metadata": {
      "needs_background": "light"
     },
     "output_type": "display_data"
    }
   ],
   "source": [
    "t_vec = range(1,7)\n",
    "title = \"Musk\"\n",
    "plot_score_vs_t(score_dict, score_original, title)"
   ]
  },
  {
   "cell_type": "markdown",
   "metadata": {},
   "source": [
    "## Australian data 6"
   ]
  },
  {
   "cell_type": "code",
   "execution_count": 29,
   "metadata": {
    "ExecuteTime": {
     "end_time": "2021-02-05T05:00:39.480544Z",
     "start_time": "2021-02-05T05:00:39.476887Z"
    }
   },
   "outputs": [],
   "source": [
    "# score_dict = {\n",
    "#     4: [\n",
    "#         np.array([86.66666667, 86.52173913, 86.37681159, 86.66666667, 85.50724638, 67.82608696,\n",
    "#  67.82608696, 69.42028986]), \n",
    "#         np.array([6.20993776, 6.2520738,  6.67925717, 6.20993776, 5.61301934, 5.17697713,\n",
    "#  5.17697713, 5.32300512])\n",
    "#     ],\n",
    "#     8: [\n",
    "#         np.array([85.79710145, 86.23188406, 85.94202899, 86.08695652, 86.37681159, 86.23188406,\n",
    "#  86.08695652, 86.23188406]),\n",
    "#         np.array([5.53008233, 5.47089452, 5.42462819, 4.54619917, 4.35747721, 5.47089452,\n",
    "#  5.62049839, 5.31510748])\n",
    "#     ],\n",
    "#     10: [\n",
    "#         np.array([84.92753623, 85.07246377, 85.07246377, 85.07246377, 85.36231884, 85.36231884,\n",
    "#  86.08695652, 85.50724638]),\n",
    "#         np.array([2.80276516, 2.92020894, 2.92020894, 2.92020894, 3.22117547, 3.15529581,\n",
    "#  2.39897759, 3.27292458])\n",
    "#     ]\n",
    "# }"
   ]
  },
  {
   "cell_type": "code",
   "execution_count": 54,
   "metadata": {
    "ExecuteTime": {
     "end_time": "2021-02-05T05:00:39.480544Z",
     "start_time": "2021-02-05T05:00:39.476887Z"
    }
   },
   "outputs": [],
   "source": [
    "score_dict = {\n",
    "    4: [\n",
    "        np.array([86.66666667, 86.52173913, 86.37681159, 86.66666667]), \n",
    "        np.array([6.20993776, 6.2520738,  6.67925717, 6.20993776])\n",
    "    ],\n",
    "    8: [\n",
    "        np.array([85.79710145, 86.23188406, 85.94202899, 86.08695652, 86.37681159, 86.23188406,\n",
    " 86.08695652, 86.23188406]),\n",
    "        np.array([5.53008233, 5.47089452, 5.42462819, 4.54619917, 4.35747721, 5.47089452,\n",
    " 5.62049839, 5.31510748])\n",
    "    ],\n",
    "    10: [\n",
    "        np.array([84.92753623, 85.07246377, 85.07246377, 85.07246377, 85.36231884, 85.36231884,\n",
    " 86.08695652, 85.50724638]),\n",
    "        np.array([2.80276516, 2.92020894, 2.92020894, 2.92020894, 3.22117547, 3.15529581,\n",
    " 2.39897759, 3.27292458])\n",
    "    ]\n",
    "}"
   ]
  },
  {
   "cell_type": "code",
   "execution_count": 55,
   "metadata": {
    "ExecuteTime": {
     "end_time": "2021-02-05T05:00:40.822128Z",
     "start_time": "2021-02-05T05:00:40.773374Z"
    }
   },
   "outputs": [
    {
     "name": "stderr",
     "output_type": "stream",
     "text": [
      "<ipython-input-3-d8b26a17c42c>:15: DeprecationWarning: `np.int` is a deprecated alias for the builtin `int`. To silence this warning, use `int` by itself. Doing this will not modify any behavior and is safe. When replacing `np.int`, you may wish to use e.g. `np.int64` or `np.int32` to specify the precision. If you wish to review your current use, check the release note link for additional information.\n",
      "Deprecated in NumPy 1.20; for more details and guidance: https://numpy.org/devdocs/release/1.20.0-notes.html#deprecations\n",
      "  if y.dtype != np.int:\n",
      "<ipython-input-3-d8b26a17c42c>:16: DeprecationWarning: `np.int` is a deprecated alias for the builtin `int`. To silence this warning, use `int` by itself. Doing this will not modify any behavior and is safe. When replacing `np.int`, you may wish to use e.g. `np.int64` or `np.int32` to specify the precision. If you wish to review your current use, check the release note link for additional information.\n",
      "Deprecated in NumPy 1.20; for more details and guidance: https://numpy.org/devdocs/release/1.20.0-notes.html#deprecations\n",
      "  y = y.astype(np.int, copy=False)\n"
     ]
    }
   ],
   "source": [
    "# original score\n",
    "score_original = original_score_cv(\"Australian\")\n",
    "score_original = np.array(score_original)"
   ]
  },
  {
   "cell_type": "code",
   "execution_count": 56,
   "metadata": {
    "ExecuteTime": {
     "end_time": "2021-02-05T05:00:41.980522Z",
     "start_time": "2021-02-05T05:00:41.977305Z"
    }
   },
   "outputs": [
    {
     "data": {
      "text/plain": [
       "array([0.85217391, 0.03194987])"
      ]
     },
     "execution_count": 56,
     "metadata": {},
     "output_type": "execute_result"
    }
   ],
   "source": [
    "score_original"
   ]
  },
  {
   "cell_type": "code",
   "execution_count": 63,
   "metadata": {
    "ExecuteTime": {
     "end_time": "2021-02-05T05:00:43.549312Z",
     "start_time": "2021-02-05T05:00:43.034574Z"
    }
   },
   "outputs": [
    {
     "name": "stdout",
     "output_type": "stream",
     "text": [
      "[array([86.66666667, 86.52173913, 86.37681159, 86.66666667]), array([6.20993776, 6.2520738 , 6.67925717, 6.20993776])]\n",
      "[array([85.79710145, 86.23188406, 85.94202899, 86.08695652, 86.37681159,\n",
      "       86.23188406, 86.08695652, 86.23188406]), array([5.53008233, 5.47089452, 5.42462819, 4.54619917, 4.35747721,\n",
      "       5.47089452, 5.62049839, 5.31510748])]\n",
      "[array([84.92753623, 85.07246377, 85.07246377, 85.07246377, 85.36231884,\n",
      "       85.36231884, 86.08695652, 85.50724638]), array([2.80276516, 2.92020894, 2.92020894, 2.92020894, 3.22117547,\n",
      "       3.15529581, 2.39897759, 3.27292458])]\n"
     ]
    },
    {
     "data": {
      "image/png": "[encoded data removed]",
      "text/plain": [
       "<Figure size 291.6x180.219 with 1 Axes>"
      ]
     },
     "metadata": {
      "needs_background": "light"
     },
     "output_type": "display_data"
    }
   ],
   "source": [
    "t_vec = range(1,9)\n",
    "title = \"Australian\"\n",
    "plot_score_vs_t(score_dict, score_original, title)"
   ]
  },
  {
   "cell_type": "markdown",
   "metadata": {},
   "source": [
    "# Temp"
   ]
  },
  {
   "cell_type": "code",
   "execution_count": 2,
   "metadata": {},
   "outputs": [],
   "source": [
    "import pickle"
   ]
  },
  {
   "cell_type": "code",
   "execution_count": 8,
   "metadata": {},
   "outputs": [],
   "source": [
    "aa =  pickle.load(open(\"/home/jithin/fourier_learning/results/E1/sel_features_train.pickle\", \"rb\"))"
   ]
  },
  {
   "cell_type": "code",
   "execution_count": 9,
   "metadata": {},
   "outputs": [
    {
     "data": {
      "text/plain": [
       "defaultdict(list,\n",
       "            {'UFFS + SFFS (t=3)': [array([ 1,  2,  3,  0,  4,  8, 19, 15,  5, 10, 11, 17, 16,  7, 13,  9, 14,\n",
       "                     12, 18,  6]),\n",
       "              array([ 0,  3,  4,  1,  2, 15, 19, 14,  5,  9, 10, 18, 17,  8, 12, 13, 11,\n",
       "                      7,  6, 16]),\n",
       "              array([ 1,  2,  3,  0,  4, 19, 15, 10, 11,  7,  5,  8, 13,  9, 18,  6, 14,\n",
       "                     12, 17, 16]),\n",
       "              array([ 0,  3,  4,  1,  2, 15, 19,  5, 11, 10, 14, 17,  8,  9, 13, 18,  6,\n",
       "                     12,  7, 16]),\n",
       "              array([ 1,  2,  3,  0,  4, 15, 10,  8, 19,  5,  7, 17, 13, 11,  9, 18, 16,\n",
       "                     14, 12,  6])],\n",
       "             'UFFS + SFFS (t=2)': [array([ 3,  4,  0,  1,  2, 19, 10,  7, 11,  6, 14, 16, 12, 18,  5,  8]),\n",
       "              array([ 0,  3,  1,  2,  4, 19,  9, 10, 12, 14,  5,  7,  8, 11,  6, 18]),\n",
       "              array([ 0,  3,  2, 19,  4, 10,  1,  9,  6, 12, 18,  5, 14,  7,  8, 16]),\n",
       "              array([ 0,  3,  1,  2,  4, 19, 10,  9,  5, 14,  8, 11,  6, 18,  7, 12]),\n",
       "              array([ 0,  3,  4,  1,  2, 10, 19,  7,  9, 11,  8, 18,  5, 12,  6, 14])],\n",
       "             'UFFS + SFFS (t=1)': [array([ 0,  2,  4, 11, 10, 14, 16,  1,  7, 18,  6,  3, 19,  5, 12,  8]),\n",
       "              array([ 0,  2,  4, 10,  5,  3, 14,  8,  1,  6,  7, 12,  9, 11, 18, 19]),\n",
       "              array([ 0,  2,  4, 12, 18, 10, 14,  6,  1,  8,  3,  9, 16,  7, 19,  5]),\n",
       "              array([ 0,  2,  4,  1, 10,  5,  8, 11, 14,  6, 18,  7,  3, 12, 19,  9]),\n",
       "              array([ 0,  2, 10,  4, 11,  7,  1,  8, 12,  9,  3,  5, 14, 19, 18,  6])],\n",
       "             'CCM': [array([ 0,  2,  4,  3, 15, 14, 17, 11, 10, 16,  7, 12,  6,  1, 13,  9,  8,\n",
       "                     18, 19,  5]),\n",
       "              array([ 3,  0,  4,  2, 15, 10,  7,  5, 16, 11, 17, 18, 14,  8,  9,  1, 19,\n",
       "                     13, 12,  6]),\n",
       "              array([ 0,  2,  4,  3, 15, 12, 18, 14, 10,  6,  1, 17, 11, 16,  5, 19,  8,\n",
       "                     13,  9,  7]),\n",
       "              array([ 0,  2,  4,  3, 15,  1, 17, 10,  5, 14, 11,  9,  8, 12, 18,  6, 13,\n",
       "                     16,  7, 19]),\n",
       "              array([ 0,  2,  4, 15,  3, 10,  1,  7, 11, 16, 12,  5, 17,  6,  9, 14,  8,\n",
       "                     13, 18, 19])],\n",
       "             'ReliefF': [array([ 3,  0,  2,  1,  4, 11,  7,  9, 13,  6, 15,  8, 19, 18, 10, 12, 17,\n",
       "                     16, 14,  5]),\n",
       "              array([ 3,  0,  1,  2,  4, 15, 19,  5, 11, 17,  9, 13,  6, 10,  7, 14, 18,\n",
       "                      8, 12, 16]),\n",
       "              array([ 3,  0,  2,  1,  4, 11, 19, 17,  8, 12, 13, 18,  7, 15,  9, 14,  5,\n",
       "                     10,  6, 16]),\n",
       "              array([ 3,  0,  1,  2,  4, 15, 11, 10, 17, 12,  6, 19,  8,  9, 13,  5,  7,\n",
       "                     14, 18, 16]),\n",
       "              array([ 3,  2,  1,  0,  4, 15,  8,  7,  9, 10, 17, 12, 14, 16,  6,  5, 19,\n",
       "                     11, 18, 13])],\n",
       "             'mRMR': [array([ 0,  2, 15,  4, 17, 10, 14, 11, 16,  9,  7, 18,  5,  6, 12,  1,  8,\n",
       "                     19, 13,  3]),\n",
       "              array([ 0, 15,  4,  2, 10,  5, 14,  6, 18,  8, 17,  3,  7,  1, 16, 12, 11,\n",
       "                     19,  9, 13]),\n",
       "              array([ 0,  2, 15, 18,  4, 10,  6, 12, 14,  8, 16,  9, 19, 13, 11,  5,  7,\n",
       "                      1, 17,  3]),\n",
       "              array([ 0, 15,  2, 10,  4,  5, 17,  1,  6,  8, 14, 18, 11,  7, 19,  9, 12,\n",
       "                     16,  3, 13]),\n",
       "              array([ 0, 15,  2, 10,  4, 16,  9,  5,  8, 11,  6,  7,  1, 12, 19, 17, 18,\n",
       "                     14,  3, 13])],\n",
       "             'MI': [array([ 2,  7, 13, 19, 15, 11,  8, 12, 17, 16, 14,  0, 18,  6,  5,  4,  3,\n",
       "                      1, 10,  9]),\n",
       "              array([ 0, 15, 19, 18,  1,  7, 14,  9, 13, 17, 16, 12,  3, 10,  8,  6,  5,\n",
       "                      4,  2, 11]),\n",
       "              array([19,  0,  2,  8,  1, 18,  4, 14,  9, 16,  5,  6, 11, 12, 13,  3, 15,\n",
       "                     17,  7, 10]),\n",
       "              array([ 4,  2, 12, 16, 19,  8,  0,  9, 15, 17,  7,  5, 18, 10, 11,  3, 13,\n",
       "                     14,  1,  6]),\n",
       "              array([ 7,  3, 11, 19, 10,  1, 18, 12,  0,  2,  8, 15,  6,  5,  4, 13, 14,\n",
       "                     16, 17,  9])],\n",
       "             'RFS': [array([ 4,  2,  1,  0, 17, 11,  7,  5,  3, 15, 12, 18, 13,  8, 19, 14, 16,\n",
       "                     10,  6,  9]),\n",
       "              array([ 0,  1, 15,  4, 13,  5,  2,  7,  9, 17, 12, 10,  6, 14,  8, 11, 16,\n",
       "                     18, 19,  3]),\n",
       "              array([ 0,  1,  2,  4,  7, 12, 13,  8, 15, 19,  3, 14, 10, 18,  6,  5, 17,\n",
       "                     11,  9, 16]),\n",
       "              array([ 1,  0,  2, 15,  5,  4,  8, 13,  3, 17, 18, 12,  7, 14, 10,  6, 19,\n",
       "                     16, 11,  9]),\n",
       "              array([ 1,  0,  2, 15,  4, 11, 12,  8, 13,  5,  9,  6, 14,  3, 16, 10, 17,\n",
       "                      7, 19, 18])],\n",
       "             'F-Value': [array([ 0,  2, 15,  4, 17, 11, 10, 14, 16,  9,  1,  7, 13, 18,  6,  3, 19,\n",
       "                      5, 12,  8]),\n",
       "              array([ 0, 15,  2,  4, 10, 17,  5,  3, 14,  8,  1,  6,  7, 16, 12,  9, 11,\n",
       "                     18, 13, 19]),\n",
       "              array([ 0,  2, 15,  4, 12, 18, 10, 13, 14,  6,  1,  8, 17, 11,  3,  9, 16,\n",
       "                      7, 19,  5]),\n",
       "              array([ 0, 15,  2,  4, 17,  1, 10,  5,  8, 11, 14,  6, 18,  7,  3, 12, 19,\n",
       "                     13, 16,  9]),\n",
       "              array([ 0, 15,  2, 10,  4, 11, 17,  7,  1,  8, 16, 13, 12,  9,  3,  5, 14,\n",
       "                     19, 18,  6])]})"
      ]
     },
     "execution_count": 9,
     "metadata": {},
     "output_type": "execute_result"
    }
   ],
   "source": [
    "aa"
   ]
  },
  {
   "cell_type": "code",
   "execution_count": null,
   "metadata": {},
   "outputs": [],
   "source": []
  }
 ],
 "metadata": {
  "kernelspec": {
   "display_name": "fs",
   "language": "python",
   "name": "fs"
  },
  "language_info": {
   "codemirror_mode": {
    "name": "ipython",
    "version": 3
   },
   "file_extension": ".py",
   "mimetype": "text/x-python",
   "name": "python",
   "nbconvert_exporter": "python",
   "pygments_lexer": "ipython3",
   "version": "3.8.5"
  },
  "toc": {
   "base_numbering": 1,
   "nav_menu": {},
   "number_sections": true,
   "sideBar": true,
   "skip_h1_title": false,
   "title_cell": "Table of Contents",
   "title_sidebar": "Contents",
   "toc_cell": false,
   "toc_position": {},
   "toc_section_display": true,
   "toc_window_display": false
  },
  "varInspector": {
   "cols": {
    "lenName": 16,
    "lenType": 16,
    "lenVar": 40
   },
   "kernels_config": {
    "python": {
     "delete_cmd_postfix": "",
     "delete_cmd_prefix": "del ",
     "library": "var_list.py",
     "varRefreshCmd": "print(var_dic_list())"
    },
    "r": {
     "delete_cmd_postfix": ") ",
     "delete_cmd_prefix": "rm(",
     "library": "var_list.r",
     "varRefreshCmd": "cat(var_dic_list()) "
    }
   },
   "types_to_exclude": [
    "module",
    "function",
    "builtin_function_or_method",
    "instance",
    "_Feature"
   ],
   "window_display": false
  }
 },
 "nbformat": 4,
 "nbformat_minor": 4
}
