{
 "cells": [
  {
   "cell_type": "code",
   "execution_count": 1,
   "metadata": {
    "ExecuteTime": {
     "end_time": "2021-01-25T04:30:34.975094Z",
     "start_time": "2021-01-25T04:30:34.892889Z"
    }
   },
   "outputs": [],
   "source": [
    "import scipy.io"
   ]
  },
  {
   "cell_type": "code",
   "execution_count": 2,
   "metadata": {
    "ExecuteTime": {
     "end_time": "2021-01-25T04:31:02.390721Z",
     "start_time": "2021-01-25T04:31:02.383289Z"
    }
   },
   "outputs": [],
   "source": [
    "data = scipy.io.loadmat(\"data1.mat\")"
   ]
  },
  {
   "cell_type": "code",
   "execution_count": 3,
   "metadata": {
    "ExecuteTime": {
     "end_time": "2021-01-25T04:31:04.679120Z",
     "start_time": "2021-01-25T04:31:04.671140Z"
    }
   },
   "outputs": [
    {
     "data": {
      "text/plain": [
       "{'__header__': b'MATLAB 5.0 MAT-file, Platform: PCWIN64, Created on: Wed Jan  6 23:11:20 2021',\n",
       " '__version__': '1.0',\n",
       " '__globals__': [],\n",
       " 'SelectedFS': array([[ 1, 35,  2, 31, 34, 42, 17, 36, 29, 26, 43, 23, 27, 22, 28, 15,\n",
       "         25, 24, 19, 39, 18, 44, 16, 32, 38, 20, 10,  4, 45, 33, 30,  6,\n",
       "         12, 11]], dtype=uint8)}"
      ]
     },
     "execution_count": 3,
     "metadata": {},
     "output_type": "execute_result"
    }
   ],
   "source": [
    "data"
   ]
  },
  {
   "cell_type": "code",
   "execution_count": 4,
   "metadata": {
    "ExecuteTime": {
     "end_time": "2021-01-25T04:40:01.334058Z",
     "start_time": "2021-01-25T04:40:01.212175Z"
    }
   },
   "outputs": [
    {
     "name": "stdout",
     "output_type": "stream",
     "text": [
      "/Users/jithin/Dropbox/My Mac (bodhi)/Documents/Work/projects/work_Mohsen/simulations/Fourier_learning_code_submitted_NeurIPS_workspace/data/data_Mohsen/selected_features\r\n"
     ]
    }
   ],
   "source": [
    "!pwd"
   ]
  },
  {
   "cell_type": "code",
   "execution_count": 5,
   "metadata": {
    "ExecuteTime": {
     "end_time": "2021-01-25T04:43:16.819561Z",
     "start_time": "2021-01-25T04:43:16.816897Z"
    }
   },
   "outputs": [],
   "source": [
    "selected_features = np.array(data[\"SelectedFS\"]) - 1"
   ]
  },
  {
   "cell_type": "code",
   "execution_count": 8,
   "metadata": {
    "ExecuteTime": {
     "end_time": "2021-01-25T04:43:51.354525Z",
     "start_time": "2021-01-25T04:43:51.350513Z"
    }
   },
   "outputs": [
    {
     "data": {
      "text/plain": [
       "[0,\n",
       " 34,\n",
       " 1,\n",
       " 30,\n",
       " 33,\n",
       " 41,\n",
       " 16,\n",
       " 35,\n",
       " 28,\n",
       " 25,\n",
       " 42,\n",
       " 22,\n",
       " 26,\n",
       " 21,\n",
       " 27,\n",
       " 14,\n",
       " 24,\n",
       " 23,\n",
       " 18,\n",
       " 38,\n",
       " 17,\n",
       " 43,\n",
       " 15,\n",
       " 31,\n",
       " 37,\n",
       " 19,\n",
       " 9,\n",
       " 3,\n",
       " 44,\n",
       " 32,\n",
       " 29,\n",
       " 5,\n",
       " 11,\n",
       " 10]"
      ]
     },
     "execution_count": 8,
     "metadata": {},
     "output_type": "execute_result"
    }
   ],
   "source": [
    "list(selected_features.squeeze())"
   ]
  },
  {
   "cell_type": "code",
   "execution_count": 10,
   "metadata": {
    "ExecuteTime": {
     "end_time": "2021-01-25T06:07:05.749051Z",
     "start_time": "2021-01-25T06:07:05.691422Z"
    }
   },
   "outputs": [],
   "source": [
    "file = \"../Isolet.mat\"\n",
    "temp_data = scipy.io.loadmat(file)"
   ]
  },
  {
   "cell_type": "code",
   "execution_count": 12,
   "metadata": {
    "ExecuteTime": {
     "end_time": "2021-01-25T06:07:27.379028Z",
     "start_time": "2021-01-25T06:07:27.376524Z"
    }
   },
   "outputs": [],
   "source": [
    "y = temp_data['Y'].squeeze()"
   ]
  },
  {
   "cell_type": "code",
   "execution_count": 13,
   "metadata": {
    "ExecuteTime": {
     "end_time": "2021-01-25T06:07:29.713645Z",
     "start_time": "2021-01-25T06:07:29.710099Z"
    }
   },
   "outputs": [
    {
     "data": {
      "text/plain": [
       "array([ 1,  1,  1, ..., 26, 26, 26], dtype=uint8)"
      ]
     },
     "execution_count": 13,
     "metadata": {},
     "output_type": "execute_result"
    }
   ],
   "source": [
    "y"
   ]
  },
  {
   "cell_type": "code",
   "execution_count": 14,
   "metadata": {
    "ExecuteTime": {
     "end_time": "2021-01-25T14:15:35.670267Z",
     "start_time": "2021-01-25T14:15:35.661937Z"
    }
   },
   "outputs": [],
   "source": [
    "CHECK = True"
   ]
  },
  {
   "cell_type": "code",
   "execution_count": 15,
   "metadata": {
    "ExecuteTime": {
     "end_time": "2021-01-25T14:15:40.951123Z",
     "start_time": "2021-01-25T14:15:40.946746Z"
    }
   },
   "outputs": [
    {
     "data": {
      "text/plain": [
       "False"
      ]
     },
     "execution_count": 15,
     "metadata": {},
     "output_type": "execute_result"
    }
   ],
   "source": [
    "(not CHECK)"
   ]
  },
  {
   "cell_type": "code",
   "execution_count": null,
   "metadata": {},
   "outputs": [],
   "source": []
  }
 ],
 "metadata": {
  "kernelspec": {
   "display_name": "Python 3",
   "language": "python",
   "name": "python3"
  },
  "language_info": {
   "codemirror_mode": {
    "name": "ipython",
    "version": 3
   },
   "file_extension": ".py",
   "mimetype": "text/x-python",
   "name": "python",
   "nbconvert_exporter": "python",
   "pygments_lexer": "ipython3",
   "version": "3.8.3"
  },
  "toc": {
   "base_numbering": 1,
   "nav_menu": {},
   "number_sections": true,
   "sideBar": true,
   "skip_h1_title": false,
   "title_cell": "Table of Contents",
   "title_sidebar": "Contents",
   "toc_cell": false,
   "toc_position": {},
   "toc_section_display": true,
   "toc_window_display": false
  },
  "varInspector": {
   "cols": {
    "lenName": 16,
    "lenType": 16,
    "lenVar": 40
   },
   "kernels_config": {
    "python": {
     "delete_cmd_postfix": "",
     "delete_cmd_prefix": "del ",
     "library": "var_list.py",
     "varRefreshCmd": "print(var_dic_list())"
    },
    "r": {
     "delete_cmd_postfix": ") ",
     "delete_cmd_prefix": "rm(",
     "library": "var_list.r",
     "varRefreshCmd": "cat(var_dic_list()) "
    }
   },
   "types_to_exclude": [
    "module",
    "function",
    "builtin_function_or_method",
    "instance",
    "_Feature"
   ],
   "window_display": false
  }
 },
 "nbformat": 4,
 "nbformat_minor": 4
}
